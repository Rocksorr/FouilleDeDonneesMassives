{
 "cells": [
  {
   "cell_type": "code",
   "execution_count": 1,
   "id": "9867badf",
   "metadata": {},
   "outputs": [
    {
     "name": "stderr",
     "output_type": "stream",
     "text": [
      "C:\\Users\\spica\\AppData\\Local\\Temp\\ipykernel_2792\\2198844990.py:2: DtypeWarning: Columns (1,2,5,6,7,8,9,15,16,22) have mixed types. Specify dtype option on import or set low_memory=False.\n",
      "  df = pd.read_table(\"guillaume.txt\", sep=\";\")\n"
     ]
    },
    {
     "data": {
      "text/html": [
       "<div>\n",
       "<style scoped>\n",
       "    .dataframe tbody tr th:only-of-type {\n",
       "        vertical-align: middle;\n",
       "    }\n",
       "\n",
       "    .dataframe tbody tr th {\n",
       "        vertical-align: top;\n",
       "    }\n",
       "\n",
       "    .dataframe thead th {\n",
       "        text-align: right;\n",
       "    }\n",
       "</style>\n",
       "<table border=\"1\" class=\"dataframe\">\n",
       "  <thead>\n",
       "    <tr style=\"text-align: right;\">\n",
       "      <th></th>\n",
       "      <th>ZIBZIN</th>\n",
       "      <th>IDAvisAutorisationCheque</th>\n",
       "      <th>FlagImpaye</th>\n",
       "      <th>Montant</th>\n",
       "      <th>DateTransaction</th>\n",
       "      <th>CodeDecision</th>\n",
       "      <th>VerifianceCPT1</th>\n",
       "      <th>VerifianceCPT2</th>\n",
       "      <th>VerifianceCPT3</th>\n",
       "      <th>D2CB</th>\n",
       "      <th>...</th>\n",
       "      <th>TauxImpNb_RB</th>\n",
       "      <th>TauxImpNB_CPM</th>\n",
       "      <th>EcartNumCheq</th>\n",
       "      <th>NbrMagasin3J</th>\n",
       "      <th>DiffDateTr1</th>\n",
       "      <th>DiffDateTr2</th>\n",
       "      <th>DiffDateTr3</th>\n",
       "      <th>CA3TRetMtt</th>\n",
       "      <th>CA3TR</th>\n",
       "      <th>Heure</th>\n",
       "    </tr>\n",
       "  </thead>\n",
       "  <tbody>\n",
       "    <tr>\n",
       "      <th>0</th>\n",
       "      <td>A013010004908126703060931</td>\n",
       "      <td>78643044</td>\n",
       "      <td>0</td>\n",
       "      <td>20</td>\n",
       "      <td>2017-02-01 07:32:14</td>\n",
       "      <td>1</td>\n",
       "      <td>0</td>\n",
       "      <td>0</td>\n",
       "      <td>0</td>\n",
       "      <td>551</td>\n",
       "      <td>...</td>\n",
       "      <td>37,186667890919111</td>\n",
       "      <td>52,076033757361408</td>\n",
       "      <td>0</td>\n",
       "      <td>1</td>\n",
       "      <td>4</td>\n",
       "      <td>4</td>\n",
       "      <td>4</td>\n",
       "      <td>20</td>\n",
       "      <td>0</td>\n",
       "      <td>27134</td>\n",
       "    </tr>\n",
       "    <tr>\n",
       "      <th>1</th>\n",
       "      <td>A013011306908024927155000</td>\n",
       "      <td>78643045</td>\n",
       "      <td>0</td>\n",
       "      <td>20</td>\n",
       "      <td>2017-02-01 07:43:37</td>\n",
       "      <td>1</td>\n",
       "      <td>0</td>\n",
       "      <td>0</td>\n",
       "      <td>0</td>\n",
       "      <td>551</td>\n",
       "      <td>...</td>\n",
       "      <td>48,844716275908937</td>\n",
       "      <td>52,076033757361408</td>\n",
       "      <td>1</td>\n",
       "      <td>2</td>\n",
       "      <td>1,7976851851851852</td>\n",
       "      <td>4</td>\n",
       "      <td>4</td>\n",
       "      <td>28,609999999999999</td>\n",
       "      <td>8,6099999999999994</td>\n",
       "      <td>27817</td>\n",
       "    </tr>\n",
       "    <tr>\n",
       "      <th>2</th>\n",
       "      <td>A013010002908283134592527</td>\n",
       "      <td>78643046</td>\n",
       "      <td>0</td>\n",
       "      <td>57,640000000000001</td>\n",
       "      <td>2017-02-01 07:47:38</td>\n",
       "      <td>1</td>\n",
       "      <td>0</td>\n",
       "      <td>0</td>\n",
       "      <td>0</td>\n",
       "      <td>549</td>\n",
       "      <td>...</td>\n",
       "      <td>73,118279569892479</td>\n",
       "      <td>52,076033757361408</td>\n",
       "      <td>0</td>\n",
       "      <td>1</td>\n",
       "      <td>4</td>\n",
       "      <td>4</td>\n",
       "      <td>4</td>\n",
       "      <td>57,640000000000001</td>\n",
       "      <td>0</td>\n",
       "      <td>28058</td>\n",
       "    </tr>\n",
       "    <tr>\n",
       "      <th>3</th>\n",
       "      <td>A011010002908105209831316</td>\n",
       "      <td>78643047</td>\n",
       "      <td>0</td>\n",
       "      <td>54,289999999999999</td>\n",
       "      <td>2017-02-01 07:48:48</td>\n",
       "      <td>0</td>\n",
       "      <td>1</td>\n",
       "      <td>1</td>\n",
       "      <td>1</td>\n",
       "      <td>267</td>\n",
       "      <td>...</td>\n",
       "      <td>110,05692599620494</td>\n",
       "      <td>53,554233554497365</td>\n",
       "      <td>0</td>\n",
       "      <td>1</td>\n",
       "      <td>4</td>\n",
       "      <td>4</td>\n",
       "      <td>4</td>\n",
       "      <td>54,289999999999999</td>\n",
       "      <td>0</td>\n",
       "      <td>28128</td>\n",
       "    </tr>\n",
       "    <tr>\n",
       "      <th>4</th>\n",
       "      <td>A013010041908000125652029</td>\n",
       "      <td>78643048</td>\n",
       "      <td>0</td>\n",
       "      <td>26,899999999999999</td>\n",
       "      <td>2017-02-01 08:13:27</td>\n",
       "      <td>1</td>\n",
       "      <td>0</td>\n",
       "      <td>0</td>\n",
       "      <td>0</td>\n",
       "      <td>549</td>\n",
       "      <td>...</td>\n",
       "      <td>45,36831264567185</td>\n",
       "      <td>52,076033757361408</td>\n",
       "      <td>1</td>\n",
       "      <td>1</td>\n",
       "      <td>1,9971064814814814</td>\n",
       "      <td>4</td>\n",
       "      <td>4</td>\n",
       "      <td>59,149999999999999</td>\n",
       "      <td>32,25</td>\n",
       "      <td>29607</td>\n",
       "    </tr>\n",
       "  </tbody>\n",
       "</table>\n",
       "<p>5 rows × 23 columns</p>\n",
       "</div>"
      ],
      "text/plain": [
       "                      ZIBZIN IDAvisAutorisationCheque FlagImpaye  \\\n",
       "0  A013010004908126703060931                 78643044          0   \n",
       "1  A013011306908024927155000                 78643045          0   \n",
       "2  A013010002908283134592527                 78643046          0   \n",
       "3  A011010002908105209831316                 78643047          0   \n",
       "4  A013010041908000125652029                 78643048          0   \n",
       "\n",
       "              Montant      DateTransaction CodeDecision VerifianceCPT1  \\\n",
       "0                  20  2017-02-01 07:32:14            1              0   \n",
       "1                  20  2017-02-01 07:43:37            1              0   \n",
       "2  57,640000000000001  2017-02-01 07:47:38            1              0   \n",
       "3  54,289999999999999  2017-02-01 07:48:48            0              1   \n",
       "4  26,899999999999999  2017-02-01 08:13:27            1              0   \n",
       "\n",
       "  VerifianceCPT2 VerifianceCPT3 D2CB  ...        TauxImpNb_RB  \\\n",
       "0              0              0  551  ...  37,186667890919111   \n",
       "1              0              0  551  ...  48,844716275908937   \n",
       "2              0              0  549  ...  73,118279569892479   \n",
       "3              1              1  267  ...  110,05692599620494   \n",
       "4              0              0  549  ...   45,36831264567185   \n",
       "\n",
       "        TauxImpNB_CPM EcartNumCheq NbrMagasin3J         DiffDateTr1  \\\n",
       "0  52,076033757361408            0            1                   4   \n",
       "1  52,076033757361408            1            2  1,7976851851851852   \n",
       "2  52,076033757361408            0            1                   4   \n",
       "3  53,554233554497365            0            1                   4   \n",
       "4  52,076033757361408            1            1  1,9971064814814814   \n",
       "\n",
       "  DiffDateTr2 DiffDateTr3          CA3TRetMtt               CA3TR  Heure  \n",
       "0           4           4                  20                   0  27134  \n",
       "1           4           4  28,609999999999999  8,6099999999999994  27817  \n",
       "2           4           4  57,640000000000001                   0  28058  \n",
       "3           4           4  54,289999999999999                   0  28128  \n",
       "4           4           4  59,149999999999999               32,25  29607  \n",
       "\n",
       "[5 rows x 23 columns]"
      ]
     },
     "execution_count": 1,
     "metadata": {},
     "output_type": "execute_result"
    }
   ],
   "source": [
    "import pandas as pd\n",
    "df = pd.read_table(\"guillaume.txt\", sep=\";\")\n",
    "df.head()"
   ]
  },
  {
   "cell_type": "code",
   "execution_count": 2,
   "id": "f311a317",
   "metadata": {},
   "outputs": [
    {
     "data": {
      "text/plain": [
       "4646774"
      ]
     },
     "execution_count": 2,
     "metadata": {},
     "output_type": "execute_result"
    }
   ],
   "source": [
    "len(df)"
   ]
  },
  {
   "cell_type": "markdown",
   "id": "bdedcac0",
   "metadata": {},
   "source": [
    "# Nettoyage "
   ]
  },
  {
   "cell_type": "markdown",
   "id": "0d1c0842",
   "metadata": {},
   "source": [
    "On supprime la ligne 1956360 qui comporte comme valeur pour chaque colonne l'en-tête"
   ]
  },
  {
   "cell_type": "code",
   "execution_count": 3,
   "id": "3269792b",
   "metadata": {},
   "outputs": [],
   "source": [
    "df.drop(1956360, axis=0, inplace=True)"
   ]
  },
  {
   "cell_type": "markdown",
   "id": "39e7f866",
   "metadata": {},
   "source": [
    "On change le type des variables quantitatives"
   ]
  },
  {
   "cell_type": "code",
   "execution_count": 4,
   "id": "07e155e3",
   "metadata": {},
   "outputs": [],
   "source": [
    "var_quanti = [\"Montant\",\"ScoringFP1\",\"ScoringFP2\",\"ScoringFP3\",\"TauxImpNb_RB\",\"TauxImpNB_CPM\",\"DiffDateTr1\",\"DiffDateTr2\",\"DiffDateTr3\",\"CA3TRetMtt\",\"CA3TR\"]\n",
    "var_quanti_bug = [\"VerifianceCPT1\",\"VerifianceCPT2\",\"VerifianceCPT3\",\"EcartNumCheq\",\"NbrMagasin3J\",\"D2CB\"]\n",
    "new_df=df\n",
    "\n",
    "for i in var_quanti_bug:\n",
    "    new_df[i] = pd.to_numeric(new_df[i], downcast=\"float\")\n",
    "# On change le type des données\n",
    "for i in var_quanti:\n",
    "    new_df[i] = new_df[i].str.replace(\",\",\".\")\n",
    "    new_df[i] = pd.to_numeric(new_df[i], downcast=\"float\")"
   ]
  },
  {
   "cell_type": "code",
   "execution_count": 5,
   "id": "08bed459",
   "metadata": {},
   "outputs": [],
   "source": [
    "import datetime  \n",
    "\n",
    "date = []\n",
    "heure = []\n",
    "\n",
    "\n",
    "for i in new_df[\"DateTransaction\"]:\n",
    "    split = i.split(\" \")\n",
    "    date.append(split[0])\n",
    "    heure.append(split[1])\n",
    "\n",
    "for i in range(0,len(date)):\n",
    "    date[i] = datetime.datetime.strptime(date[i], '%Y-%m-%d')\n",
    "\n"
   ]
  },
  {
   "cell_type": "code",
   "execution_count": 6,
   "id": "099b70ac",
   "metadata": {},
   "outputs": [],
   "source": [
    "new_df[\"DateTransaction\"]=date\n",
    "new_df[\"Heure\"]=heure"
   ]
  },
  {
   "cell_type": "markdown",
   "id": "e92cc69d",
   "metadata": {},
   "source": [
    "On s'occupe des des valeurs manquantes "
   ]
  },
  {
   "cell_type": "code",
   "execution_count": 7,
   "id": "7f57b8c3",
   "metadata": {},
   "outputs": [
    {
     "name": "stdout",
     "output_type": "stream",
     "text": [
      "ZIBZIN                      0\n",
      "IDAvisAutorisationCheque    0\n",
      "FlagImpaye                  0\n",
      "Montant                     0\n",
      "DateTransaction             0\n",
      "CodeDecision                0\n",
      "VerifianceCPT1              0\n",
      "VerifianceCPT2              0\n",
      "VerifianceCPT3              0\n",
      "D2CB                        0\n",
      "ScoringFP1                  0\n",
      "ScoringFP2                  0\n",
      "ScoringFP3                  0\n",
      "TauxImpNb_RB                0\n",
      "TauxImpNB_CPM               0\n",
      "EcartNumCheq                0\n",
      "NbrMagasin3J                0\n",
      "DiffDateTr1                 0\n",
      "DiffDateTr2                 0\n",
      "DiffDateTr3                 0\n",
      "CA3TRetMtt                  0\n",
      "CA3TR                       0\n",
      "Heure                       0\n",
      "dtype: int64\n"
     ]
    }
   ],
   "source": [
    "print(new_df.isna().sum())"
   ]
  },
  {
   "cell_type": "markdown",
   "id": "f55f09ba",
   "metadata": {},
   "source": [
    "Aucune valeur manquantes"
   ]
  },
  {
   "cell_type": "markdown",
   "id": "6b8b58c6",
   "metadata": {},
   "source": [
    "On nettoie la colonne FlagImpaye"
   ]
  },
  {
   "cell_type": "code",
   "execution_count": 8,
   "id": "7fc5bb6e",
   "metadata": {},
   "outputs": [
    {
     "data": {
      "text/plain": [
       "0    4584151\n",
       "0      32627\n",
       "1      29855\n",
       "1        140\n",
       "Name: FlagImpaye, dtype: int64"
      ]
     },
     "execution_count": 8,
     "metadata": {},
     "output_type": "execute_result"
    }
   ],
   "source": [
    "new_df.FlagImpaye.value_counts()"
   ]
  },
  {
   "cell_type": "code",
   "execution_count": 9,
   "id": "f7243eff",
   "metadata": {},
   "outputs": [
    {
     "data": {
      "text/plain": [
       "0    0.993545\n",
       "1    0.006455\n",
       "Name: FlagImpaye, dtype: float64"
      ]
     },
     "execution_count": 9,
     "metadata": {},
     "output_type": "execute_result"
    }
   ],
   "source": [
    "new_df.FlagImpaye=new_df.FlagImpaye.replace(0,\"0\")\n",
    "new_df.FlagImpaye=new_df.FlagImpaye.replace(1,\"1\")\n",
    "new_df.FlagImpaye.value_counts(normalize=True)"
   ]
  },
  {
   "cell_type": "code",
   "execution_count": 10,
   "id": "78b2c987",
   "metadata": {},
   "outputs": [],
   "source": [
    "train_df=new_df[(new_df[\"DateTransaction\"]>='2017-02-01') & (new_df[\"DateTransaction\"]<='2017-08-31')]\n",
    "test_df=new_df[(new_df[\"DateTransaction\"]>'2017-08-31')]"
   ]
  },
  {
   "cell_type": "code",
   "execution_count": 11,
   "id": "07c3217f",
   "metadata": {},
   "outputs": [
    {
     "data": {
      "text/plain": [
       "23422"
      ]
     },
     "execution_count": 11,
     "metadata": {},
     "output_type": "execute_result"
    }
   ],
   "source": [
    "Y_train = train_df.FlagImpaye\n",
    "Y_test = test_df.FlagImpaye\n",
    "X_train = train_df.drop(columns=[\"FlagImpaye\",\"ZIBZIN\",\"IDAvisAutorisationCheque\",\"CodeDecision\",\"DateTransaction\",\"Heure\"])\n",
    "X_test = test_df.drop(columns=[\"FlagImpaye\",\"ZIBZIN\",\"IDAvisAutorisationCheque\",\"CodeDecision\",\"DateTransaction\",\"Heure\"])\n",
    "len(Y_train[Y_train==\"1\"])"
   ]
  },
  {
   "cell_type": "markdown",
   "id": "fdb7898a",
   "metadata": {},
   "source": [
    "# SAMPLING"
   ]
  },
  {
   "cell_type": "code",
   "execution_count": 12,
   "id": "463704f2",
   "metadata": {},
   "outputs": [],
   "source": [
    "train_df=new_df[(new_df[\"DateTransaction\"]>='2017-02-01') & (new_df[\"DateTransaction\"]<='2017-08-31')]\n",
    "test_df=new_df[(new_df[\"DateTransaction\"]>'2017-08-31')]"
   ]
  },
  {
   "cell_type": "code",
   "execution_count": 13,
   "id": "7bb6d673",
   "metadata": {},
   "outputs": [
    {
     "data": {
      "text/plain": [
       "23422"
      ]
     },
     "execution_count": 13,
     "metadata": {},
     "output_type": "execute_result"
    }
   ],
   "source": [
    "Y_train = train_df.FlagImpaye\n",
    "Y_test = test_df.FlagImpaye\n",
    "X_train = train_df.drop(columns=[\"FlagImpaye\",\"ZIBZIN\",\"IDAvisAutorisationCheque\",\"CodeDecision\",\"DateTransaction\",\"Heure\"])\n",
    "X_test = test_df.drop(columns=[\"FlagImpaye\",\"ZIBZIN\",\"IDAvisAutorisationCheque\",\"CodeDecision\",\"DateTransaction\",\"Heure\"])\n",
    "len(Y_train[Y_train==\"1\"])"
   ]
  },
  {
   "cell_type": "markdown",
   "id": "b391caa0",
   "metadata": {},
   "source": [
    "# MACHINE LEARNING"
   ]
  },
  {
   "cell_type": "markdown",
   "id": "5c43b6fb",
   "metadata": {},
   "source": [
    "## UNDERSAMPLING : 0.9 - 0.1 sur 100 000 individus"
   ]
  },
  {
   "cell_type": "code",
   "execution_count": 14,
   "id": "f7a12ed3",
   "metadata": {},
   "outputs": [
    {
     "data": {
      "text/plain": [
       "100000"
      ]
     },
     "execution_count": 14,
     "metadata": {},
     "output_type": "execute_result"
    }
   ],
   "source": [
    "from imblearn.under_sampling import RandomUnderSampler\n",
    "\n",
    "rus = RandomUnderSampler(sampling_strategy={\"0\": 99000, \"1\": 1000})\n",
    "rus.fit(X_train, Y_train)\n",
    "X_train_resampled, Y_train_resampled = rus.fit_resample(X_train, Y_train)\n",
    "len(X_train_resampled)"
   ]
  },
  {
   "cell_type": "code",
   "execution_count": 15,
   "id": "2c2f4a8b",
   "metadata": {},
   "outputs": [
    {
     "data": {
      "text/plain": [
       "0    0.99\n",
       "1    0.01\n",
       "Name: FlagImpaye, dtype: float64"
      ]
     },
     "execution_count": 15,
     "metadata": {},
     "output_type": "execute_result"
    }
   ],
   "source": [
    "Y_train_resampled.value_counts(normalize=True)"
   ]
  },
  {
   "cell_type": "code",
   "execution_count": 16,
   "id": "bca32d20",
   "metadata": {},
   "outputs": [],
   "source": [
    "best_f = 0"
   ]
  },
  {
   "cell_type": "markdown",
   "id": "60019eb1",
   "metadata": {},
   "source": [
    "### Arbre de décision"
   ]
  },
  {
   "cell_type": "code",
   "execution_count": 17,
   "id": "0bcdb512",
   "metadata": {},
   "outputs": [],
   "source": [
    "from sklearn.tree import DecisionTreeClassifier\n",
    "from sklearn.model_selection import GridSearchCV\n",
    "from sklearn.metrics import make_scorer, accuracy_score\n",
    "import numpy as np\n",
    "\n",
    "parameters = {'max_depth' : np.arange(start = 16, stop = 24, step = 1) , \n",
    "              'min_samples_leaf' : np.arange(start = 2, stop = 4, step = 1),\n",
    "              'min_samples_split' : np.arange(start = 2, stop = 5, step = 1)}"
   ]
  },
  {
   "cell_type": "code",
   "execution_count": 18,
   "id": "06071d86",
   "metadata": {},
   "outputs": [
    {
     "name": "stdout",
     "output_type": "stream",
     "text": [
      "Fitting 5 folds for each of 48 candidates, totalling 240 fits\n",
      "[CV] END max_depth=16, min_samples_leaf=2, min_samples_split=2; total time=   1.1s\n",
      "[CV] END max_depth=16, min_samples_leaf=2, min_samples_split=2; total time=   1.1s\n",
      "[CV] END max_depth=16, min_samples_leaf=2, min_samples_split=2; total time=   1.0s\n",
      "[CV] END max_depth=16, min_samples_leaf=2, min_samples_split=2; total time=   0.9s\n",
      "[CV] END max_depth=16, min_samples_leaf=2, min_samples_split=2; total time=   1.1s\n",
      "[CV] END max_depth=16, min_samples_leaf=2, min_samples_split=3; total time=   1.1s\n",
      "[CV] END max_depth=16, min_samples_leaf=2, min_samples_split=3; total time=   1.1s\n",
      "[CV] END max_depth=16, min_samples_leaf=2, min_samples_split=3; total time=   1.1s\n",
      "[CV] END max_depth=16, min_samples_leaf=2, min_samples_split=3; total time=   1.1s\n",
      "[CV] END max_depth=16, min_samples_leaf=2, min_samples_split=3; total time=   1.1s\n",
      "[CV] END max_depth=16, min_samples_leaf=2, min_samples_split=4; total time=   1.0s\n",
      "[CV] END max_depth=16, min_samples_leaf=2, min_samples_split=4; total time=   1.0s\n",
      "[CV] END max_depth=16, min_samples_leaf=2, min_samples_split=4; total time=   1.0s\n",
      "[CV] END max_depth=16, min_samples_leaf=2, min_samples_split=4; total time=   1.0s\n",
      "[CV] END max_depth=16, min_samples_leaf=2, min_samples_split=4; total time=   1.0s\n",
      "[CV] END max_depth=16, min_samples_leaf=3, min_samples_split=2; total time=   1.1s\n",
      "[CV] END max_depth=16, min_samples_leaf=3, min_samples_split=2; total time=   1.2s\n",
      "[CV] END max_depth=16, min_samples_leaf=3, min_samples_split=2; total time=   1.2s\n",
      "[CV] END max_depth=16, min_samples_leaf=3, min_samples_split=2; total time=   1.1s\n",
      "[CV] END max_depth=16, min_samples_leaf=3, min_samples_split=2; total time=   1.3s\n",
      "[CV] END max_depth=16, min_samples_leaf=3, min_samples_split=3; total time=   1.2s\n",
      "[CV] END max_depth=16, min_samples_leaf=3, min_samples_split=3; total time=   1.1s\n",
      "[CV] END max_depth=16, min_samples_leaf=3, min_samples_split=3; total time=   1.0s\n",
      "[CV] END max_depth=16, min_samples_leaf=3, min_samples_split=3; total time=   1.0s\n",
      "[CV] END max_depth=16, min_samples_leaf=3, min_samples_split=3; total time=   1.1s\n",
      "[CV] END max_depth=16, min_samples_leaf=3, min_samples_split=4; total time=   1.0s\n",
      "[CV] END max_depth=16, min_samples_leaf=3, min_samples_split=4; total time=   1.0s\n",
      "[CV] END max_depth=16, min_samples_leaf=3, min_samples_split=4; total time=   1.1s\n",
      "[CV] END max_depth=16, min_samples_leaf=3, min_samples_split=4; total time=   1.0s\n",
      "[CV] END max_depth=16, min_samples_leaf=3, min_samples_split=4; total time=   1.1s\n",
      "[CV] END max_depth=17, min_samples_leaf=2, min_samples_split=2; total time=   1.0s\n",
      "[CV] END max_depth=17, min_samples_leaf=2, min_samples_split=2; total time=   1.0s\n",
      "[CV] END max_depth=17, min_samples_leaf=2, min_samples_split=2; total time=   1.0s\n",
      "[CV] END max_depth=17, min_samples_leaf=2, min_samples_split=2; total time=   1.1s\n",
      "[CV] END max_depth=17, min_samples_leaf=2, min_samples_split=2; total time=   1.1s\n",
      "[CV] END max_depth=17, min_samples_leaf=2, min_samples_split=3; total time=   1.1s\n",
      "[CV] END max_depth=17, min_samples_leaf=2, min_samples_split=3; total time=   1.0s\n",
      "[CV] END max_depth=17, min_samples_leaf=2, min_samples_split=3; total time=   1.1s\n",
      "[CV] END max_depth=17, min_samples_leaf=2, min_samples_split=3; total time=   1.0s\n",
      "[CV] END max_depth=17, min_samples_leaf=2, min_samples_split=3; total time=   1.1s\n",
      "[CV] END max_depth=17, min_samples_leaf=2, min_samples_split=4; total time=   1.0s\n",
      "[CV] END max_depth=17, min_samples_leaf=2, min_samples_split=4; total time=   1.2s\n",
      "[CV] END max_depth=17, min_samples_leaf=2, min_samples_split=4; total time=   1.1s\n",
      "[CV] END max_depth=17, min_samples_leaf=2, min_samples_split=4; total time=   1.1s\n",
      "[CV] END max_depth=17, min_samples_leaf=2, min_samples_split=4; total time=   1.1s\n",
      "[CV] END max_depth=17, min_samples_leaf=3, min_samples_split=2; total time=   1.0s\n",
      "[CV] END max_depth=17, min_samples_leaf=3, min_samples_split=2; total time=   1.0s\n",
      "[CV] END max_depth=17, min_samples_leaf=3, min_samples_split=2; total time=   1.1s\n",
      "[CV] END max_depth=17, min_samples_leaf=3, min_samples_split=2; total time=   1.1s\n",
      "[CV] END max_depth=17, min_samples_leaf=3, min_samples_split=2; total time=   1.1s\n",
      "[CV] END max_depth=17, min_samples_leaf=3, min_samples_split=3; total time=   1.2s\n",
      "[CV] END max_depth=17, min_samples_leaf=3, min_samples_split=3; total time=   1.1s\n",
      "[CV] END max_depth=17, min_samples_leaf=3, min_samples_split=3; total time=   1.1s\n",
      "[CV] END max_depth=17, min_samples_leaf=3, min_samples_split=3; total time=   1.1s\n",
      "[CV] END max_depth=17, min_samples_leaf=3, min_samples_split=3; total time=   1.1s\n",
      "[CV] END max_depth=17, min_samples_leaf=3, min_samples_split=4; total time=   1.0s\n",
      "[CV] END max_depth=17, min_samples_leaf=3, min_samples_split=4; total time=   1.0s\n",
      "[CV] END max_depth=17, min_samples_leaf=3, min_samples_split=4; total time=   1.0s\n",
      "[CV] END max_depth=17, min_samples_leaf=3, min_samples_split=4; total time=   1.0s\n",
      "[CV] END max_depth=17, min_samples_leaf=3, min_samples_split=4; total time=   1.1s\n",
      "[CV] END max_depth=18, min_samples_leaf=2, min_samples_split=2; total time=   1.4s\n",
      "[CV] END max_depth=18, min_samples_leaf=2, min_samples_split=2; total time=   1.2s\n",
      "[CV] END max_depth=18, min_samples_leaf=2, min_samples_split=2; total time=   1.4s\n",
      "[CV] END max_depth=18, min_samples_leaf=2, min_samples_split=2; total time=   1.5s\n",
      "[CV] END max_depth=18, min_samples_leaf=2, min_samples_split=2; total time=   1.4s\n",
      "[CV] END max_depth=18, min_samples_leaf=2, min_samples_split=3; total time=   1.4s\n",
      "[CV] END max_depth=18, min_samples_leaf=2, min_samples_split=3; total time=   1.3s\n",
      "[CV] END max_depth=18, min_samples_leaf=2, min_samples_split=3; total time=   1.4s\n",
      "[CV] END max_depth=18, min_samples_leaf=2, min_samples_split=3; total time=   1.4s\n",
      "[CV] END max_depth=18, min_samples_leaf=2, min_samples_split=3; total time=   1.4s\n",
      "[CV] END max_depth=18, min_samples_leaf=2, min_samples_split=4; total time=   1.4s\n",
      "[CV] END max_depth=18, min_samples_leaf=2, min_samples_split=4; total time=   1.3s\n",
      "[CV] END max_depth=18, min_samples_leaf=2, min_samples_split=4; total time=   1.4s\n",
      "[CV] END max_depth=18, min_samples_leaf=2, min_samples_split=4; total time=   1.4s\n",
      "[CV] END max_depth=18, min_samples_leaf=2, min_samples_split=4; total time=   1.5s\n",
      "[CV] END max_depth=18, min_samples_leaf=3, min_samples_split=2; total time=   1.3s\n",
      "[CV] END max_depth=18, min_samples_leaf=3, min_samples_split=2; total time=   1.3s\n",
      "[CV] END max_depth=18, min_samples_leaf=3, min_samples_split=2; total time=   1.5s\n",
      "[CV] END max_depth=18, min_samples_leaf=3, min_samples_split=2; total time=   1.3s\n",
      "[CV] END max_depth=18, min_samples_leaf=3, min_samples_split=2; total time=   1.4s\n",
      "[CV] END max_depth=18, min_samples_leaf=3, min_samples_split=3; total time=   1.3s\n",
      "[CV] END max_depth=18, min_samples_leaf=3, min_samples_split=3; total time=   1.4s\n",
      "[CV] END max_depth=18, min_samples_leaf=3, min_samples_split=3; total time=   1.2s\n",
      "[CV] END max_depth=18, min_samples_leaf=3, min_samples_split=3; total time=   1.3s\n",
      "[CV] END max_depth=18, min_samples_leaf=3, min_samples_split=3; total time=   1.4s\n",
      "[CV] END max_depth=18, min_samples_leaf=3, min_samples_split=4; total time=   1.4s\n",
      "[CV] END max_depth=18, min_samples_leaf=3, min_samples_split=4; total time=   1.4s\n",
      "[CV] END max_depth=18, min_samples_leaf=3, min_samples_split=4; total time=   1.4s\n",
      "[CV] END max_depth=18, min_samples_leaf=3, min_samples_split=4; total time=   1.4s\n",
      "[CV] END max_depth=18, min_samples_leaf=3, min_samples_split=4; total time=   1.4s\n",
      "[CV] END max_depth=19, min_samples_leaf=2, min_samples_split=2; total time=   1.4s\n",
      "[CV] END max_depth=19, min_samples_leaf=2, min_samples_split=2; total time=   1.4s\n",
      "[CV] END max_depth=19, min_samples_leaf=2, min_samples_split=2; total time=   1.6s\n",
      "[CV] END max_depth=19, min_samples_leaf=2, min_samples_split=2; total time=   1.5s\n",
      "[CV] END max_depth=19, min_samples_leaf=2, min_samples_split=2; total time=   1.4s\n",
      "[CV] END max_depth=19, min_samples_leaf=2, min_samples_split=3; total time=   1.4s\n",
      "[CV] END max_depth=19, min_samples_leaf=2, min_samples_split=3; total time=   1.4s\n",
      "[CV] END max_depth=19, min_samples_leaf=2, min_samples_split=3; total time=   1.4s\n"
     ]
    },
    {
     "name": "stdout",
     "output_type": "stream",
     "text": [
      "[CV] END max_depth=19, min_samples_leaf=2, min_samples_split=3; total time=   1.4s\n",
      "[CV] END max_depth=19, min_samples_leaf=2, min_samples_split=3; total time=   1.4s\n",
      "[CV] END max_depth=19, min_samples_leaf=2, min_samples_split=4; total time=   1.4s\n",
      "[CV] END max_depth=19, min_samples_leaf=2, min_samples_split=4; total time=   1.4s\n",
      "[CV] END max_depth=19, min_samples_leaf=2, min_samples_split=4; total time=   1.3s\n",
      "[CV] END max_depth=19, min_samples_leaf=2, min_samples_split=4; total time=   1.3s\n",
      "[CV] END max_depth=19, min_samples_leaf=2, min_samples_split=4; total time=   1.5s\n",
      "[CV] END max_depth=19, min_samples_leaf=3, min_samples_split=2; total time=   1.3s\n",
      "[CV] END max_depth=19, min_samples_leaf=3, min_samples_split=2; total time=   1.3s\n",
      "[CV] END max_depth=19, min_samples_leaf=3, min_samples_split=2; total time=   1.4s\n",
      "[CV] END max_depth=19, min_samples_leaf=3, min_samples_split=2; total time=   1.3s\n",
      "[CV] END max_depth=19, min_samples_leaf=3, min_samples_split=2; total time=   1.4s\n",
      "[CV] END max_depth=19, min_samples_leaf=3, min_samples_split=3; total time=   1.5s\n",
      "[CV] END max_depth=19, min_samples_leaf=3, min_samples_split=3; total time=   1.4s\n",
      "[CV] END max_depth=19, min_samples_leaf=3, min_samples_split=3; total time=   1.4s\n",
      "[CV] END max_depth=19, min_samples_leaf=3, min_samples_split=3; total time=   1.4s\n",
      "[CV] END max_depth=19, min_samples_leaf=3, min_samples_split=3; total time=   1.5s\n",
      "[CV] END max_depth=19, min_samples_leaf=3, min_samples_split=4; total time=   1.4s\n",
      "[CV] END max_depth=19, min_samples_leaf=3, min_samples_split=4; total time=   1.4s\n",
      "[CV] END max_depth=19, min_samples_leaf=3, min_samples_split=4; total time=   1.4s\n",
      "[CV] END max_depth=19, min_samples_leaf=3, min_samples_split=4; total time=   1.4s\n",
      "[CV] END max_depth=19, min_samples_leaf=3, min_samples_split=4; total time=   1.4s\n",
      "[CV] END max_depth=20, min_samples_leaf=2, min_samples_split=2; total time=   1.4s\n",
      "[CV] END max_depth=20, min_samples_leaf=2, min_samples_split=2; total time=   1.4s\n",
      "[CV] END max_depth=20, min_samples_leaf=2, min_samples_split=2; total time=   1.5s\n",
      "[CV] END max_depth=20, min_samples_leaf=2, min_samples_split=2; total time=   1.5s\n",
      "[CV] END max_depth=20, min_samples_leaf=2, min_samples_split=2; total time=   1.5s\n",
      "[CV] END max_depth=20, min_samples_leaf=2, min_samples_split=3; total time=   1.6s\n",
      "[CV] END max_depth=20, min_samples_leaf=2, min_samples_split=3; total time=   1.4s\n",
      "[CV] END max_depth=20, min_samples_leaf=2, min_samples_split=3; total time=   1.5s\n",
      "[CV] END max_depth=20, min_samples_leaf=2, min_samples_split=3; total time=   1.4s\n",
      "[CV] END max_depth=20, min_samples_leaf=2, min_samples_split=3; total time=   1.4s\n",
      "[CV] END max_depth=20, min_samples_leaf=2, min_samples_split=4; total time=   1.4s\n",
      "[CV] END max_depth=20, min_samples_leaf=2, min_samples_split=4; total time=   1.6s\n",
      "[CV] END max_depth=20, min_samples_leaf=2, min_samples_split=4; total time=   1.4s\n",
      "[CV] END max_depth=20, min_samples_leaf=2, min_samples_split=4; total time=   1.3s\n",
      "[CV] END max_depth=20, min_samples_leaf=2, min_samples_split=4; total time=   1.4s\n",
      "[CV] END max_depth=20, min_samples_leaf=3, min_samples_split=2; total time=   1.4s\n",
      "[CV] END max_depth=20, min_samples_leaf=3, min_samples_split=2; total time=   1.5s\n",
      "[CV] END max_depth=20, min_samples_leaf=3, min_samples_split=2; total time=   1.5s\n",
      "[CV] END max_depth=20, min_samples_leaf=3, min_samples_split=2; total time=   1.5s\n",
      "[CV] END max_depth=20, min_samples_leaf=3, min_samples_split=2; total time=   1.5s\n",
      "[CV] END max_depth=20, min_samples_leaf=3, min_samples_split=3; total time=   1.4s\n",
      "[CV] END max_depth=20, min_samples_leaf=3, min_samples_split=3; total time=   1.3s\n",
      "[CV] END max_depth=20, min_samples_leaf=3, min_samples_split=3; total time=   1.5s\n",
      "[CV] END max_depth=20, min_samples_leaf=3, min_samples_split=3; total time=   1.4s\n",
      "[CV] END max_depth=20, min_samples_leaf=3, min_samples_split=3; total time=   1.5s\n",
      "[CV] END max_depth=20, min_samples_leaf=3, min_samples_split=4; total time=   1.5s\n",
      "[CV] END max_depth=20, min_samples_leaf=3, min_samples_split=4; total time=   1.4s\n",
      "[CV] END max_depth=20, min_samples_leaf=3, min_samples_split=4; total time=   1.5s\n",
      "[CV] END max_depth=20, min_samples_leaf=3, min_samples_split=4; total time=   1.4s\n",
      "[CV] END max_depth=20, min_samples_leaf=3, min_samples_split=4; total time=   1.4s\n",
      "[CV] END max_depth=21, min_samples_leaf=2, min_samples_split=2; total time=   1.4s\n",
      "[CV] END max_depth=21, min_samples_leaf=2, min_samples_split=2; total time=   1.4s\n",
      "[CV] END max_depth=21, min_samples_leaf=2, min_samples_split=2; total time=   1.5s\n",
      "[CV] END max_depth=21, min_samples_leaf=2, min_samples_split=2; total time=   1.5s\n",
      "[CV] END max_depth=21, min_samples_leaf=2, min_samples_split=2; total time=   1.5s\n",
      "[CV] END max_depth=21, min_samples_leaf=2, min_samples_split=3; total time=   1.5s\n",
      "[CV] END max_depth=21, min_samples_leaf=2, min_samples_split=3; total time=   1.5s\n",
      "[CV] END max_depth=21, min_samples_leaf=2, min_samples_split=3; total time=   1.4s\n",
      "[CV] END max_depth=21, min_samples_leaf=2, min_samples_split=3; total time=   1.5s\n",
      "[CV] END max_depth=21, min_samples_leaf=2, min_samples_split=3; total time=   1.5s\n",
      "[CV] END max_depth=21, min_samples_leaf=2, min_samples_split=4; total time=   1.4s\n",
      "[CV] END max_depth=21, min_samples_leaf=2, min_samples_split=4; total time=   1.4s\n",
      "[CV] END max_depth=21, min_samples_leaf=2, min_samples_split=4; total time=   1.6s\n",
      "[CV] END max_depth=21, min_samples_leaf=2, min_samples_split=4; total time=   1.4s\n",
      "[CV] END max_depth=21, min_samples_leaf=2, min_samples_split=4; total time=   1.5s\n",
      "[CV] END max_depth=21, min_samples_leaf=3, min_samples_split=2; total time=   1.5s\n",
      "[CV] END max_depth=21, min_samples_leaf=3, min_samples_split=2; total time=   1.5s\n",
      "[CV] END max_depth=21, min_samples_leaf=3, min_samples_split=2; total time=   1.5s\n",
      "[CV] END max_depth=21, min_samples_leaf=3, min_samples_split=2; total time=   1.9s\n",
      "[CV] END max_depth=21, min_samples_leaf=3, min_samples_split=2; total time=   1.9s\n",
      "[CV] END max_depth=21, min_samples_leaf=3, min_samples_split=3; total time=   1.6s\n",
      "[CV] END max_depth=21, min_samples_leaf=3, min_samples_split=3; total time=   1.7s\n",
      "[CV] END max_depth=21, min_samples_leaf=3, min_samples_split=3; total time=   1.5s\n",
      "[CV] END max_depth=21, min_samples_leaf=3, min_samples_split=3; total time=   1.5s\n",
      "[CV] END max_depth=21, min_samples_leaf=3, min_samples_split=3; total time=   1.5s\n",
      "[CV] END max_depth=21, min_samples_leaf=3, min_samples_split=4; total time=   1.6s\n",
      "[CV] END max_depth=21, min_samples_leaf=3, min_samples_split=4; total time=   1.5s\n",
      "[CV] END max_depth=21, min_samples_leaf=3, min_samples_split=4; total time=   1.4s\n",
      "[CV] END max_depth=21, min_samples_leaf=3, min_samples_split=4; total time=   1.4s\n",
      "[CV] END max_depth=21, min_samples_leaf=3, min_samples_split=4; total time=   1.5s\n",
      "[CV] END max_depth=22, min_samples_leaf=2, min_samples_split=2; total time=   1.5s\n",
      "[CV] END max_depth=22, min_samples_leaf=2, min_samples_split=2; total time=   1.5s\n",
      "[CV] END max_depth=22, min_samples_leaf=2, min_samples_split=2; total time=   1.5s\n",
      "[CV] END max_depth=22, min_samples_leaf=2, min_samples_split=2; total time=   1.5s\n",
      "[CV] END max_depth=22, min_samples_leaf=2, min_samples_split=2; total time=   1.4s\n",
      "[CV] END max_depth=22, min_samples_leaf=2, min_samples_split=3; total time=   1.6s\n",
      "[CV] END max_depth=22, min_samples_leaf=2, min_samples_split=3; total time=   1.5s\n",
      "[CV] END max_depth=22, min_samples_leaf=2, min_samples_split=3; total time=   1.7s\n",
      "[CV] END max_depth=22, min_samples_leaf=2, min_samples_split=3; total time=   1.7s\n",
      "[CV] END max_depth=22, min_samples_leaf=2, min_samples_split=3; total time=   1.6s\n",
      "[CV] END max_depth=22, min_samples_leaf=2, min_samples_split=4; total time=   1.5s\n",
      "[CV] END max_depth=22, min_samples_leaf=2, min_samples_split=4; total time=   1.6s\n",
      "[CV] END max_depth=22, min_samples_leaf=2, min_samples_split=4; total time=   1.5s\n",
      "[CV] END max_depth=22, min_samples_leaf=2, min_samples_split=4; total time=   1.5s\n",
      "[CV] END max_depth=22, min_samples_leaf=2, min_samples_split=4; total time=   1.5s\n",
      "[CV] END max_depth=22, min_samples_leaf=3, min_samples_split=2; total time=   1.6s\n",
      "[CV] END max_depth=22, min_samples_leaf=3, min_samples_split=2; total time=   1.5s\n"
     ]
    },
    {
     "name": "stdout",
     "output_type": "stream",
     "text": [
      "[CV] END max_depth=22, min_samples_leaf=3, min_samples_split=2; total time=   1.5s\n",
      "[CV] END max_depth=22, min_samples_leaf=3, min_samples_split=2; total time=   1.5s\n",
      "[CV] END max_depth=22, min_samples_leaf=3, min_samples_split=2; total time=   1.5s\n",
      "[CV] END max_depth=22, min_samples_leaf=3, min_samples_split=3; total time=   1.5s\n",
      "[CV] END max_depth=22, min_samples_leaf=3, min_samples_split=3; total time=   1.6s\n",
      "[CV] END max_depth=22, min_samples_leaf=3, min_samples_split=3; total time=   1.7s\n",
      "[CV] END max_depth=22, min_samples_leaf=3, min_samples_split=3; total time=   1.5s\n",
      "[CV] END max_depth=22, min_samples_leaf=3, min_samples_split=3; total time=   1.5s\n",
      "[CV] END max_depth=22, min_samples_leaf=3, min_samples_split=4; total time=   1.5s\n",
      "[CV] END max_depth=22, min_samples_leaf=3, min_samples_split=4; total time=   1.7s\n",
      "[CV] END max_depth=22, min_samples_leaf=3, min_samples_split=4; total time=   1.5s\n",
      "[CV] END max_depth=22, min_samples_leaf=3, min_samples_split=4; total time=   1.5s\n",
      "[CV] END max_depth=22, min_samples_leaf=3, min_samples_split=4; total time=   1.5s\n",
      "[CV] END max_depth=23, min_samples_leaf=2, min_samples_split=2; total time=   1.5s\n",
      "[CV] END max_depth=23, min_samples_leaf=2, min_samples_split=2; total time=   1.6s\n",
      "[CV] END max_depth=23, min_samples_leaf=2, min_samples_split=2; total time=   1.5s\n",
      "[CV] END max_depth=23, min_samples_leaf=2, min_samples_split=2; total time=   1.6s\n",
      "[CV] END max_depth=23, min_samples_leaf=2, min_samples_split=2; total time=   1.5s\n",
      "[CV] END max_depth=23, min_samples_leaf=2, min_samples_split=3; total time=   1.5s\n",
      "[CV] END max_depth=23, min_samples_leaf=2, min_samples_split=3; total time=   1.5s\n",
      "[CV] END max_depth=23, min_samples_leaf=2, min_samples_split=3; total time=   1.5s\n",
      "[CV] END max_depth=23, min_samples_leaf=2, min_samples_split=3; total time=   1.8s\n",
      "[CV] END max_depth=23, min_samples_leaf=2, min_samples_split=3; total time=   1.6s\n",
      "[CV] END max_depth=23, min_samples_leaf=2, min_samples_split=4; total time=   1.5s\n",
      "[CV] END max_depth=23, min_samples_leaf=2, min_samples_split=4; total time=   1.6s\n",
      "[CV] END max_depth=23, min_samples_leaf=2, min_samples_split=4; total time=   1.6s\n",
      "[CV] END max_depth=23, min_samples_leaf=2, min_samples_split=4; total time=   1.0s\n",
      "[CV] END max_depth=23, min_samples_leaf=2, min_samples_split=4; total time=   1.0s\n",
      "[CV] END max_depth=23, min_samples_leaf=3, min_samples_split=2; total time=   1.0s\n",
      "[CV] END max_depth=23, min_samples_leaf=3, min_samples_split=2; total time=   1.0s\n",
      "[CV] END max_depth=23, min_samples_leaf=3, min_samples_split=2; total time=   1.0s\n",
      "[CV] END max_depth=23, min_samples_leaf=3, min_samples_split=2; total time=   1.0s\n",
      "[CV] END max_depth=23, min_samples_leaf=3, min_samples_split=2; total time=   1.0s\n",
      "[CV] END max_depth=23, min_samples_leaf=3, min_samples_split=3; total time=   1.0s\n",
      "[CV] END max_depth=23, min_samples_leaf=3, min_samples_split=3; total time=   1.0s\n",
      "[CV] END max_depth=23, min_samples_leaf=3, min_samples_split=3; total time=   1.0s\n",
      "[CV] END max_depth=23, min_samples_leaf=3, min_samples_split=3; total time=   1.0s\n",
      "[CV] END max_depth=23, min_samples_leaf=3, min_samples_split=3; total time=   1.0s\n",
      "[CV] END max_depth=23, min_samples_leaf=3, min_samples_split=4; total time=   1.0s\n",
      "[CV] END max_depth=23, min_samples_leaf=3, min_samples_split=4; total time=   1.0s\n",
      "[CV] END max_depth=23, min_samples_leaf=3, min_samples_split=4; total time=   1.0s\n",
      "[CV] END max_depth=23, min_samples_leaf=3, min_samples_split=4; total time=   1.0s\n",
      "[CV] END max_depth=23, min_samples_leaf=3, min_samples_split=4; total time=   1.0s\n"
     ]
    },
    {
     "data": {
      "text/plain": [
       "GridSearchCV(cv=5, estimator=DecisionTreeClassifier(),\n",
       "             param_grid={'max_depth': array([16, 17, 18, 19, 20, 21, 22, 23]),\n",
       "                         'min_samples_leaf': array([2, 3]),\n",
       "                         'min_samples_split': array([2, 3, 4])},\n",
       "             scoring='accuracy', verbose=2)"
      ]
     },
     "execution_count": 18,
     "metadata": {},
     "output_type": "execute_result"
    }
   ],
   "source": [
    "model_arbre = DecisionTreeClassifier()\n",
    "acc = make_scorer(accuracy_score , average='macro')\n",
    "model_arbre = GridSearchCV(model_arbre,\n",
    "                                  parameters,\n",
    "                                  scoring = 'accuracy',\n",
    "                                  verbose = 2, \n",
    "                                  cv = 5)\n",
    "model_arbre.fit(X_train_resampled, Y_train_resampled)"
   ]
  },
  {
   "cell_type": "code",
   "execution_count": 19,
   "id": "eb6375e4",
   "metadata": {},
   "outputs": [
    {
     "name": "stdout",
     "output_type": "stream",
     "text": [
      "Voici les paramètres du meilleure modèle : DecisionTreeClassifier(max_depth=16, min_samples_leaf=2, min_samples_split=3)\n",
      "Voici le make_scorer(accuracy_score) du meilleure modèle : 0.98903\n"
     ]
    }
   ],
   "source": [
    "print(\"Voici les paramètres du meilleure modèle : \" + \n",
    "      str(model_arbre.best_estimator_))\n",
    "print(\"Voici le \"  + str(model_arbre.scorer_) + \n",
    "      \" du meilleure modèle : \" + str(model_arbre.best_score_))"
   ]
  },
  {
   "cell_type": "code",
   "execution_count": 20,
   "id": "0142bd0c",
   "metadata": {},
   "outputs": [
    {
     "data": {
      "text/html": [
       "<div>\n",
       "<style scoped>\n",
       "    .dataframe tbody tr th:only-of-type {\n",
       "        vertical-align: middle;\n",
       "    }\n",
       "\n",
       "    .dataframe tbody tr th {\n",
       "        vertical-align: top;\n",
       "    }\n",
       "\n",
       "    .dataframe thead th {\n",
       "        text-align: right;\n",
       "    }\n",
       "</style>\n",
       "<table border=\"1\" class=\"dataframe\">\n",
       "  <thead>\n",
       "    <tr style=\"text-align: right;\">\n",
       "      <th></th>\n",
       "      <th>pred_0</th>\n",
       "      <th>pred_1</th>\n",
       "    </tr>\n",
       "  </thead>\n",
       "  <tbody>\n",
       "    <tr>\n",
       "      <th>obs_0</th>\n",
       "      <td>738998</td>\n",
       "      <td>1840</td>\n",
       "    </tr>\n",
       "    <tr>\n",
       "      <th>obs_1</th>\n",
       "      <td>6266</td>\n",
       "      <td>307</td>\n",
       "    </tr>\n",
       "  </tbody>\n",
       "</table>\n",
       "</div>"
      ],
      "text/plain": [
       "       pred_0  pred_1\n",
       "obs_0  738998    1840\n",
       "obs_1    6266     307"
      ]
     },
     "execution_count": 20,
     "metadata": {},
     "output_type": "execute_result"
    }
   ],
   "source": [
    "Y_pred = model_arbre.predict(X_test)\n",
    "Y_pred_proba = model_arbre.predict_proba(X_test)\n",
    "from sklearn.metrics import confusion_matrix\n",
    "mc = pd.DataFrame(confusion_matrix(Y_test,Y_pred), \n",
    "                  columns=['pred_0','pred_1'],\n",
    "                  index=['obs_0','obs_1'])\n",
    "\n",
    "mc"
   ]
  },
  {
   "cell_type": "code",
   "execution_count": 21,
   "id": "0416dc7e",
   "metadata": {},
   "outputs": [
    {
     "name": "stdout",
     "output_type": "stream",
     "text": [
      "0.07041284403669724\n"
     ]
    }
   ],
   "source": [
    "TP=mc.iloc[1,1]\n",
    "FN = mc.iloc[0,1]\n",
    "FP = mc.iloc[1,0]\n",
    "\n",
    "F = (2*TP)/((2*TP)+FN+FP)\n",
    "print(F)\n",
    "\n",
    "if F>best_f :\n",
    "    best_model = model_arbre.best_estimator_\n",
    "    best_f = F"
   ]
  },
  {
   "cell_type": "code",
   "execution_count": 120,
   "id": "7ec3a1fc",
   "metadata": {},
   "outputs": [],
   "source": [
    "res = []\n",
    "\n",
    "\n",
    "for i in range(0,len(Y_pred)):\n",
    "    if (Y_test.iloc[i]==Y_pred[i]) and (Y_pred[i] == \"0\"):\n",
    "        res.append(\"TN\")\n",
    "    elif (Y_test.iloc[i]==Y_pred[i]) and (Y_pred[i] == \"1\"):\n",
    "        res.append(\"TP\")\n",
    "    elif (Y_test.iloc[i]!=Y_pred[i]) and (Y_pred[i] == \"0\"):\n",
    "        res.append(\"FP\")\n",
    "    else : \n",
    "        res.append(\"FN\")\n"
   ]
  },
  {
   "cell_type": "code",
   "execution_count": 122,
   "id": "0913c7a1",
   "metadata": {},
   "outputs": [],
   "source": [
    "new_X_test = X_test\n",
    "new_X_test[\"marge\"] = range(0,len(res))"
   ]
  },
  {
   "cell_type": "code",
   "execution_count": 105,
   "id": "ade1548b",
   "metadata": {},
   "outputs": [
    {
     "name": "stdout",
     "output_type": "stream",
     "text": [
      "<class 'pandas.core.frame.DataFrame'>\n",
      "Int64Index: 747411 entries, 3899363 to 4646773\n",
      "Data columns (total 18 columns):\n",
      " #   Column          Non-Null Count   Dtype  \n",
      "---  ------          --------------   -----  \n",
      " 0   Montant         747411 non-null  float32\n",
      " 1   VerifianceCPT1  747411 non-null  float32\n",
      " 2   VerifianceCPT2  747411 non-null  float32\n",
      " 3   VerifianceCPT3  747411 non-null  float32\n",
      " 4   D2CB            747411 non-null  float32\n",
      " 5   ScoringFP1      747411 non-null  float32\n",
      " 6   ScoringFP2      747411 non-null  float32\n",
      " 7   ScoringFP3      747411 non-null  float32\n",
      " 8   TauxImpNb_RB    747411 non-null  float32\n",
      " 9   TauxImpNB_CPM   747411 non-null  float32\n",
      " 10  EcartNumCheq    747411 non-null  float32\n",
      " 11  NbrMagasin3J    747411 non-null  float32\n",
      " 12  DiffDateTr1     747411 non-null  float32\n",
      " 13  DiffDateTr2     747411 non-null  float32\n",
      " 14  DiffDateTr3     747411 non-null  float32\n",
      " 15  CA3TRetMtt      747411 non-null  float32\n",
      " 16  CA3TR           747411 non-null  float32\n",
      " 17  marge           747411 non-null  int64  \n",
      "dtypes: float32(17), int64(1)\n",
      "memory usage: 76.0 MB\n",
      "None\n"
     ]
    }
   ],
   "source": [
    "print(new_X_test.info())"
   ]
  },
  {
   "cell_type": "code",
   "execution_count": 123,
   "id": "0470b46c",
   "metadata": {},
   "outputs": [
    {
     "name": "stderr",
     "output_type": "stream",
     "text": [
      "C:\\Users\\spica\\AppData\\Local\\Temp\\ipykernel_2792\\2238064223.py:3: SettingWithCopyWarning: \n",
      "A value is trying to be set on a copy of a slice from a DataFrame\n",
      "\n",
      "See the caveats in the documentation: https://pandas.pydata.org/pandas-docs/stable/user_guide/indexing.html#returning-a-view-versus-a-copy\n",
      "  new_X_test[\"marge\"].iloc[i]=0.05 * new_X_test[\"Montant\"].iloc[i]\n"
     ]
    }
   ],
   "source": [
    "for i in range(0, len(res)):\n",
    "    if res[i]==\"TN\":\n",
    "        new_X_test[\"marge\"].iloc[i]=0.05 * new_X_test[\"Montant\"].iloc[i]\n",
    "    elif res[i]==\"FN\":\n",
    "        if new_X_test[\"Montant\"].iloc[i] <= 20 :\n",
    "            new_X_test[\"marge\"].iloc[i]=0\n",
    "        elif new_X_test.Montant.iloc[i] <= 50 :\n",
    "            new_X_test[\"marge\"].iloc[i]=-0.2 * new_X_test[\"Montant\"].iloc[i]\n",
    "        elif new_X_test.Montant.iloc[i] <= 100 :\n",
    "            new_X_test[\"marge\"].iloc[i]=-0.3 * new_X_test[\"Montant\"].iloc[i]\n",
    "        elif new_X_test.Montant.iloc[i] <= 200 :\n",
    "            new_X_test[\"marge\"].iloc[i]=-0.5 * new_X_test[\"Montant\"].iloc[i]\n",
    "        else:\n",
    "            new_X_test[\"marge\"].iloc[i]=-0.8 * new_X_test[\"Montant\"].iloc[i]\n",
    "    elif res[i]==\"FP\":\n",
    "        new_X_test[\"marge\"].iloc[i]=0.7 * new_X_test[\"Montant\"].iloc[i]\n",
    "    else:\n",
    "        new_X_test[\"marge\"].iloc[i]=0\n"
   ]
  }
 ],
 "metadata": {
  "kernelspec": {
   "display_name": "Python 3 (ipykernel)",
   "language": "python",
   "name": "python3"
  },
  "language_info": {
   "codemirror_mode": {
    "name": "ipython",
    "version": 3
   },
   "file_extension": ".py",
   "mimetype": "text/x-python",
   "name": "python",
   "nbconvert_exporter": "python",
   "pygments_lexer": "ipython3",
   "version": "3.9.13"
  }
 },
 "nbformat": 4,
 "nbformat_minor": 5
}
