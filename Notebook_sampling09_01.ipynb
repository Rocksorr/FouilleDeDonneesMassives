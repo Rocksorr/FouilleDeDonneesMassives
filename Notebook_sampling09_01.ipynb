{
 "cells": [
  {
   "cell_type": "code",
   "execution_count": 1,
   "id": "9867badf",
   "metadata": {},
   "outputs": [
    {
     "name": "stderr",
     "output_type": "stream",
     "text": [
      "C:\\Users\\spica\\AppData\\Local\\Temp\\ipykernel_12796\\2198844990.py:2: DtypeWarning: Columns (1,2,5,6,7,8,9,15,16,22) have mixed types. Specify dtype option on import or set low_memory=False.\n",
      "  df = pd.read_table(\"guillaume.txt\", sep=\";\")\n"
     ]
    },
    {
     "data": {
      "text/html": [
       "<div>\n",
       "<style scoped>\n",
       "    .dataframe tbody tr th:only-of-type {\n",
       "        vertical-align: middle;\n",
       "    }\n",
       "\n",
       "    .dataframe tbody tr th {\n",
       "        vertical-align: top;\n",
       "    }\n",
       "\n",
       "    .dataframe thead th {\n",
       "        text-align: right;\n",
       "    }\n",
       "</style>\n",
       "<table border=\"1\" class=\"dataframe\">\n",
       "  <thead>\n",
       "    <tr style=\"text-align: right;\">\n",
       "      <th></th>\n",
       "      <th>ZIBZIN</th>\n",
       "      <th>IDAvisAutorisationCheque</th>\n",
       "      <th>FlagImpaye</th>\n",
       "      <th>Montant</th>\n",
       "      <th>DateTransaction</th>\n",
       "      <th>CodeDecision</th>\n",
       "      <th>VerifianceCPT1</th>\n",
       "      <th>VerifianceCPT2</th>\n",
       "      <th>VerifianceCPT3</th>\n",
       "      <th>D2CB</th>\n",
       "      <th>...</th>\n",
       "      <th>TauxImpNb_RB</th>\n",
       "      <th>TauxImpNB_CPM</th>\n",
       "      <th>EcartNumCheq</th>\n",
       "      <th>NbrMagasin3J</th>\n",
       "      <th>DiffDateTr1</th>\n",
       "      <th>DiffDateTr2</th>\n",
       "      <th>DiffDateTr3</th>\n",
       "      <th>CA3TRetMtt</th>\n",
       "      <th>CA3TR</th>\n",
       "      <th>Heure</th>\n",
       "    </tr>\n",
       "  </thead>\n",
       "  <tbody>\n",
       "    <tr>\n",
       "      <th>0</th>\n",
       "      <td>A013010004908126703060931</td>\n",
       "      <td>78643044</td>\n",
       "      <td>0</td>\n",
       "      <td>20</td>\n",
       "      <td>2017-02-01 07:32:14</td>\n",
       "      <td>1</td>\n",
       "      <td>0</td>\n",
       "      <td>0</td>\n",
       "      <td>0</td>\n",
       "      <td>551</td>\n",
       "      <td>...</td>\n",
       "      <td>37,186667890919111</td>\n",
       "      <td>52,076033757361408</td>\n",
       "      <td>0</td>\n",
       "      <td>1</td>\n",
       "      <td>4</td>\n",
       "      <td>4</td>\n",
       "      <td>4</td>\n",
       "      <td>20</td>\n",
       "      <td>0</td>\n",
       "      <td>27134</td>\n",
       "    </tr>\n",
       "    <tr>\n",
       "      <th>1</th>\n",
       "      <td>A013011306908024927155000</td>\n",
       "      <td>78643045</td>\n",
       "      <td>0</td>\n",
       "      <td>20</td>\n",
       "      <td>2017-02-01 07:43:37</td>\n",
       "      <td>1</td>\n",
       "      <td>0</td>\n",
       "      <td>0</td>\n",
       "      <td>0</td>\n",
       "      <td>551</td>\n",
       "      <td>...</td>\n",
       "      <td>48,844716275908937</td>\n",
       "      <td>52,076033757361408</td>\n",
       "      <td>1</td>\n",
       "      <td>2</td>\n",
       "      <td>1,7976851851851852</td>\n",
       "      <td>4</td>\n",
       "      <td>4</td>\n",
       "      <td>28,609999999999999</td>\n",
       "      <td>8,6099999999999994</td>\n",
       "      <td>27817</td>\n",
       "    </tr>\n",
       "    <tr>\n",
       "      <th>2</th>\n",
       "      <td>A013010002908283134592527</td>\n",
       "      <td>78643046</td>\n",
       "      <td>0</td>\n",
       "      <td>57,640000000000001</td>\n",
       "      <td>2017-02-01 07:47:38</td>\n",
       "      <td>1</td>\n",
       "      <td>0</td>\n",
       "      <td>0</td>\n",
       "      <td>0</td>\n",
       "      <td>549</td>\n",
       "      <td>...</td>\n",
       "      <td>73,118279569892479</td>\n",
       "      <td>52,076033757361408</td>\n",
       "      <td>0</td>\n",
       "      <td>1</td>\n",
       "      <td>4</td>\n",
       "      <td>4</td>\n",
       "      <td>4</td>\n",
       "      <td>57,640000000000001</td>\n",
       "      <td>0</td>\n",
       "      <td>28058</td>\n",
       "    </tr>\n",
       "    <tr>\n",
       "      <th>3</th>\n",
       "      <td>A011010002908105209831316</td>\n",
       "      <td>78643047</td>\n",
       "      <td>0</td>\n",
       "      <td>54,289999999999999</td>\n",
       "      <td>2017-02-01 07:48:48</td>\n",
       "      <td>0</td>\n",
       "      <td>1</td>\n",
       "      <td>1</td>\n",
       "      <td>1</td>\n",
       "      <td>267</td>\n",
       "      <td>...</td>\n",
       "      <td>110,05692599620494</td>\n",
       "      <td>53,554233554497365</td>\n",
       "      <td>0</td>\n",
       "      <td>1</td>\n",
       "      <td>4</td>\n",
       "      <td>4</td>\n",
       "      <td>4</td>\n",
       "      <td>54,289999999999999</td>\n",
       "      <td>0</td>\n",
       "      <td>28128</td>\n",
       "    </tr>\n",
       "    <tr>\n",
       "      <th>4</th>\n",
       "      <td>A013010041908000125652029</td>\n",
       "      <td>78643048</td>\n",
       "      <td>0</td>\n",
       "      <td>26,899999999999999</td>\n",
       "      <td>2017-02-01 08:13:27</td>\n",
       "      <td>1</td>\n",
       "      <td>0</td>\n",
       "      <td>0</td>\n",
       "      <td>0</td>\n",
       "      <td>549</td>\n",
       "      <td>...</td>\n",
       "      <td>45,36831264567185</td>\n",
       "      <td>52,076033757361408</td>\n",
       "      <td>1</td>\n",
       "      <td>1</td>\n",
       "      <td>1,9971064814814814</td>\n",
       "      <td>4</td>\n",
       "      <td>4</td>\n",
       "      <td>59,149999999999999</td>\n",
       "      <td>32,25</td>\n",
       "      <td>29607</td>\n",
       "    </tr>\n",
       "  </tbody>\n",
       "</table>\n",
       "<p>5 rows × 23 columns</p>\n",
       "</div>"
      ],
      "text/plain": [
       "                      ZIBZIN IDAvisAutorisationCheque FlagImpaye  \\\n",
       "0  A013010004908126703060931                 78643044          0   \n",
       "1  A013011306908024927155000                 78643045          0   \n",
       "2  A013010002908283134592527                 78643046          0   \n",
       "3  A011010002908105209831316                 78643047          0   \n",
       "4  A013010041908000125652029                 78643048          0   \n",
       "\n",
       "              Montant      DateTransaction CodeDecision VerifianceCPT1  \\\n",
       "0                  20  2017-02-01 07:32:14            1              0   \n",
       "1                  20  2017-02-01 07:43:37            1              0   \n",
       "2  57,640000000000001  2017-02-01 07:47:38            1              0   \n",
       "3  54,289999999999999  2017-02-01 07:48:48            0              1   \n",
       "4  26,899999999999999  2017-02-01 08:13:27            1              0   \n",
       "\n",
       "  VerifianceCPT2 VerifianceCPT3 D2CB  ...        TauxImpNb_RB  \\\n",
       "0              0              0  551  ...  37,186667890919111   \n",
       "1              0              0  551  ...  48,844716275908937   \n",
       "2              0              0  549  ...  73,118279569892479   \n",
       "3              1              1  267  ...  110,05692599620494   \n",
       "4              0              0  549  ...   45,36831264567185   \n",
       "\n",
       "        TauxImpNB_CPM EcartNumCheq NbrMagasin3J         DiffDateTr1  \\\n",
       "0  52,076033757361408            0            1                   4   \n",
       "1  52,076033757361408            1            2  1,7976851851851852   \n",
       "2  52,076033757361408            0            1                   4   \n",
       "3  53,554233554497365            0            1                   4   \n",
       "4  52,076033757361408            1            1  1,9971064814814814   \n",
       "\n",
       "  DiffDateTr2 DiffDateTr3          CA3TRetMtt               CA3TR  Heure  \n",
       "0           4           4                  20                   0  27134  \n",
       "1           4           4  28,609999999999999  8,6099999999999994  27817  \n",
       "2           4           4  57,640000000000001                   0  28058  \n",
       "3           4           4  54,289999999999999                   0  28128  \n",
       "4           4           4  59,149999999999999               32,25  29607  \n",
       "\n",
       "[5 rows x 23 columns]"
      ]
     },
     "execution_count": 1,
     "metadata": {},
     "output_type": "execute_result"
    }
   ],
   "source": [
    "import pandas as pd\n",
    "df = pd.read_table(\"guillaume.txt\", sep=\";\")\n",
    "df.head()"
   ]
  },
  {
   "cell_type": "code",
   "execution_count": 2,
   "id": "f311a317",
   "metadata": {},
   "outputs": [
    {
     "data": {
      "text/plain": [
       "4646774"
      ]
     },
     "execution_count": 2,
     "metadata": {},
     "output_type": "execute_result"
    }
   ],
   "source": [
    "len(df)"
   ]
  },
  {
   "cell_type": "markdown",
   "id": "bdedcac0",
   "metadata": {},
   "source": [
    "# Nettoyage "
   ]
  },
  {
   "cell_type": "markdown",
   "id": "0d1c0842",
   "metadata": {},
   "source": [
    "On supprime la ligne 1956360 qui comporte comme valeur pour chaque colonne l'en-tête"
   ]
  },
  {
   "cell_type": "code",
   "execution_count": 3,
   "id": "3269792b",
   "metadata": {},
   "outputs": [],
   "source": [
    "df.drop(1956360, axis=0, inplace=True)"
   ]
  },
  {
   "cell_type": "markdown",
   "id": "39e7f866",
   "metadata": {},
   "source": [
    "On change le type des variables quantitatives"
   ]
  },
  {
   "cell_type": "code",
   "execution_count": 4,
   "id": "07e155e3",
   "metadata": {},
   "outputs": [],
   "source": [
    "var_quanti = [\"Montant\",\"ScoringFP1\",\"ScoringFP2\",\"ScoringFP3\",\"TauxImpNb_RB\",\"TauxImpNB_CPM\",\"DiffDateTr1\",\"DiffDateTr2\",\"DiffDateTr3\",\"CA3TRetMtt\",\"CA3TR\"]\n",
    "var_quanti_bug = [\"VerifianceCPT1\",\"VerifianceCPT2\",\"VerifianceCPT3\",\"EcartNumCheq\",\"NbrMagasin3J\",\"D2CB\"]\n",
    "new_df=df\n",
    "\n",
    "for i in var_quanti_bug:\n",
    "    new_df[i] = pd.to_numeric(new_df[i], downcast=\"float\")\n",
    "# On change le type des données\n",
    "for i in var_quanti:\n",
    "    new_df[i] = new_df[i].str.replace(\",\",\".\")\n",
    "    new_df[i] = pd.to_numeric(new_df[i], downcast=\"float\")"
   ]
  },
  {
   "cell_type": "code",
   "execution_count": 5,
   "id": "08bed459",
   "metadata": {},
   "outputs": [],
   "source": [
    "import datetime  \n",
    "\n",
    "date = []\n",
    "heure = []\n",
    "\n",
    "\n",
    "for i in new_df[\"DateTransaction\"]:\n",
    "    split = i.split(\" \")\n",
    "    date.append(split[0])\n",
    "    heure.append(split[1])\n",
    "\n",
    "for i in range(0,len(date)):\n",
    "    date[i] = datetime.datetime.strptime(date[i], '%Y-%m-%d')\n",
    "\n"
   ]
  },
  {
   "cell_type": "code",
   "execution_count": 6,
   "id": "099b70ac",
   "metadata": {},
   "outputs": [],
   "source": [
    "new_df[\"DateTransaction\"]=date\n",
    "new_df[\"Heure\"]=heure"
   ]
  },
  {
   "cell_type": "markdown",
   "id": "e92cc69d",
   "metadata": {},
   "source": [
    "On s'occupe des des valeurs manquantes "
   ]
  },
  {
   "cell_type": "code",
   "execution_count": 7,
   "id": "7f57b8c3",
   "metadata": {},
   "outputs": [
    {
     "name": "stdout",
     "output_type": "stream",
     "text": [
      "ZIBZIN                      0\n",
      "IDAvisAutorisationCheque    0\n",
      "FlagImpaye                  0\n",
      "Montant                     0\n",
      "DateTransaction             0\n",
      "CodeDecision                0\n",
      "VerifianceCPT1              0\n",
      "VerifianceCPT2              0\n",
      "VerifianceCPT3              0\n",
      "D2CB                        0\n",
      "ScoringFP1                  0\n",
      "ScoringFP2                  0\n",
      "ScoringFP3                  0\n",
      "TauxImpNb_RB                0\n",
      "TauxImpNB_CPM               0\n",
      "EcartNumCheq                0\n",
      "NbrMagasin3J                0\n",
      "DiffDateTr1                 0\n",
      "DiffDateTr2                 0\n",
      "DiffDateTr3                 0\n",
      "CA3TRetMtt                  0\n",
      "CA3TR                       0\n",
      "Heure                       0\n",
      "dtype: int64\n"
     ]
    }
   ],
   "source": [
    "print(new_df.isna().sum())"
   ]
  },
  {
   "cell_type": "markdown",
   "id": "f55f09ba",
   "metadata": {},
   "source": [
    "Aucune valeur manquantes"
   ]
  },
  {
   "cell_type": "markdown",
   "id": "6b8b58c6",
   "metadata": {},
   "source": [
    "On nettoie la colonne FlagImpaye"
   ]
  },
  {
   "cell_type": "code",
   "execution_count": 8,
   "id": "7fc5bb6e",
   "metadata": {},
   "outputs": [
    {
     "data": {
      "text/plain": [
       "0    4584151\n",
       "0      32627\n",
       "1      29855\n",
       "1        140\n",
       "Name: FlagImpaye, dtype: int64"
      ]
     },
     "execution_count": 8,
     "metadata": {},
     "output_type": "execute_result"
    }
   ],
   "source": [
    "new_df.FlagImpaye.value_counts()"
   ]
  },
  {
   "cell_type": "code",
   "execution_count": 9,
   "id": "f7243eff",
   "metadata": {},
   "outputs": [
    {
     "data": {
      "text/plain": [
       "0    0.993545\n",
       "1    0.006455\n",
       "Name: FlagImpaye, dtype: float64"
      ]
     },
     "execution_count": 9,
     "metadata": {},
     "output_type": "execute_result"
    }
   ],
   "source": [
    "new_df.FlagImpaye=new_df.FlagImpaye.replace(0,\"0\")\n",
    "new_df.FlagImpaye=new_df.FlagImpaye.replace(1,\"1\")\n",
    "new_df.FlagImpaye.value_counts(normalize=True)"
   ]
  },
  {
   "cell_type": "code",
   "execution_count": 10,
   "id": "9bd368e2",
   "metadata": {},
   "outputs": [],
   "source": [
    "train_df=new_df[(new_df[\"DateTransaction\"]>='2017-02-01') & (new_df[\"DateTransaction\"]<='2017-08-31')]\n",
    "test_df=new_df[(new_df[\"DateTransaction\"]>'2017-08-31')]"
   ]
  },
  {
   "cell_type": "code",
   "execution_count": 11,
   "id": "07c3217f",
   "metadata": {},
   "outputs": [
    {
     "data": {
      "text/plain": [
       "23422"
      ]
     },
     "execution_count": 11,
     "metadata": {},
     "output_type": "execute_result"
    }
   ],
   "source": [
    "Y_train = train_df.FlagImpaye\n",
    "Y_test = test_df.FlagImpaye\n",
    "X_train = train_df.drop(columns=[\"FlagImpaye\",\"ZIBZIN\",\"IDAvisAutorisationCheque\",\"CodeDecision\",\"DateTransaction\",\"Heure\"])\n",
    "X_test = test_df.drop(columns=[\"FlagImpaye\",\"ZIBZIN\",\"IDAvisAutorisationCheque\",\"CodeDecision\",\"DateTransaction\",\"Heure\"])\n",
    "len(Y_train[Y_train==\"1\"])"
   ]
  },
  {
   "cell_type": "markdown",
   "id": "fdb7898a",
   "metadata": {},
   "source": [
    "# SAMPLING"
   ]
  },
  {
   "cell_type": "code",
   "execution_count": 12,
   "id": "463704f2",
   "metadata": {},
   "outputs": [],
   "source": [
    "train_df=new_df[(new_df[\"DateTransaction\"]>='2017-02-01') & (new_df[\"DateTransaction\"]<='2017-08-31')]\n",
    "test_df=new_df[(new_df[\"DateTransaction\"]>'2017-08-31')]"
   ]
  },
  {
   "cell_type": "code",
   "execution_count": 13,
   "id": "7bb6d673",
   "metadata": {},
   "outputs": [
    {
     "data": {
      "text/plain": [
       "23422"
      ]
     },
     "execution_count": 13,
     "metadata": {},
     "output_type": "execute_result"
    }
   ],
   "source": [
    "Y_train = train_df.FlagImpaye\n",
    "Y_test = test_df.FlagImpaye\n",
    "X_train = train_df.drop(columns=[\"FlagImpaye\",\"ZIBZIN\",\"IDAvisAutorisationCheque\",\"CodeDecision\",\"DateTransaction\",\"Heure\"])\n",
    "X_test = test_df.drop(columns=[\"FlagImpaye\",\"ZIBZIN\",\"IDAvisAutorisationCheque\",\"CodeDecision\",\"DateTransaction\",\"Heure\"])\n",
    "len(Y_train[Y_train==\"1\"])"
   ]
  },
  {
   "cell_type": "markdown",
   "id": "b391caa0",
   "metadata": {},
   "source": [
    "# MACHINE LEARNING"
   ]
  },
  {
   "cell_type": "markdown",
   "id": "f5971825",
   "metadata": {},
   "source": [
    "## UNDERSAMPLING : 0.9-0.1 en prenant tous les Y"
   ]
  },
  {
   "cell_type": "code",
   "execution_count": 14,
   "id": "2aeffe1b",
   "metadata": {},
   "outputs": [
    {
     "data": {
      "text/plain": [
       "2365622"
      ]
     },
     "execution_count": 14,
     "metadata": {},
     "output_type": "execute_result"
    }
   ],
   "source": [
    "from imblearn.under_sampling import RandomUnderSampler\n",
    "\n",
    "rus = RandomUnderSampler(sampling_strategy=0.01)\n",
    "rus.fit(X_train, Y_train)\n",
    "X_train_resampled, Y_train_resampled = rus.fit_resample(X_train, Y_train)\n",
    "len(X_train_resampled)"
   ]
  },
  {
   "cell_type": "code",
   "execution_count": 15,
   "id": "2ef1d43d",
   "metadata": {},
   "outputs": [
    {
     "data": {
      "text/plain": [
       "0    0.990099\n",
       "1    0.009901\n",
       "Name: FlagImpaye, dtype: float64"
      ]
     },
     "execution_count": 15,
     "metadata": {},
     "output_type": "execute_result"
    }
   ],
   "source": [
    "Y_train_resampled.value_counts(normalize=True)"
   ]
  },
  {
   "cell_type": "code",
   "execution_count": 24,
   "id": "6b759aa1",
   "metadata": {},
   "outputs": [],
   "source": [
    "best_f = 0"
   ]
  },
  {
   "cell_type": "markdown",
   "id": "caf01767",
   "metadata": {},
   "source": [
    "### Arbre de décision"
   ]
  },
  {
   "cell_type": "code",
   "execution_count": 17,
   "id": "e524e303",
   "metadata": {},
   "outputs": [],
   "source": [
    "from sklearn.tree import DecisionTreeClassifier\n",
    "from sklearn.model_selection import GridSearchCV\n",
    "from sklearn.metrics import make_scorer, f1_score\n",
    "import numpy as np\n",
    "\n",
    "parameters = {'max_depth' : np.arange(start = 16, stop = 21, step = 1) , \n",
    "              'min_samples_leaf' : np.arange(start = 2, stop = 4, step = 1),\n",
    "              'min_samples_split' : np.arange(start = 2, stop = 4, step = 1)}"
   ]
  },
  {
   "cell_type": "code",
   "execution_count": 18,
   "id": "55c792eb",
   "metadata": {},
   "outputs": [
    {
     "name": "stdout",
     "output_type": "stream",
     "text": [
      "Fitting 2 folds for each of 20 candidates, totalling 40 fits\n",
      "[CV] END max_depth=16, min_samples_leaf=2, min_samples_split=2; total time=  30.0s\n",
      "[CV] END max_depth=16, min_samples_leaf=2, min_samples_split=2; total time=  36.7s\n",
      "[CV] END max_depth=16, min_samples_leaf=2, min_samples_split=3; total time=  32.0s\n",
      "[CV] END max_depth=16, min_samples_leaf=2, min_samples_split=3; total time=  30.2s\n",
      "[CV] END max_depth=16, min_samples_leaf=3, min_samples_split=2; total time=  37.9s\n",
      "[CV] END max_depth=16, min_samples_leaf=3, min_samples_split=2; total time=  37.9s\n",
      "[CV] END max_depth=16, min_samples_leaf=3, min_samples_split=3; total time=  38.4s\n",
      "[CV] END max_depth=16, min_samples_leaf=3, min_samples_split=3; total time=  37.9s\n",
      "[CV] END max_depth=17, min_samples_leaf=2, min_samples_split=2; total time=  41.7s\n",
      "[CV] END max_depth=17, min_samples_leaf=2, min_samples_split=2; total time=  40.8s\n",
      "[CV] END max_depth=17, min_samples_leaf=2, min_samples_split=3; total time=  34.4s\n",
      "[CV] END max_depth=17, min_samples_leaf=2, min_samples_split=3; total time=  25.0s\n",
      "[CV] END max_depth=17, min_samples_leaf=3, min_samples_split=2; total time=  25.0s\n",
      "[CV] END max_depth=17, min_samples_leaf=3, min_samples_split=2; total time=  24.8s\n",
      "[CV] END max_depth=17, min_samples_leaf=3, min_samples_split=3; total time=  25.2s\n",
      "[CV] END max_depth=17, min_samples_leaf=3, min_samples_split=3; total time=  25.1s\n",
      "[CV] END max_depth=18, min_samples_leaf=2, min_samples_split=2; total time=  26.5s\n",
      "[CV] END max_depth=18, min_samples_leaf=2, min_samples_split=2; total time=  26.0s\n",
      "[CV] END max_depth=18, min_samples_leaf=2, min_samples_split=3; total time=  26.2s\n",
      "[CV] END max_depth=18, min_samples_leaf=2, min_samples_split=3; total time=  26.0s\n",
      "[CV] END max_depth=18, min_samples_leaf=3, min_samples_split=2; total time=  26.2s\n",
      "[CV] END max_depth=18, min_samples_leaf=3, min_samples_split=2; total time=  26.0s\n",
      "[CV] END max_depth=18, min_samples_leaf=3, min_samples_split=3; total time=  37.3s\n",
      "[CV] END max_depth=18, min_samples_leaf=3, min_samples_split=3; total time=  43.6s\n",
      "[CV] END max_depth=19, min_samples_leaf=2, min_samples_split=2; total time=  47.2s\n",
      "[CV] END max_depth=19, min_samples_leaf=2, min_samples_split=2; total time=  45.2s\n",
      "[CV] END max_depth=19, min_samples_leaf=2, min_samples_split=3; total time=  45.2s\n",
      "[CV] END max_depth=19, min_samples_leaf=2, min_samples_split=3; total time=  42.9s\n",
      "[CV] END max_depth=19, min_samples_leaf=3, min_samples_split=2; total time=  37.7s\n",
      "[CV] END max_depth=19, min_samples_leaf=3, min_samples_split=2; total time=  36.6s\n",
      "[CV] END max_depth=19, min_samples_leaf=3, min_samples_split=3; total time=  36.7s\n",
      "[CV] END max_depth=19, min_samples_leaf=3, min_samples_split=3; total time=  36.4s\n",
      "[CV] END max_depth=20, min_samples_leaf=2, min_samples_split=2; total time=  36.4s\n",
      "[CV] END max_depth=20, min_samples_leaf=2, min_samples_split=2; total time=  37.9s\n",
      "[CV] END max_depth=20, min_samples_leaf=2, min_samples_split=3; total time=  38.4s\n",
      "[CV] END max_depth=20, min_samples_leaf=2, min_samples_split=3; total time=  38.0s\n",
      "[CV] END max_depth=20, min_samples_leaf=3, min_samples_split=2; total time=  38.0s\n",
      "[CV] END max_depth=20, min_samples_leaf=3, min_samples_split=2; total time=  36.7s\n",
      "[CV] END max_depth=20, min_samples_leaf=3, min_samples_split=3; total time=  41.2s\n",
      "[CV] END max_depth=20, min_samples_leaf=3, min_samples_split=3; total time=  38.6s\n"
     ]
    },
    {
     "data": {
      "text/plain": [
       "GridSearchCV(cv=2, estimator=DecisionTreeClassifier(),\n",
       "             param_grid={'max_depth': array([16, 17, 18, 19, 20]),\n",
       "                         'min_samples_leaf': array([2, 3]),\n",
       "                         'min_samples_split': array([2, 3])},\n",
       "             scoring='accuracy', verbose=2)"
      ]
     },
     "execution_count": 18,
     "metadata": {},
     "output_type": "execute_result"
    }
   ],
   "source": [
    "model_arbre = DecisionTreeClassifier()\n",
    "f1 = make_scorer(f1_score , average='macro')\n",
    "model_arbre = GridSearchCV(model_arbre,\n",
    "                                  parameters,\n",
    "                                  scoring = 'accuracy',\n",
    "                                  verbose = 2, \n",
    "                                  cv = 2 )\n",
    "model_arbre.fit(X_train_resampled, Y_train_resampled)"
   ]
  },
  {
   "cell_type": "code",
   "execution_count": 19,
   "id": "aa93fc3c",
   "metadata": {},
   "outputs": [
    {
     "name": "stdout",
     "output_type": "stream",
     "text": [
      "Voici les paramètres du meilleure modèle : DecisionTreeClassifier(max_depth=16, min_samples_leaf=2)\n",
      "Voici le make_scorer(accuracy_score) du meilleure modèle : 0.990104082562641\n"
     ]
    }
   ],
   "source": [
    "print(\"Voici les paramètres du meilleure modèle : \" + \n",
    "      str(model_arbre.best_estimator_))\n",
    "print(\"Voici le \"  + str(model_arbre.scorer_) + \n",
    "      \" du meilleure modèle : \" + str(model_arbre.best_score_))"
   ]
  },
  {
   "cell_type": "code",
   "execution_count": 20,
   "id": "dd701339",
   "metadata": {},
   "outputs": [
    {
     "data": {
      "text/html": [
       "<div>\n",
       "<style scoped>\n",
       "    .dataframe tbody tr th:only-of-type {\n",
       "        vertical-align: middle;\n",
       "    }\n",
       "\n",
       "    .dataframe tbody tr th {\n",
       "        vertical-align: top;\n",
       "    }\n",
       "\n",
       "    .dataframe thead th {\n",
       "        text-align: right;\n",
       "    }\n",
       "</style>\n",
       "<table border=\"1\" class=\"dataframe\">\n",
       "  <thead>\n",
       "    <tr style=\"text-align: right;\">\n",
       "      <th></th>\n",
       "      <th>pred_0</th>\n",
       "      <th>pred_1</th>\n",
       "    </tr>\n",
       "  </thead>\n",
       "  <tbody>\n",
       "    <tr>\n",
       "      <th>obs_0</th>\n",
       "      <td>739917</td>\n",
       "      <td>921</td>\n",
       "    </tr>\n",
       "    <tr>\n",
       "      <th>obs_1</th>\n",
       "      <td>6264</td>\n",
       "      <td>309</td>\n",
       "    </tr>\n",
       "  </tbody>\n",
       "</table>\n",
       "</div>"
      ],
      "text/plain": [
       "       pred_0  pred_1\n",
       "obs_0  739917     921\n",
       "obs_1    6264     309"
      ]
     },
     "execution_count": 20,
     "metadata": {},
     "output_type": "execute_result"
    }
   ],
   "source": [
    "Y_pred = model_arbre.predict(X_test)\n",
    "Y_pred_proba = model_arbre.predict_proba(X_test)\n",
    "from sklearn.metrics import confusion_matrix\n",
    "mc = pd.DataFrame(confusion_matrix(Y_test,Y_pred), \n",
    "                  columns=['pred_0','pred_1'],\n",
    "                  index=['obs_0','obs_1'])\n",
    "\n",
    "mc"
   ]
  },
  {
   "cell_type": "code",
   "execution_count": 25,
   "id": "7e3f2f46",
   "metadata": {},
   "outputs": [
    {
     "name": "stdout",
     "output_type": "stream",
     "text": [
      "0.07920030757400999\n"
     ]
    }
   ],
   "source": [
    "TP=mc.iloc[1,1]\n",
    "FN = mc.iloc[0,1]\n",
    "FP = mc.iloc[1,0]\n",
    "\n",
    "F = (2*TP)/((2*TP)+FN+FP)\n",
    "print(F)\n",
    "\n",
    "if F>best_f :\n",
    "    best_model = model_arbre.best_estimator_\n",
    "    best_f = F"
   ]
  },
  {
   "cell_type": "markdown",
   "id": "0b761f90",
   "metadata": {},
   "source": [
    "### Adaboost"
   ]
  },
  {
   "cell_type": "code",
   "execution_count": 26,
   "id": "62b2566c",
   "metadata": {},
   "outputs": [
    {
     "data": {
      "text/plain": [
       "AdaBoostClassifier(base_estimator=DecisionTreeClassifier(max_depth=16,\n",
       "                                                         min_samples_leaf=2))"
      ]
     },
     "execution_count": 26,
     "metadata": {},
     "output_type": "execute_result"
    }
   ],
   "source": [
    "from sklearn.ensemble import AdaBoostClassifier\n",
    "\n",
    "model_adaboost = AdaBoostClassifier(best_model)\n",
    "model_adaboost.fit(X_train_resampled, Y_train_resampled)"
   ]
  },
  {
   "cell_type": "code",
   "execution_count": 27,
   "id": "6ef23c3b",
   "metadata": {},
   "outputs": [
    {
     "data": {
      "text/html": [
       "<div>\n",
       "<style scoped>\n",
       "    .dataframe tbody tr th:only-of-type {\n",
       "        vertical-align: middle;\n",
       "    }\n",
       "\n",
       "    .dataframe tbody tr th {\n",
       "        vertical-align: top;\n",
       "    }\n",
       "\n",
       "    .dataframe thead th {\n",
       "        text-align: right;\n",
       "    }\n",
       "</style>\n",
       "<table border=\"1\" class=\"dataframe\">\n",
       "  <thead>\n",
       "    <tr style=\"text-align: right;\">\n",
       "      <th></th>\n",
       "      <th>pred_0</th>\n",
       "      <th>pred_1</th>\n",
       "    </tr>\n",
       "  </thead>\n",
       "  <tbody>\n",
       "    <tr>\n",
       "      <th>obs_0</th>\n",
       "      <td>739608</td>\n",
       "      <td>1230</td>\n",
       "    </tr>\n",
       "    <tr>\n",
       "      <th>obs_1</th>\n",
       "      <td>6331</td>\n",
       "      <td>242</td>\n",
       "    </tr>\n",
       "  </tbody>\n",
       "</table>\n",
       "</div>"
      ],
      "text/plain": [
       "       pred_0  pred_1\n",
       "obs_0  739608    1230\n",
       "obs_1    6331     242"
      ]
     },
     "execution_count": 27,
     "metadata": {},
     "output_type": "execute_result"
    }
   ],
   "source": [
    "Y_pred = model_adaboost.predict(X_test)\n",
    "Y_pred_proba = model_adaboost.predict_proba(X_test)\n",
    "from sklearn.metrics import confusion_matrix\n",
    "mc = pd.DataFrame(confusion_matrix(Y_test,Y_pred), \n",
    "                  columns=['pred_0','pred_1'],\n",
    "                  index=['obs_0','obs_1'])\n",
    "\n",
    "mc"
   ]
  },
  {
   "cell_type": "code",
   "execution_count": 28,
   "id": "3335eebf",
   "metadata": {},
   "outputs": [
    {
     "name": "stdout",
     "output_type": "stream",
     "text": [
      "0.06016159105034183\n"
     ]
    }
   ],
   "source": [
    "TP=mc.iloc[1,1]\n",
    "FN = mc.iloc[0,1]\n",
    "FP = mc.iloc[1,0]\n",
    "\n",
    "F = (2*TP)/((2*TP)+FN+FP)\n",
    "print(F)"
   ]
  },
  {
   "cell_type": "markdown",
   "id": "47b9d426",
   "metadata": {},
   "source": [
    "### Bagging"
   ]
  },
  {
   "cell_type": "code",
   "execution_count": 29,
   "id": "9c6f7516",
   "metadata": {},
   "outputs": [
    {
     "data": {
      "text/plain": [
       "BaggingClassifier()"
      ]
     },
     "execution_count": 29,
     "metadata": {},
     "output_type": "execute_result"
    }
   ],
   "source": [
    "from sklearn.ensemble import BaggingClassifier\n",
    "model_bagging = BaggingClassifier()\n",
    "\n",
    "model_bagging.fit(X_train_resampled, Y_train_resampled)"
   ]
  },
  {
   "cell_type": "code",
   "execution_count": 30,
   "id": "e0574479",
   "metadata": {},
   "outputs": [
    {
     "data": {
      "text/html": [
       "<div>\n",
       "<style scoped>\n",
       "    .dataframe tbody tr th:only-of-type {\n",
       "        vertical-align: middle;\n",
       "    }\n",
       "\n",
       "    .dataframe tbody tr th {\n",
       "        vertical-align: top;\n",
       "    }\n",
       "\n",
       "    .dataframe thead th {\n",
       "        text-align: right;\n",
       "    }\n",
       "</style>\n",
       "<table border=\"1\" class=\"dataframe\">\n",
       "  <thead>\n",
       "    <tr style=\"text-align: right;\">\n",
       "      <th></th>\n",
       "      <th>pred_0</th>\n",
       "      <th>pred_1</th>\n",
       "    </tr>\n",
       "  </thead>\n",
       "  <tbody>\n",
       "    <tr>\n",
       "      <th>obs_0</th>\n",
       "      <td>739871</td>\n",
       "      <td>967</td>\n",
       "    </tr>\n",
       "    <tr>\n",
       "      <th>obs_1</th>\n",
       "      <td>6282</td>\n",
       "      <td>291</td>\n",
       "    </tr>\n",
       "  </tbody>\n",
       "</table>\n",
       "</div>"
      ],
      "text/plain": [
       "       pred_0  pred_1\n",
       "obs_0  739871     967\n",
       "obs_1    6282     291"
      ]
     },
     "execution_count": 30,
     "metadata": {},
     "output_type": "execute_result"
    }
   ],
   "source": [
    "Y_pred = model_bagging.predict(X_test)\n",
    "from sklearn.metrics import confusion_matrix\n",
    "mc = pd.DataFrame(confusion_matrix(Y_test,Y_pred), \n",
    "                  columns=['pred_0','pred_1'],\n",
    "                  index=['obs_0','obs_1'])\n",
    "\n",
    "mc"
   ]
  },
  {
   "cell_type": "code",
   "execution_count": 31,
   "id": "dac998c5",
   "metadata": {},
   "outputs": [
    {
     "name": "stdout",
     "output_type": "stream",
     "text": [
      "0.07432001021580896\n"
     ]
    }
   ],
   "source": [
    "TP=mc.iloc[1,1]\n",
    "FN = mc.iloc[0,1]\n",
    "FP = mc.iloc[1,0]\n",
    "\n",
    "F = (2*TP)/((2*TP)+FN+FP)\n",
    "print(F)"
   ]
  },
  {
   "cell_type": "code",
   "execution_count": null,
   "id": "ab63b614",
   "metadata": {},
   "outputs": [],
   "source": []
  }
 ],
 "metadata": {
  "kernelspec": {
   "display_name": "Python 3 (ipykernel)",
   "language": "python",
   "name": "python3"
  },
  "language_info": {
   "codemirror_mode": {
    "name": "ipython",
    "version": 3
   },
   "file_extension": ".py",
   "mimetype": "text/x-python",
   "name": "python",
   "nbconvert_exporter": "python",
   "pygments_lexer": "ipython3",
   "version": "3.9.13"
  }
 },
 "nbformat": 4,
 "nbformat_minor": 5
}
