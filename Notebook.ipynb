{
 "cells": [
  {
   "cell_type": "code",
   "execution_count": null,
   "id": "9867badf",
   "metadata": {},
   "outputs": [],
   "source": [
    "import pandas as pd\n",
    "df = pd.read_table(\"guillaume.txt\", sep=\";\")\n",
    "df.head()"
   ]
  },
  {
   "cell_type": "code",
   "execution_count": null,
   "id": "f311a317",
   "metadata": {},
   "outputs": [],
   "source": [
    "len(df)"
   ]
  },
  {
   "cell_type": "markdown",
   "id": "bdedcac0",
   "metadata": {},
   "source": [
    "# Nettoyage "
   ]
  },
  {
   "cell_type": "markdown",
   "id": "0d1c0842",
   "metadata": {},
   "source": [
    "On supprime la ligne 1956360 qui comporte comme valeur pour chaque colonne l'en-tête"
   ]
  },
  {
   "cell_type": "code",
   "execution_count": null,
   "id": "3269792b",
   "metadata": {},
   "outputs": [],
   "source": [
    "df.drop(1956360, axis=0, inplace=True)"
   ]
  },
  {
   "cell_type": "markdown",
   "id": "39e7f866",
   "metadata": {},
   "source": [
    "On change le type des variables quantitatives"
   ]
  },
  {
   "cell_type": "code",
   "execution_count": null,
   "id": "07e155e3",
   "metadata": {},
   "outputs": [],
   "source": [
    "var_quanti = [\"Montant\",\"ScoringFP1\",\"ScoringFP2\",\"ScoringFP3\",\"TauxImpNb_RB\",\"TauxImpNB_CPM\",\"DiffDateTr1\",\"DiffDateTr2\",\"DiffDateTr3\",\"CA3TRetMtt\",\"CA3TR\"]\n",
    "var_quanti_bug = [\"VerifianceCPT1\",\"VerifianceCPT2\",\"VerifianceCPT3\",\"EcartNumCheq\",\"NbrMagasin3J\",\"D2CB\"]\n",
    "new_df=df\n",
    "\n",
    "for i in var_quanti_bug:\n",
    "    new_df[i] = pd.to_numeric(new_df[i], downcast=\"float\")\n",
    "# On change le type des données\n",
    "for i in var_quanti:\n",
    "    new_df[i] = new_df[i].str.replace(\",\",\".\")\n",
    "    new_df[i] = pd.to_numeric(new_df[i], downcast=\"float\")"
   ]
  },
  {
   "cell_type": "code",
   "execution_count": null,
   "id": "08bed459",
   "metadata": {},
   "outputs": [],
   "source": [
    "import datetime  \n",
    "\n",
    "date = []\n",
    "heure = []\n",
    "\n",
    "\n",
    "for i in new_df[\"DateTransaction\"]:\n",
    "    split = i.split(\" \")\n",
    "    date.append(split[0])\n",
    "    heure.append(split[1])\n",
    "\n",
    "for i in range(0,len(date)):\n",
    "    date[i] = datetime.datetime.strptime(date[i], '%Y-%m-%d')\n",
    "\n"
   ]
  },
  {
   "cell_type": "code",
   "execution_count": null,
   "id": "099b70ac",
   "metadata": {},
   "outputs": [],
   "source": [
    "new_df[\"DateTransaction\"]=date\n",
    "new_df[\"Heure\"]=heure"
   ]
  },
  {
   "cell_type": "markdown",
   "id": "e92cc69d",
   "metadata": {},
   "source": [
    "On s'occupe des des valeurs manquantes "
   ]
  },
  {
   "cell_type": "code",
   "execution_count": null,
   "id": "7f57b8c3",
   "metadata": {},
   "outputs": [],
   "source": [
    "print(new_df.isna().sum())"
   ]
  },
  {
   "cell_type": "markdown",
   "id": "f55f09ba",
   "metadata": {},
   "source": [
    "Aucune valeur manquantes"
   ]
  },
  {
   "cell_type": "markdown",
   "id": "6b8b58c6",
   "metadata": {},
   "source": [
    "On nettoie la colonne FlagImpaye"
   ]
  },
  {
   "cell_type": "code",
   "execution_count": null,
   "id": "7fc5bb6e",
   "metadata": {},
   "outputs": [],
   "source": [
    "new_df.FlagImpaye.value_counts()"
   ]
  },
  {
   "cell_type": "code",
   "execution_count": null,
   "id": "f7243eff",
   "metadata": {},
   "outputs": [],
   "source": [
    "new_df.FlagImpaye=new_df.FlagImpaye.replace(0,\"0\")\n",
    "new_df.FlagImpaye=new_df.FlagImpaye.replace(1,\"1\")\n",
    "new_df.FlagImpaye.value_counts(normalize=True)"
   ]
  },
  {
   "cell_type": "code",
   "execution_count": null,
   "id": "07c3217f",
   "metadata": {},
   "outputs": [],
   "source": [
    "Y_train = train_df.FlagImpaye\n",
    "Y_test = test_df.FlagImpaye\n",
    "X_train = train_df.drop(columns=[\"FlagImpaye\",\"ZIBZIN\",\"IDAvisAutorisationCheque\",\"CodeDecision\",\"DateTransaction\",\"Heure\"])\n",
    "X_test = test_df.drop(columns=[\"FlagImpaye\",\"ZIBZIN\",\"IDAvisAutorisationCheque\",\"CodeDecision\",\"DateTransaction\",\"Heure\"])\n",
    "len(Y_train[Y_train==\"1\"])"
   ]
  },
  {
   "cell_type": "markdown",
   "id": "fdb7898a",
   "metadata": {},
   "source": [
    "# SAMPLING"
   ]
  },
  {
   "cell_type": "code",
   "execution_count": null,
   "id": "463704f2",
   "metadata": {},
   "outputs": [],
   "source": [
    "train_df=new_df[(new_df[\"DateTransaction\"]>='2017-02-01') & (new_df[\"DateTransaction\"]<='2017-08-31')]\n",
    "test_df=new_df[(new_df[\"DateTransaction\"]>'2017-08-31')]"
   ]
  },
  {
   "cell_type": "code",
   "execution_count": null,
   "id": "7bb6d673",
   "metadata": {},
   "outputs": [],
   "source": [
    "Y_train = train_df.FlagImpaye\n",
    "Y_test = test_df.FlagImpaye\n",
    "X_train = train_df.drop(columns=[\"FlagImpaye\",\"ZIBZIN\",\"IDAvisAutorisationCheque\",\"CodeDecision\",\"DateTransaction\",\"Heure\"])\n",
    "X_test = test_df.drop(columns=[\"FlagImpaye\",\"ZIBZIN\",\"IDAvisAutorisationCheque\",\"CodeDecision\",\"DateTransaction\",\"Heure\"])\n",
    "len(Y_train[Y_train==\"1\"])"
   ]
  },
  {
   "cell_type": "markdown",
   "id": "b391caa0",
   "metadata": {},
   "source": [
    "# MACHINE LEARNING"
   ]
  },
  {
   "cell_type": "markdown",
   "id": "678b9f81",
   "metadata": {},
   "source": [
    "## UNDERSAMPLING : 50-50"
   ]
  },
  {
   "cell_type": "code",
   "execution_count": null,
   "id": "e5c1f63b",
   "metadata": {},
   "outputs": [],
   "source": [
    "from imblearn.under_sampling import RandomUnderSampler\n",
    "\n",
    "rus = RandomUnderSampler(sampling_strategy=1)\n",
    "rus.fit(X_train, Y_train)\n",
    "X_train_resampled, Y_train_resampled = rus.fit_resample(X_train, Y_train)\n",
    "len(X_train_resampled)"
   ]
  },
  {
   "cell_type": "code",
   "execution_count": null,
   "id": "28301080",
   "metadata": {},
   "outputs": [],
   "source": [
    "Y_train_resampled.value_counts(normalize=True)"
   ]
  },
  {
   "cell_type": "code",
   "execution_count": null,
   "id": "eafe8db1",
   "metadata": {},
   "outputs": [],
   "source": [
    "best_f = 0"
   ]
  },
  {
   "cell_type": "markdown",
   "id": "cf051954",
   "metadata": {},
   "source": [
    "### Arbre de décision"
   ]
  },
  {
   "cell_type": "code",
   "execution_count": null,
   "id": "5606b719",
   "metadata": {},
   "outputs": [],
   "source": [
    "from sklearn.tree import DecisionTreeClassifier\n",
    "from sklearn.model_selection import GridSearchCV\n",
    "from sklearn.metrics import make_scorer, f1_score\n",
    "import numpy as np\n",
    "\n",
    "parameters = {'max_depth' : np.arange(start = 16, stop = 24, step = 1) , \n",
    "              'min_samples_leaf' : np.arange(start = 2, stop = 4, step = 1),\n",
    "              'min_samples_split' : np.arange(start = 2, stop = 5, step = 1)}"
   ]
  },
  {
   "cell_type": "code",
   "execution_count": null,
   "id": "607ac853",
   "metadata": {},
   "outputs": [],
   "source": [
    "model_arbre = DecisionTreeClassifier()\n",
    "f1 = make_scorer(f1_score , average='macro')\n",
    "model_arbre = GridSearchCV(model_arbre,\n",
    "                                  parameters,\n",
    "                                  scoring = f1,\n",
    "                                  verbose = 2, \n",
    "                                  cv = 5)\n",
    "model_arbre.fit(X_train_resampled, Y_train_resampled)"
   ]
  },
  {
   "cell_type": "code",
   "execution_count": null,
   "id": "bbf72915",
   "metadata": {},
   "outputs": [],
   "source": [
    "print(\"Voici les paramètres du meilleure modèle : \" + \n",
    "      str(model_arbre.best_estimator_))\n",
    "print(\"Voici le \"  + str(model_arbre.scorer_) + \n",
    "      \" du meilleure modèle : \" + str(model_arbre.best_score_))"
   ]
  },
  {
   "cell_type": "code",
   "execution_count": null,
   "id": "5fd5c666",
   "metadata": {},
   "outputs": [],
   "source": [
    "Y_pred = model_arbre.predict(X_test)\n",
    "Y_pred_proba = model_arbre.predict_proba(X_test)\n",
    "from sklearn.metrics import confusion_matrix\n",
    "mc = pd.DataFrame(confusion_matrix(Y_test,Y_pred), \n",
    "                  columns=['pred_0','pred_1'],\n",
    "                  index=['obs_0','obs_1'])\n",
    "\n",
    "mc"
   ]
  },
  {
   "cell_type": "code",
   "execution_count": null,
   "id": "a98a06a5",
   "metadata": {},
   "outputs": [],
   "source": [
    "TP=mc.iloc[1,1]\n",
    "FN = mc.iloc[0,1]\n",
    "FP = mc.iloc[1,0]\n",
    "\n",
    "F = (2*TP)/((2*TP)+FN+FP)\n",
    "print(F)\n",
    "\n",
    "if F>best_f :\n",
    "    best_model = model_arbre.best_estimator_\n",
    "    best_f = F"
   ]
  },
  {
   "cell_type": "markdown",
   "id": "67534675",
   "metadata": {},
   "source": [
    "### Random Forest"
   ]
  },
  {
   "cell_type": "code",
   "execution_count": null,
   "id": "96c7fa7c",
   "metadata": {},
   "outputs": [],
   "source": [
    "from sklearn.ensemble import RandomForestClassifier\n",
    "from sklearn.model_selection import GridSearchCV\n",
    "from sklearn.metrics import make_scorer, f1_score\n",
    "import numpy as np\n",
    "\n",
    "parameters = {'max_depth' : np.arange(start = 16, stop = 21, step = 1) , \n",
    "              'min_samples_leaf' : np.arange(start = 2, stop = 4, step = 1),\n",
    "              'min_samples_split' : np.arange(start = 2, stop = 4, step = 1)}\n"
   ]
  },
  {
   "cell_type": "code",
   "execution_count": null,
   "id": "c46f8a7e",
   "metadata": {},
   "outputs": [],
   "source": [
    "modele_foret = RandomForestClassifier()\n",
    "f1 = make_scorer(f1_score , average='macro')\n",
    "modele_foret = GridSearchCV(modele_foret,\n",
    "                                  parameters,\n",
    "                                  scoring = f1,\n",
    "                                  verbose = 2, \n",
    "                                  cv = 3)\n",
    "modele_foret.fit(X_train_resampled, Y_train_resampled)"
   ]
  },
  {
   "cell_type": "code",
   "execution_count": null,
   "id": "7c7637e9",
   "metadata": {},
   "outputs": [],
   "source": [
    "print(\"Voici les paramètres du meilleure modèle : \" + \n",
    "      str(modele_foret.best_estimator_))\n",
    "print(\"Voici le \"  + str(modele_foret.scorer_) + \n",
    "      \" du meilleure modèle : \" + str(modele_foret.best_score_))"
   ]
  },
  {
   "cell_type": "code",
   "execution_count": null,
   "id": "9c06e32f",
   "metadata": {},
   "outputs": [],
   "source": [
    "Y_pred = modele_foret.predict(X_test)\n",
    "Y_pred_proba = modele_foret.predict_proba(X_test)\n",
    "from sklearn.metrics import confusion_matrix\n",
    "mc = pd.DataFrame(confusion_matrix(Y_test,Y_pred), \n",
    "                  columns=['pred_0','pred_1'],\n",
    "                  index=['obs_0','obs_1'])\n",
    "\n",
    "mc"
   ]
  },
  {
   "cell_type": "code",
   "execution_count": null,
   "id": "54e87efd",
   "metadata": {},
   "outputs": [],
   "source": [
    "TP=mc.iloc[1,1]\n",
    "FN = mc.iloc[0,1]\n",
    "FP = mc.iloc[1,0]\n",
    "\n",
    "F = (2*TP)/((2*TP)+FN+FP)\n",
    "print(F)\n",
    "if F>best_f :\n",
    "    best_model = modele_foret.best_estimator_\n",
    "    best_f = F"
   ]
  },
  {
   "cell_type": "markdown",
   "id": "d8a55852",
   "metadata": {},
   "source": [
    "### SVM"
   ]
  },
  {
   "cell_type": "code",
   "execution_count": null,
   "id": "e235c334",
   "metadata": {},
   "outputs": [],
   "source": [
    "from sklearnex import patch_sklearn\n",
    "patch_sklearn(\"SVC\")"
   ]
  },
  {
   "cell_type": "code",
   "execution_count": null,
   "id": "3287248b",
   "metadata": {},
   "outputs": [],
   "source": [
    "from sklearn.svm import SVC\n",
    "model_svm = SVC()\n",
    "model_svm.fit(X_train_resampled, Y_train_resampled)"
   ]
  },
  {
   "cell_type": "code",
   "execution_count": null,
   "id": "72ce4471",
   "metadata": {},
   "outputs": [],
   "source": [
    "Y_pred = model_svm.predict(X_test)\n",
    "from sklearn.metrics import confusion_matrix\n",
    "mc = pd.DataFrame(confusion_matrix(Y_test,Y_pred), \n",
    "                  columns=['pred_0','pred_1'],\n",
    "                  index=['obs_0','obs_1'])\n",
    "\n",
    "mc"
   ]
  },
  {
   "cell_type": "code",
   "execution_count": null,
   "id": "d2372914",
   "metadata": {},
   "outputs": [],
   "source": [
    "TP=mc.iloc[1,1]\n",
    "FN = mc.iloc[0,1]\n",
    "FP = mc.iloc[1,0]\n",
    "\n",
    "F = (2*TP)/((2*TP)+FN+FP)\n",
    "print(F)\n",
    "\n",
    "if F>best_f :\n",
    "    best_model = model_svm\n",
    "    best_f = F"
   ]
  },
  {
   "cell_type": "markdown",
   "id": "8c61bc51",
   "metadata": {},
   "source": [
    "### Adaboost"
   ]
  },
  {
   "cell_type": "code",
   "execution_count": null,
   "id": "8d2985da",
   "metadata": {},
   "outputs": [],
   "source": [
    "from sklearn.ensemble import AdaBoostClassifier\n",
    "\n",
    "model_adaboost = AdaBoostClassifier(best_model)\n",
    "model_adaboost.fit(X_train_resampled, Y_train_resampled)"
   ]
  },
  {
   "cell_type": "code",
   "execution_count": null,
   "id": "562e126a",
   "metadata": {},
   "outputs": [],
   "source": [
    "Y_pred = model_adaboost.predict(X_test)\n",
    "Y_pred_proba = model_adaboost.predict_proba(X_test)\n",
    "from sklearn.metrics import confusion_matrix\n",
    "mc = pd.DataFrame(confusion_matrix(Y_test,Y_pred), \n",
    "                  columns=['pred_0','pred_1'],\n",
    "                  index=['obs_0','obs_1'])\n",
    "\n",
    "mc"
   ]
  },
  {
   "cell_type": "code",
   "execution_count": null,
   "id": "f9e15545",
   "metadata": {},
   "outputs": [],
   "source": [
    "TP=mc.iloc[1,1]\n",
    "FN = mc.iloc[0,1]\n",
    "FP = mc.iloc[1,0]\n",
    "\n",
    "F = (2*TP)/((2*TP)+FN+FP)\n",
    "print(F)"
   ]
  },
  {
   "cell_type": "markdown",
   "id": "0cdeafad",
   "metadata": {},
   "source": [
    "### Bagging"
   ]
  },
  {
   "cell_type": "code",
   "execution_count": null,
   "id": "d157daae",
   "metadata": {},
   "outputs": [],
   "source": [
    "from sklearn.ensemble import BaggingClassifier\n",
    "model_bagging = BaggingClassifier()\n",
    "\n",
    "model_bagging.fit(X_train_resampled, Y_train_resampled)"
   ]
  },
  {
   "cell_type": "code",
   "execution_count": null,
   "id": "a9d2a753",
   "metadata": {},
   "outputs": [],
   "source": [
    "Y_pred = model_bagging.predict(X_test)\n",
    "from sklearn.metrics import confusion_matrix\n",
    "mc = pd.DataFrame(confusion_matrix(Y_test,Y_pred), \n",
    "                  columns=['pred_0','pred_1'],\n",
    "                  index=['obs_0','obs_1'])\n",
    "\n",
    "mc"
   ]
  },
  {
   "cell_type": "code",
   "execution_count": null,
   "id": "509308c7",
   "metadata": {},
   "outputs": [],
   "source": [
    "from sklearn.metrics import accuracy_score\n",
    "print(accuracy_score(Y_test,Y_pred))"
   ]
  },
  {
   "cell_type": "code",
   "execution_count": null,
   "id": "cb61545b",
   "metadata": {},
   "outputs": [],
   "source": [
    "from sklearn.metrics import f1_score\n",
    "print('f1_score : ' + \n",
    "      str(f1_score(Y_test,Y_pred, average='macro')))"
   ]
  },
  {
   "cell_type": "code",
   "execution_count": null,
   "id": "137626eb",
   "metadata": {},
   "outputs": [],
   "source": [
    "TP=mc.iloc[1,1]\n",
    "FN = mc.iloc[0,1]\n",
    "FP = mc.iloc[1,0]\n",
    "\n",
    "F = (2*TP)/((2*TP)+FN+FP)\n",
    "print(F)"
   ]
  },
  {
   "cell_type": "markdown",
   "id": "5c43b6fb",
   "metadata": {},
   "source": [
    "## UNDERSAMPLING : 0.9 - 0.1 sur 100 000 individus"
   ]
  },
  {
   "cell_type": "code",
   "execution_count": null,
   "id": "f7a12ed3",
   "metadata": {},
   "outputs": [],
   "source": [
    "from imblearn.under_sampling import RandomUnderSampler\n",
    "\n",
    "rus = RandomUnderSampler(sampling_strategy={\"0\": 99000, \"1\": 1000})\n",
    "rus.fit(X_train, Y_train)\n",
    "X_train_resampled, Y_train_resampled = rus.fit_resample(X_train, Y_train)\n",
    "len(X_train_resampled)"
   ]
  },
  {
   "cell_type": "code",
   "execution_count": null,
   "id": "2c2f4a8b",
   "metadata": {},
   "outputs": [],
   "source": [
    "Y_train_resampled.value_counts(normalize=True)"
   ]
  },
  {
   "cell_type": "code",
   "execution_count": null,
   "id": "bca32d20",
   "metadata": {},
   "outputs": [],
   "source": [
    "best_f = 0"
   ]
  },
  {
   "cell_type": "markdown",
   "id": "60019eb1",
   "metadata": {},
   "source": [
    "### Arbre de décision"
   ]
  },
  {
   "cell_type": "code",
   "execution_count": null,
   "id": "0bcdb512",
   "metadata": {},
   "outputs": [],
   "source": [
    "from sklearn.tree import DecisionTreeClassifier\n",
    "from sklearn.model_selection import GridSearchCV\n",
    "from sklearn.metrics import make_scorer, f1_score\n",
    "import numpy as np\n",
    "\n",
    "parameters = {'max_depth' : np.arange(start = 16, stop = 24, step = 1) , \n",
    "              'min_samples_leaf' : np.arange(start = 2, stop = 4, step = 1),\n",
    "              'min_samples_split' : np.arange(start = 2, stop = 5, step = 1)}"
   ]
  },
  {
   "cell_type": "code",
   "execution_count": null,
   "id": "06071d86",
   "metadata": {},
   "outputs": [],
   "source": [
    "model_arbre = DecisionTreeClassifier()\n",
    "f1 = make_scorer(f1_score , average='macro')\n",
    "model_arbre = GridSearchCV(model_arbre,\n",
    "                                  parameters,\n",
    "                                  scoring = f1,\n",
    "                                  verbose = 2, \n",
    "                                  cv = 5)\n",
    "model_arbre.fit(X_train_resampled, Y_train_resampled)"
   ]
  },
  {
   "cell_type": "code",
   "execution_count": null,
   "id": "eb6375e4",
   "metadata": {},
   "outputs": [],
   "source": [
    "print(\"Voici les paramètres du meilleure modèle : \" + \n",
    "      str(model_arbre.best_estimator_))\n",
    "print(\"Voici le \"  + str(model_arbre.scorer_) + \n",
    "      \" du meilleure modèle : \" + str(model_arbre.best_score_))"
   ]
  },
  {
   "cell_type": "code",
   "execution_count": null,
   "id": "0142bd0c",
   "metadata": {},
   "outputs": [],
   "source": [
    "Y_pred = model_arbre.predict(X_test)\n",
    "Y_pred_proba = model_arbre.predict_proba(X_test)\n",
    "from sklearn.metrics import confusion_matrix\n",
    "mc = pd.DataFrame(confusion_matrix(Y_test,Y_pred), \n",
    "                  columns=['pred_0','pred_1'],\n",
    "                  index=['obs_0','obs_1'])\n",
    "\n",
    "mc"
   ]
  },
  {
   "cell_type": "code",
   "execution_count": null,
   "id": "0416dc7e",
   "metadata": {},
   "outputs": [],
   "source": [
    "TP=mc.iloc[1,1]\n",
    "FN = mc.iloc[0,1]\n",
    "FP = mc.iloc[1,0]\n",
    "\n",
    "F = (2*TP)/((2*TP)+FN+FP)\n",
    "print(F)\n",
    "\n",
    "if F>best_f :\n",
    "    best_model = model_arbre.best_estimator_\n",
    "    best_f = F"
   ]
  },
  {
   "cell_type": "markdown",
   "id": "675a4e86",
   "metadata": {},
   "source": [
    "### Random Forest"
   ]
  },
  {
   "cell_type": "code",
   "execution_count": null,
   "id": "e5383bb6",
   "metadata": {},
   "outputs": [],
   "source": [
    "from sklearn.ensemble import RandomForestClassifier\n",
    "from sklearn.model_selection import GridSearchCV\n",
    "from sklearn.metrics import make_scorer, f1_score\n",
    "import numpy as np\n",
    "\n",
    "parameters = {'max_depth' : np.arange(start = 16, stop = 21, step = 1) , \n",
    "              'min_samples_leaf' : np.arange(start = 2, stop = 4, step = 1),\n",
    "              'min_samples_split' : np.arange(start = 2, stop = 4, step = 1)}"
   ]
  },
  {
   "cell_type": "code",
   "execution_count": null,
   "id": "c05012a7",
   "metadata": {},
   "outputs": [],
   "source": [
    "modele_foret = RandomForestClassifier()\n",
    "f1 = make_scorer(f1_score , average='macro')\n",
    "modele_foret = GridSearchCV(modele_foret,\n",
    "                                  parameters,\n",
    "                                  scoring = f1,\n",
    "                                  verbose = 2, \n",
    "                                  cv = 3)\n",
    "modele_foret.fit(X_train_resampled, Y_train_resampled)"
   ]
  },
  {
   "cell_type": "code",
   "execution_count": null,
   "id": "e9ce3a64",
   "metadata": {},
   "outputs": [],
   "source": [
    "print(\"Voici les paramètres du meilleure modèle : \" + \n",
    "      str(modele_foret.best_estimator_))\n",
    "print(\"Voici le \"  + str(modele_foret.scorer_) + \n",
    "      \" du meilleure modèle : \" + str(modele_foret.best_score_))"
   ]
  },
  {
   "cell_type": "code",
   "execution_count": null,
   "id": "cb2c914b",
   "metadata": {},
   "outputs": [],
   "source": [
    "Y_pred = modele_foret.predict(X_test)\n",
    "Y_pred_proba = modele_foret.predict_proba(X_test)\n",
    "from sklearn.metrics import confusion_matrix\n",
    "mc = pd.DataFrame(confusion_matrix(Y_test,Y_pred), \n",
    "                  columns=['pred_0','pred_1'],\n",
    "                  index=['obs_0','obs_1'])\n",
    "\n",
    "mc"
   ]
  },
  {
   "cell_type": "code",
   "execution_count": null,
   "id": "314e5256",
   "metadata": {},
   "outputs": [],
   "source": [
    "TP=mc.iloc[1,1]\n",
    "FN = mc.iloc[0,1]\n",
    "FP = mc.iloc[1,0]\n",
    "\n",
    "F = (2*TP)/((2*TP)+FN+FP)\n",
    "print(F)\n",
    "if F>best_f :\n",
    "    best_model = modele_foret.best_estimator_\n",
    "    best_f = F"
   ]
  },
  {
   "cell_type": "markdown",
   "id": "78cf3d40",
   "metadata": {},
   "source": [
    "### SVM"
   ]
  },
  {
   "cell_type": "code",
   "execution_count": null,
   "id": "cfa0ab93",
   "metadata": {},
   "outputs": [],
   "source": [
    "from sklearnex import patch_sklearn\n",
    "patch_sklearn(\"SVC\")"
   ]
  },
  {
   "cell_type": "code",
   "execution_count": null,
   "id": "8999ba6b",
   "metadata": {},
   "outputs": [],
   "source": [
    "from sklearn.svm import SVC\n",
    "model_svm = SVC()\n",
    "model_svm.fit(X_train_resampled, Y_train_resampled)"
   ]
  },
  {
   "cell_type": "code",
   "execution_count": null,
   "id": "3749fe47",
   "metadata": {},
   "outputs": [],
   "source": [
    "Y_pred = model_svm.predict(X_test)\n",
    "from sklearn.metrics import confusion_matrix\n",
    "mc = pd.DataFrame(confusion_matrix(Y_test,Y_pred), \n",
    "                  columns=['pred_0','pred_1'],\n",
    "                  index=['obs_0','obs_1'])\n",
    "\n",
    "mc"
   ]
  },
  {
   "cell_type": "code",
   "execution_count": null,
   "id": "11999900",
   "metadata": {},
   "outputs": [],
   "source": [
    "TP=mc.iloc[1,1]\n",
    "FN = mc.iloc[0,1]\n",
    "FP = mc.iloc[1,0]\n",
    "\n",
    "F = (2*TP)/((2*TP)+FN+FP)\n",
    "print(F)\n",
    "\n",
    "if F>best_f :\n",
    "    best_model = model_svm\n",
    "    best_f = F"
   ]
  },
  {
   "cell_type": "markdown",
   "id": "6f3bc4e4",
   "metadata": {},
   "source": [
    "### Adaboost"
   ]
  },
  {
   "cell_type": "code",
   "execution_count": null,
   "id": "dcf728ed",
   "metadata": {},
   "outputs": [],
   "source": [
    "from sklearn.ensemble import AdaBoostClassifier\n",
    "\n",
    "model_adaboost = AdaBoostClassifier(best_model)\n",
    "model_adaboost.fit(X_train_resampled, Y_train_resampled)"
   ]
  },
  {
   "cell_type": "code",
   "execution_count": null,
   "id": "5ddd2b93",
   "metadata": {},
   "outputs": [],
   "source": [
    "Y_pred = model_adaboost.predict(X_test)\n",
    "Y_pred_proba = model_adaboost.predict_proba(X_test)\n",
    "from sklearn.metrics import confusion_matrix\n",
    "mc = pd.DataFrame(confusion_matrix(Y_test,Y_pred), \n",
    "                  columns=['pred_0','pred_1'],\n",
    "                  index=['obs_0','obs_1'])\n",
    "\n",
    "mc"
   ]
  },
  {
   "cell_type": "code",
   "execution_count": null,
   "id": "f4d13ebc",
   "metadata": {},
   "outputs": [],
   "source": [
    "TP=mc.iloc[1,1]\n",
    "FN = mc.iloc[0,1]\n",
    "FP = mc.iloc[1,0]\n",
    "\n",
    "F = (2*TP)/((2*TP)+FN+FP)\n",
    "print(F)"
   ]
  },
  {
   "cell_type": "markdown",
   "id": "44a1a2c3",
   "metadata": {},
   "source": [
    "### Bagging"
   ]
  },
  {
   "cell_type": "code",
   "execution_count": null,
   "id": "cac6a19b",
   "metadata": {},
   "outputs": [],
   "source": [
    "from sklearn.ensemble import BaggingClassifier\n",
    "model_bagging = BaggingClassifier()\n",
    "\n",
    "model_bagging.fit(X_train_resampled, Y_train_resampled)"
   ]
  },
  {
   "cell_type": "code",
   "execution_count": null,
   "id": "ae2ee416",
   "metadata": {},
   "outputs": [],
   "source": [
    "Y_pred = model_bagging.predict(X_test)\n",
    "from sklearn.metrics import confusion_matrix\n",
    "mc = pd.DataFrame(confusion_matrix(Y_test,Y_pred), \n",
    "                  columns=['pred_0','pred_1'],\n",
    "                  index=['obs_0','obs_1'])\n",
    "\n",
    "mc"
   ]
  },
  {
   "cell_type": "code",
   "execution_count": null,
   "id": "2863a089",
   "metadata": {},
   "outputs": [],
   "source": [
    "TP=mc.iloc[1,1]\n",
    "FN = mc.iloc[0,1]\n",
    "FP = mc.iloc[1,0]\n",
    "\n",
    "F = (2*TP)/((2*TP)+FN+FP)\n",
    "print(F)"
   ]
  },
  {
   "cell_type": "markdown",
   "id": "f5971825",
   "metadata": {},
   "source": [
    "## UNDERSAMPLING : 0.9-0.1 en prenant tous les Y"
   ]
  },
  {
   "cell_type": "code",
   "execution_count": null,
   "id": "2aeffe1b",
   "metadata": {},
   "outputs": [],
   "source": [
    "from imblearn.under_sampling import RandomUnderSampler\n",
    "\n",
    "rus = RandomUnderSampler(sampling_strategy=0.01)\n",
    "rus.fit(X_train, Y_train)\n",
    "X_train_resampled, Y_train_resampled = rus.fit_resample(X_train, Y_train)\n",
    "len(X_train_resampled)"
   ]
  },
  {
   "cell_type": "code",
   "execution_count": null,
   "id": "2ef1d43d",
   "metadata": {},
   "outputs": [],
   "source": [
    "Y_train_resampled.value_counts(normalize=True)"
   ]
  },
  {
   "cell_type": "code",
   "execution_count": null,
   "id": "6b759aa1",
   "metadata": {},
   "outputs": [],
   "source": [
    "best_f = 0"
   ]
  },
  {
   "cell_type": "markdown",
   "id": "caf01767",
   "metadata": {},
   "source": [
    "### Arbre de décision"
   ]
  },
  {
   "cell_type": "code",
   "execution_count": null,
   "id": "508ff972",
   "metadata": {},
   "outputs": [],
   "source": [
    "from sklearn.tree import DecisionTreeClassifier\n",
    "model_arbre = DecisionTreeClassifier(max_depth=10, min_samples_leaf=2, min_samples_split=2)\n",
    "model_arbre.fit(X_train_resampled, Y_train_resampled)"
   ]
  },
  {
   "cell_type": "code",
   "execution_count": null,
   "id": "518e4bed",
   "metadata": {},
   "outputs": [],
   "source": [
    "Y_pred = model_arbre.predict(X_test)\n",
    "Y_pred_proba = model_arbre.predict_proba(X_test)\n",
    "from sklearn.metrics import confusion_matrix\n",
    "mc = pd.DataFrame(confusion_matrix(Y_test,Y_pred), \n",
    "                  columns=['pred_0','pred_1'],\n",
    "                  index=['obs_0','obs_1'])\n",
    "\n",
    "mc"
   ]
  },
  {
   "cell_type": "code",
   "execution_count": null,
   "id": "394593d1",
   "metadata": {},
   "outputs": [],
   "source": [
    "TP=mc.iloc[1,1]\n",
    "FN = mc.iloc[0,1]\n",
    "FP = mc.iloc[1,0]\n",
    "\n",
    "F = (2*TP)/((2*TP)+FN+FP)\n",
    "print(F)\n",
    "\n",
    "if F>best_f :\n",
    "    best_model = model_arbre\n",
    "    best_f = F"
   ]
  },
  {
   "cell_type": "markdown",
   "id": "f9c0ef8b",
   "metadata": {},
   "source": [
    "### Random Forest"
   ]
  },
  {
   "cell_type": "code",
   "execution_count": null,
   "id": "99a63306",
   "metadata": {},
   "outputs": [],
   "source": [
    "from sklearn.ensemble import RandomForestClassifier\n",
    "model_forest = RandomForestClassifier(max_depth=10, min_samples_leaf=2, min_samples_split=2)\n",
    "model_forest.fit(X_train_resampled, Y_train_resampled)"
   ]
  },
  {
   "cell_type": "code",
   "execution_count": null,
   "id": "227bfe4d",
   "metadata": {},
   "outputs": [],
   "source": [
    "Y_pred = modele_foret.predict(X_test)\n",
    "Y_pred_proba = modele_foret.predict_proba(X_test)\n",
    "from sklearn.metrics import confusion_matrix\n",
    "mc = pd.DataFrame(confusion_matrix(Y_test,Y_pred), \n",
    "                  columns=['pred_0','pred_1'],\n",
    "                  index=['obs_0','obs_1'])\n",
    "\n",
    "mc"
   ]
  },
  {
   "cell_type": "code",
   "execution_count": null,
   "id": "b08ed3de",
   "metadata": {},
   "outputs": [],
   "source": [
    "TP=mc.iloc[1,1]\n",
    "FN = mc.iloc[0,1]\n",
    "FP = mc.iloc[1,0]\n",
    "\n",
    "F = (2*TP)/((2*TP)+FN+FP)\n",
    "print(F)\n",
    "if F>best_f :\n",
    "    best_model = modele_foret\n",
    "    best_f = F"
   ]
  },
  {
   "cell_type": "markdown",
   "id": "696f22f0",
   "metadata": {},
   "source": [
    "### SVM"
   ]
  },
  {
   "cell_type": "code",
   "execution_count": null,
   "id": "e9300011",
   "metadata": {},
   "outputs": [],
   "source": [
    "from sklearnex import patch_sklearn\n",
    "patch_sklearn(\"SVC\")"
   ]
  },
  {
   "cell_type": "code",
   "execution_count": null,
   "id": "cf2da090",
   "metadata": {},
   "outputs": [],
   "source": [
    "from sklearn.svm import SVC\n",
    "model_svm = SVC()\n",
    "model_svm.fit(X_train_resampled, Y_train_resampled)"
   ]
  },
  {
   "cell_type": "code",
   "execution_count": null,
   "id": "9581e190",
   "metadata": {},
   "outputs": [],
   "source": [
    "Y_pred = model_svm.predict(X_test)\n",
    "from sklearn.metrics import confusion_matrix\n",
    "mc = pd.DataFrame(confusion_matrix(Y_test,Y_pred), \n",
    "                  columns=['pred_0','pred_1'],\n",
    "                  index=['obs_0','obs_1'])\n",
    "\n",
    "mc"
   ]
  },
  {
   "cell_type": "code",
   "execution_count": null,
   "id": "4c0f539c",
   "metadata": {},
   "outputs": [],
   "source": [
    "TP=mc.iloc[1,1]\n",
    "FN = mc.iloc[0,1]\n",
    "FP = mc.iloc[1,0]\n",
    "\n",
    "F = (2*TP)/((2*TP)+FN+FP)\n",
    "print(F)\n",
    "\n",
    "if F>best_f :\n",
    "    best_model = model_svm\n",
    "    best_f = F"
   ]
  },
  {
   "cell_type": "markdown",
   "id": "0b761f90",
   "metadata": {},
   "source": [
    "### Adaboost"
   ]
  },
  {
   "cell_type": "code",
   "execution_count": null,
   "id": "62b2566c",
   "metadata": {},
   "outputs": [],
   "source": [
    "from sklearn.ensemble import AdaBoostClassifier\n",
    "\n",
    "model_adaboost = AdaBoostClassifier(best_model)\n",
    "model_adaboost.fit(X_train_resampled, Y_train_resampled)"
   ]
  },
  {
   "cell_type": "code",
   "execution_count": null,
   "id": "6ef23c3b",
   "metadata": {},
   "outputs": [],
   "source": [
    "Y_pred = model_adaboost.predict(X_test)\n",
    "Y_pred_proba = model_adaboost.predict_proba(X_test)\n",
    "from sklearn.metrics import confusion_matrix\n",
    "mc = pd.DataFrame(confusion_matrix(Y_test,Y_pred), \n",
    "                  columns=['pred_0','pred_1'],\n",
    "                  index=['obs_0','obs_1'])\n",
    "\n",
    "mc"
   ]
  },
  {
   "cell_type": "code",
   "execution_count": null,
   "id": "3335eebf",
   "metadata": {},
   "outputs": [],
   "source": [
    "TP=mc.iloc[1,1]\n",
    "FN = mc.iloc[0,1]\n",
    "FP = mc.iloc[1,0]\n",
    "\n",
    "F = (2*TP)/((2*TP)+FN+FP)\n",
    "print(F)"
   ]
  },
  {
   "cell_type": "markdown",
   "id": "47b9d426",
   "metadata": {},
   "source": [
    "### Bagging"
   ]
  },
  {
   "cell_type": "code",
   "execution_count": null,
   "id": "9c6f7516",
   "metadata": {},
   "outputs": [],
   "source": [
    "from sklearn.ensemble import BaggingClassifier\n",
    "model_bagging = BaggingClassifier()\n",
    "\n",
    "model_bagging.fit(X_train_resampled, Y_train_resampled)"
   ]
  },
  {
   "cell_type": "code",
   "execution_count": null,
   "id": "e0574479",
   "metadata": {},
   "outputs": [],
   "source": [
    "Y_pred = model_bagging.predict(X_test)\n",
    "from sklearn.metrics import confusion_matrix\n",
    "mc = pd.DataFrame(confusion_matrix(Y_test,Y_pred), \n",
    "                  columns=['pred_0','pred_1'],\n",
    "                  index=['obs_0','obs_1'])\n",
    "\n",
    "mc"
   ]
  },
  {
   "cell_type": "code",
   "execution_count": null,
   "id": "dac998c5",
   "metadata": {},
   "outputs": [],
   "source": [
    "TP=mc.iloc[1,1]\n",
    "FN = mc.iloc[0,1]\n",
    "FP = mc.iloc[1,0]\n",
    "\n",
    "F = (2*TP)/((2*TP)+FN+FP)\n",
    "print(F)"
   ]
  }
 ],
 "metadata": {
  "kernelspec": {
   "display_name": "Python 3 (ipykernel)",
   "language": "python",
   "name": "python3"
  },
  "language_info": {
   "codemirror_mode": {
    "name": "ipython",
    "version": 3
   },
   "file_extension": ".py",
   "mimetype": "text/x-python",
   "name": "python",
   "nbconvert_exporter": "python",
   "pygments_lexer": "ipython3",
   "version": "3.9.13"
  }
 },
 "nbformat": 4,
 "nbformat_minor": 5
}
