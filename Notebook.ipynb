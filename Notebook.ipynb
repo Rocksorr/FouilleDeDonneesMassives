{
 "cells": [
  {
   "cell_type": "code",
   "execution_count": 1,
   "id": "9867badf",
   "metadata": {},
   "outputs": [
    {
     "name": "stderr",
     "output_type": "stream",
     "text": [
      "C:\\Users\\spica\\AppData\\Local\\Temp\\ipykernel_23040\\2198844990.py:2: DtypeWarning: Columns (1,2,5,6,7,8,9,15,16,22) have mixed types. Specify dtype option on import or set low_memory=False.\n",
      "  df = pd.read_table(\"guillaume.txt\", sep=\";\")\n"
     ]
    },
    {
     "data": {
      "text/html": [
       "<div>\n",
       "<style scoped>\n",
       "    .dataframe tbody tr th:only-of-type {\n",
       "        vertical-align: middle;\n",
       "    }\n",
       "\n",
       "    .dataframe tbody tr th {\n",
       "        vertical-align: top;\n",
       "    }\n",
       "\n",
       "    .dataframe thead th {\n",
       "        text-align: right;\n",
       "    }\n",
       "</style>\n",
       "<table border=\"1\" class=\"dataframe\">\n",
       "  <thead>\n",
       "    <tr style=\"text-align: right;\">\n",
       "      <th></th>\n",
       "      <th>ZIBZIN</th>\n",
       "      <th>IDAvisAutorisationCheque</th>\n",
       "      <th>FlagImpaye</th>\n",
       "      <th>Montant</th>\n",
       "      <th>DateTransaction</th>\n",
       "      <th>CodeDecision</th>\n",
       "      <th>VerifianceCPT1</th>\n",
       "      <th>VerifianceCPT2</th>\n",
       "      <th>VerifianceCPT3</th>\n",
       "      <th>D2CB</th>\n",
       "      <th>...</th>\n",
       "      <th>TauxImpNb_RB</th>\n",
       "      <th>TauxImpNB_CPM</th>\n",
       "      <th>EcartNumCheq</th>\n",
       "      <th>NbrMagasin3J</th>\n",
       "      <th>DiffDateTr1</th>\n",
       "      <th>DiffDateTr2</th>\n",
       "      <th>DiffDateTr3</th>\n",
       "      <th>CA3TRetMtt</th>\n",
       "      <th>CA3TR</th>\n",
       "      <th>Heure</th>\n",
       "    </tr>\n",
       "  </thead>\n",
       "  <tbody>\n",
       "    <tr>\n",
       "      <th>0</th>\n",
       "      <td>A013010004908126703060931</td>\n",
       "      <td>78643044</td>\n",
       "      <td>0</td>\n",
       "      <td>20</td>\n",
       "      <td>2017-02-01 07:32:14</td>\n",
       "      <td>1</td>\n",
       "      <td>0</td>\n",
       "      <td>0</td>\n",
       "      <td>0</td>\n",
       "      <td>551</td>\n",
       "      <td>...</td>\n",
       "      <td>37,186667890919111</td>\n",
       "      <td>52,076033757361408</td>\n",
       "      <td>0</td>\n",
       "      <td>1</td>\n",
       "      <td>4</td>\n",
       "      <td>4</td>\n",
       "      <td>4</td>\n",
       "      <td>20</td>\n",
       "      <td>0</td>\n",
       "      <td>27134</td>\n",
       "    </tr>\n",
       "    <tr>\n",
       "      <th>1</th>\n",
       "      <td>A013011306908024927155000</td>\n",
       "      <td>78643045</td>\n",
       "      <td>0</td>\n",
       "      <td>20</td>\n",
       "      <td>2017-02-01 07:43:37</td>\n",
       "      <td>1</td>\n",
       "      <td>0</td>\n",
       "      <td>0</td>\n",
       "      <td>0</td>\n",
       "      <td>551</td>\n",
       "      <td>...</td>\n",
       "      <td>48,844716275908937</td>\n",
       "      <td>52,076033757361408</td>\n",
       "      <td>1</td>\n",
       "      <td>2</td>\n",
       "      <td>1,7976851851851852</td>\n",
       "      <td>4</td>\n",
       "      <td>4</td>\n",
       "      <td>28,609999999999999</td>\n",
       "      <td>8,6099999999999994</td>\n",
       "      <td>27817</td>\n",
       "    </tr>\n",
       "    <tr>\n",
       "      <th>2</th>\n",
       "      <td>A013010002908283134592527</td>\n",
       "      <td>78643046</td>\n",
       "      <td>0</td>\n",
       "      <td>57,640000000000001</td>\n",
       "      <td>2017-02-01 07:47:38</td>\n",
       "      <td>1</td>\n",
       "      <td>0</td>\n",
       "      <td>0</td>\n",
       "      <td>0</td>\n",
       "      <td>549</td>\n",
       "      <td>...</td>\n",
       "      <td>73,118279569892479</td>\n",
       "      <td>52,076033757361408</td>\n",
       "      <td>0</td>\n",
       "      <td>1</td>\n",
       "      <td>4</td>\n",
       "      <td>4</td>\n",
       "      <td>4</td>\n",
       "      <td>57,640000000000001</td>\n",
       "      <td>0</td>\n",
       "      <td>28058</td>\n",
       "    </tr>\n",
       "    <tr>\n",
       "      <th>3</th>\n",
       "      <td>A011010002908105209831316</td>\n",
       "      <td>78643047</td>\n",
       "      <td>0</td>\n",
       "      <td>54,289999999999999</td>\n",
       "      <td>2017-02-01 07:48:48</td>\n",
       "      <td>0</td>\n",
       "      <td>1</td>\n",
       "      <td>1</td>\n",
       "      <td>1</td>\n",
       "      <td>267</td>\n",
       "      <td>...</td>\n",
       "      <td>110,05692599620494</td>\n",
       "      <td>53,554233554497365</td>\n",
       "      <td>0</td>\n",
       "      <td>1</td>\n",
       "      <td>4</td>\n",
       "      <td>4</td>\n",
       "      <td>4</td>\n",
       "      <td>54,289999999999999</td>\n",
       "      <td>0</td>\n",
       "      <td>28128</td>\n",
       "    </tr>\n",
       "    <tr>\n",
       "      <th>4</th>\n",
       "      <td>A013010041908000125652029</td>\n",
       "      <td>78643048</td>\n",
       "      <td>0</td>\n",
       "      <td>26,899999999999999</td>\n",
       "      <td>2017-02-01 08:13:27</td>\n",
       "      <td>1</td>\n",
       "      <td>0</td>\n",
       "      <td>0</td>\n",
       "      <td>0</td>\n",
       "      <td>549</td>\n",
       "      <td>...</td>\n",
       "      <td>45,36831264567185</td>\n",
       "      <td>52,076033757361408</td>\n",
       "      <td>1</td>\n",
       "      <td>1</td>\n",
       "      <td>1,9971064814814814</td>\n",
       "      <td>4</td>\n",
       "      <td>4</td>\n",
       "      <td>59,149999999999999</td>\n",
       "      <td>32,25</td>\n",
       "      <td>29607</td>\n",
       "    </tr>\n",
       "  </tbody>\n",
       "</table>\n",
       "<p>5 rows × 23 columns</p>\n",
       "</div>"
      ],
      "text/plain": [
       "                      ZIBZIN IDAvisAutorisationCheque FlagImpaye  \\\n",
       "0  A013010004908126703060931                 78643044          0   \n",
       "1  A013011306908024927155000                 78643045          0   \n",
       "2  A013010002908283134592527                 78643046          0   \n",
       "3  A011010002908105209831316                 78643047          0   \n",
       "4  A013010041908000125652029                 78643048          0   \n",
       "\n",
       "              Montant      DateTransaction CodeDecision VerifianceCPT1  \\\n",
       "0                  20  2017-02-01 07:32:14            1              0   \n",
       "1                  20  2017-02-01 07:43:37            1              0   \n",
       "2  57,640000000000001  2017-02-01 07:47:38            1              0   \n",
       "3  54,289999999999999  2017-02-01 07:48:48            0              1   \n",
       "4  26,899999999999999  2017-02-01 08:13:27            1              0   \n",
       "\n",
       "  VerifianceCPT2 VerifianceCPT3 D2CB  ...        TauxImpNb_RB  \\\n",
       "0              0              0  551  ...  37,186667890919111   \n",
       "1              0              0  551  ...  48,844716275908937   \n",
       "2              0              0  549  ...  73,118279569892479   \n",
       "3              1              1  267  ...  110,05692599620494   \n",
       "4              0              0  549  ...   45,36831264567185   \n",
       "\n",
       "        TauxImpNB_CPM EcartNumCheq NbrMagasin3J         DiffDateTr1  \\\n",
       "0  52,076033757361408            0            1                   4   \n",
       "1  52,076033757361408            1            2  1,7976851851851852   \n",
       "2  52,076033757361408            0            1                   4   \n",
       "3  53,554233554497365            0            1                   4   \n",
       "4  52,076033757361408            1            1  1,9971064814814814   \n",
       "\n",
       "  DiffDateTr2 DiffDateTr3          CA3TRetMtt               CA3TR  Heure  \n",
       "0           4           4                  20                   0  27134  \n",
       "1           4           4  28,609999999999999  8,6099999999999994  27817  \n",
       "2           4           4  57,640000000000001                   0  28058  \n",
       "3           4           4  54,289999999999999                   0  28128  \n",
       "4           4           4  59,149999999999999               32,25  29607  \n",
       "\n",
       "[5 rows x 23 columns]"
      ]
     },
     "execution_count": 1,
     "metadata": {},
     "output_type": "execute_result"
    }
   ],
   "source": [
    "import pandas as pd\n",
    "df = pd.read_table(\"guillaume.txt\", sep=\";\")\n",
    "df.head()"
   ]
  },
  {
   "cell_type": "code",
   "execution_count": 2,
   "id": "f311a317",
   "metadata": {},
   "outputs": [
    {
     "data": {
      "text/plain": [
       "4646774"
      ]
     },
     "execution_count": 2,
     "metadata": {},
     "output_type": "execute_result"
    }
   ],
   "source": [
    "len(df)"
   ]
  },
  {
   "cell_type": "markdown",
   "id": "bdedcac0",
   "metadata": {},
   "source": [
    "# Nettoyage "
   ]
  },
  {
   "cell_type": "markdown",
   "id": "0d1c0842",
   "metadata": {},
   "source": [
    "On supprime la ligne 1956360 qui comporte comme valeur pour chaque colonne l'en-tête"
   ]
  },
  {
   "cell_type": "code",
   "execution_count": 3,
   "id": "3269792b",
   "metadata": {},
   "outputs": [],
   "source": [
    "df.drop(1956360, axis=0, inplace=True)"
   ]
  },
  {
   "cell_type": "markdown",
   "id": "39e7f866",
   "metadata": {},
   "source": [
    "On change le type des variables quantitatives"
   ]
  },
  {
   "cell_type": "code",
   "execution_count": 4,
   "id": "07e155e3",
   "metadata": {},
   "outputs": [],
   "source": [
    "var_quanti = [\"Montant\",\"ScoringFP1\",\"ScoringFP2\",\"ScoringFP3\",\"TauxImpNb_RB\",\"TauxImpNB_CPM\",\"DiffDateTr1\",\"DiffDateTr2\",\"DiffDateTr3\",\"CA3TRetMtt\",\"CA3TR\"]\n",
    "var_quanti_bug = [\"VerifianceCPT1\",\"VerifianceCPT2\",\"VerifianceCPT3\",\"EcartNumCheq\",\"NbrMagasin3J\",\"D2CB\"]\n",
    "new_df=df\n",
    "\n",
    "for i in var_quanti_bug:\n",
    "    new_df[i] = pd.to_numeric(new_df[i], downcast=\"float\")\n",
    "# On change le type des données\n",
    "for i in var_quanti:\n",
    "    new_df[i] = new_df[i].str.replace(\",\",\".\")\n",
    "    new_df[i] = pd.to_numeric(new_df[i], downcast=\"float\")"
   ]
  },
  {
   "cell_type": "code",
   "execution_count": 5,
   "id": "08bed459",
   "metadata": {},
   "outputs": [],
   "source": [
    "import datetime  \n",
    "\n",
    "date = []\n",
    "heure = []\n",
    "\n",
    "\n",
    "for i in new_df[\"DateTransaction\"]:\n",
    "    split = i.split(\" \")\n",
    "    date.append(split[0])\n",
    "    heure.append(split[1])\n",
    "\n",
    "for i in range(0,len(date)):\n",
    "    date[i] = datetime.datetime.strptime(date[i], '%Y-%m-%d')\n",
    "\n"
   ]
  },
  {
   "cell_type": "code",
   "execution_count": 6,
   "id": "099b70ac",
   "metadata": {},
   "outputs": [],
   "source": [
    "new_df[\"DateTransaction\"]=date\n",
    "new_df[\"Heure\"]=heure"
   ]
  },
  {
   "cell_type": "markdown",
   "id": "e92cc69d",
   "metadata": {},
   "source": [
    "On s'occupe des des valeurs manquantes "
   ]
  },
  {
   "cell_type": "code",
   "execution_count": 7,
   "id": "7f57b8c3",
   "metadata": {},
   "outputs": [
    {
     "name": "stdout",
     "output_type": "stream",
     "text": [
      "ZIBZIN                      0\n",
      "IDAvisAutorisationCheque    0\n",
      "FlagImpaye                  0\n",
      "Montant                     0\n",
      "DateTransaction             0\n",
      "CodeDecision                0\n",
      "VerifianceCPT1              0\n",
      "VerifianceCPT2              0\n",
      "VerifianceCPT3              0\n",
      "D2CB                        0\n",
      "ScoringFP1                  0\n",
      "ScoringFP2                  0\n",
      "ScoringFP3                  0\n",
      "TauxImpNb_RB                0\n",
      "TauxImpNB_CPM               0\n",
      "EcartNumCheq                0\n",
      "NbrMagasin3J                0\n",
      "DiffDateTr1                 0\n",
      "DiffDateTr2                 0\n",
      "DiffDateTr3                 0\n",
      "CA3TRetMtt                  0\n",
      "CA3TR                       0\n",
      "Heure                       0\n",
      "dtype: int64\n"
     ]
    }
   ],
   "source": [
    "print(new_df.isna().sum())"
   ]
  },
  {
   "cell_type": "markdown",
   "id": "f55f09ba",
   "metadata": {},
   "source": [
    "Aucune valeur manquantes"
   ]
  },
  {
   "cell_type": "markdown",
   "id": "6b8b58c6",
   "metadata": {},
   "source": [
    "On nettoie la colonne FlagImpaye"
   ]
  },
  {
   "cell_type": "code",
   "execution_count": 8,
   "id": "7fc5bb6e",
   "metadata": {},
   "outputs": [
    {
     "data": {
      "text/plain": [
       "0    4584151\n",
       "0      32627\n",
       "1      29855\n",
       "1        140\n",
       "Name: FlagImpaye, dtype: int64"
      ]
     },
     "execution_count": 8,
     "metadata": {},
     "output_type": "execute_result"
    }
   ],
   "source": [
    "new_df.FlagImpaye.value_counts()"
   ]
  },
  {
   "cell_type": "code",
   "execution_count": 9,
   "id": "f7243eff",
   "metadata": {},
   "outputs": [
    {
     "data": {
      "text/plain": [
       "0    0.993545\n",
       "1    0.006455\n",
       "Name: FlagImpaye, dtype: float64"
      ]
     },
     "execution_count": 9,
     "metadata": {},
     "output_type": "execute_result"
    }
   ],
   "source": [
    "new_df.FlagImpaye=new_df.FlagImpaye.replace(0,\"0\")\n",
    "new_df.FlagImpaye=new_df.FlagImpaye.replace(1,\"1\")\n",
    "new_df.FlagImpaye.value_counts(normalize=True)"
   ]
  },
  {
   "cell_type": "markdown",
   "id": "1d90ff9f",
   "metadata": {},
   "source": [
    "# SAMPLING"
   ]
  },
  {
   "cell_type": "markdown",
   "id": "09bd48e1",
   "metadata": {},
   "source": [
    "## Undersampling"
   ]
  },
  {
   "cell_type": "markdown",
   "id": "cef41674",
   "metadata": {},
   "source": [
    "On crée les dataframe train et test "
   ]
  },
  {
   "cell_type": "code",
   "execution_count": 10,
   "id": "b1f721a2",
   "metadata": {},
   "outputs": [],
   "source": [
    "train_df=new_df[(new_df[\"DateTransaction\"]>='2017-02-01') & (new_df[\"DateTransaction\"]<='2017-08-31')]\n",
    "test_df=new_df[(new_df[\"DateTransaction\"]>'2017-08-31')]"
   ]
  },
  {
   "cell_type": "code",
   "execution_count": 11,
   "id": "886c63e5",
   "metadata": {},
   "outputs": [],
   "source": [
    "Y_train = train_df.FlagImpaye\n",
    "Y_test = test_df.FlagImpaye\n",
    "X_train = train_df.drop(columns=[\"FlagImpaye\",\"ZIBZIN\",\"IDAvisAutorisationCheque\",\"CodeDecision\",\"DateTransaction\",\"Heure\"])\n",
    "X_test = test_df.drop(columns=[\"FlagImpaye\",\"ZIBZIN\",\"IDAvisAutorisationCheque\",\"CodeDecision\",\"DateTransaction\",\"Heure\"])"
   ]
  },
  {
   "cell_type": "code",
   "execution_count": 66,
   "id": "aad59280",
   "metadata": {},
   "outputs": [
    {
     "data": {
      "text/plain": [
       "70266"
      ]
     },
     "execution_count": 66,
     "metadata": {},
     "output_type": "execute_result"
    }
   ],
   "source": [
    "from imblearn.under_sampling import RandomUnderSampler\n",
    "\n",
    "rus = RandomUnderSampler(sampling_strategy=0.5)\n",
    "rus.fit(X_train, Y_train)\n",
    "X_train_resampled, Y_train_resampled = rus.fit_resample(X_train, Y_train)\n",
    "len(X_train_resampled)\n"
   ]
  },
  {
   "cell_type": "code",
   "execution_count": 98,
   "id": "77059c47",
   "metadata": {},
   "outputs": [
    {
     "data": {
      "text/plain": [
       "0    0.666667\n",
       "1    0.333333\n",
       "Name: FlagImpaye, dtype: float64"
      ]
     },
     "execution_count": 98,
     "metadata": {},
     "output_type": "execute_result"
    }
   ],
   "source": [
    "Y_train_resampled.value_counts(normalize=True)"
   ]
  },
  {
   "cell_type": "markdown",
   "id": "b391caa0",
   "metadata": {},
   "source": [
    "# MACHINE LEARNING"
   ]
  },
  {
   "cell_type": "markdown",
   "id": "cf051954",
   "metadata": {},
   "source": [
    "# Arbre de décision"
   ]
  },
  {
   "cell_type": "code",
   "execution_count": 68,
   "id": "5606b719",
   "metadata": {},
   "outputs": [],
   "source": [
    "import numpy as np\n",
    "\n",
    "parameters = {'max_depth' : np.arange(start = 16, stop = 24, step = 1) , \n",
    "              'min_samples_leaf' : np.arange(start = 2, stop = 4, step = 1),\n",
    "              'min_samples_split' : np.arange(start = 2, stop = 5, step = 1)}"
   ]
  },
  {
   "cell_type": "code",
   "execution_count": 71,
   "id": "607ac853",
   "metadata": {},
   "outputs": [
    {
     "name": "stdout",
     "output_type": "stream",
     "text": [
      "Fitting 5 folds for each of 48 candidates, totalling 240 fits\n",
      "[CV] END max_depth=16, min_samples_leaf=2, min_samples_split=2; total time=   0.8s\n",
      "[CV] END max_depth=16, min_samples_leaf=2, min_samples_split=2; total time=   0.7s\n",
      "[CV] END max_depth=16, min_samples_leaf=2, min_samples_split=2; total time=   0.7s\n",
      "[CV] END max_depth=16, min_samples_leaf=2, min_samples_split=2; total time=   0.7s\n",
      "[CV] END max_depth=16, min_samples_leaf=2, min_samples_split=2; total time=   0.7s\n",
      "[CV] END max_depth=16, min_samples_leaf=2, min_samples_split=3; total time=   0.7s\n",
      "[CV] END max_depth=16, min_samples_leaf=2, min_samples_split=3; total time=   0.8s\n",
      "[CV] END max_depth=16, min_samples_leaf=2, min_samples_split=3; total time=   0.7s\n",
      "[CV] END max_depth=16, min_samples_leaf=2, min_samples_split=3; total time=   0.8s\n",
      "[CV] END max_depth=16, min_samples_leaf=2, min_samples_split=3; total time=   0.7s\n",
      "[CV] END max_depth=16, min_samples_leaf=2, min_samples_split=4; total time=   0.7s\n",
      "[CV] END max_depth=16, min_samples_leaf=2, min_samples_split=4; total time=   0.7s\n",
      "[CV] END max_depth=16, min_samples_leaf=2, min_samples_split=4; total time=   0.7s\n",
      "[CV] END max_depth=16, min_samples_leaf=2, min_samples_split=4; total time=   0.7s\n",
      "[CV] END max_depth=16, min_samples_leaf=2, min_samples_split=4; total time=   0.7s\n",
      "[CV] END max_depth=16, min_samples_leaf=3, min_samples_split=2; total time=   0.7s\n",
      "[CV] END max_depth=16, min_samples_leaf=3, min_samples_split=2; total time=   0.7s\n",
      "[CV] END max_depth=16, min_samples_leaf=3, min_samples_split=2; total time=   0.7s\n",
      "[CV] END max_depth=16, min_samples_leaf=3, min_samples_split=2; total time=   0.7s\n",
      "[CV] END max_depth=16, min_samples_leaf=3, min_samples_split=2; total time=   0.7s\n",
      "[CV] END max_depth=16, min_samples_leaf=3, min_samples_split=3; total time=   0.7s\n",
      "[CV] END max_depth=16, min_samples_leaf=3, min_samples_split=3; total time=   0.7s\n",
      "[CV] END max_depth=16, min_samples_leaf=3, min_samples_split=3; total time=   0.8s\n",
      "[CV] END max_depth=16, min_samples_leaf=3, min_samples_split=3; total time=   0.7s\n",
      "[CV] END max_depth=16, min_samples_leaf=3, min_samples_split=3; total time=   0.7s\n",
      "[CV] END max_depth=16, min_samples_leaf=3, min_samples_split=4; total time=   0.7s\n",
      "[CV] END max_depth=16, min_samples_leaf=3, min_samples_split=4; total time=   0.7s\n",
      "[CV] END max_depth=16, min_samples_leaf=3, min_samples_split=4; total time=   0.7s\n",
      "[CV] END max_depth=16, min_samples_leaf=3, min_samples_split=4; total time=   0.7s\n",
      "[CV] END max_depth=16, min_samples_leaf=3, min_samples_split=4; total time=   0.7s\n",
      "[CV] END max_depth=17, min_samples_leaf=2, min_samples_split=2; total time=   0.7s\n",
      "[CV] END max_depth=17, min_samples_leaf=2, min_samples_split=2; total time=   0.8s\n",
      "[CV] END max_depth=17, min_samples_leaf=2, min_samples_split=2; total time=   0.8s\n",
      "[CV] END max_depth=17, min_samples_leaf=2, min_samples_split=2; total time=   0.7s\n",
      "[CV] END max_depth=17, min_samples_leaf=2, min_samples_split=2; total time=   0.7s\n",
      "[CV] END max_depth=17, min_samples_leaf=2, min_samples_split=3; total time=   0.8s\n",
      "[CV] END max_depth=17, min_samples_leaf=2, min_samples_split=3; total time=   0.7s\n",
      "[CV] END max_depth=17, min_samples_leaf=2, min_samples_split=3; total time=   0.7s\n",
      "[CV] END max_depth=17, min_samples_leaf=2, min_samples_split=3; total time=   0.7s\n",
      "[CV] END max_depth=17, min_samples_leaf=2, min_samples_split=3; total time=   0.7s\n",
      "[CV] END max_depth=17, min_samples_leaf=2, min_samples_split=4; total time=   0.7s\n",
      "[CV] END max_depth=17, min_samples_leaf=2, min_samples_split=4; total time=   0.7s\n",
      "[CV] END max_depth=17, min_samples_leaf=2, min_samples_split=4; total time=   0.7s\n",
      "[CV] END max_depth=17, min_samples_leaf=2, min_samples_split=4; total time=   0.7s\n",
      "[CV] END max_depth=17, min_samples_leaf=2, min_samples_split=4; total time=   0.7s\n",
      "[CV] END max_depth=17, min_samples_leaf=3, min_samples_split=2; total time=   0.8s\n",
      "[CV] END max_depth=17, min_samples_leaf=3, min_samples_split=2; total time=   0.7s\n",
      "[CV] END max_depth=17, min_samples_leaf=3, min_samples_split=2; total time=   0.8s\n",
      "[CV] END max_depth=17, min_samples_leaf=3, min_samples_split=2; total time=   0.7s\n",
      "[CV] END max_depth=17, min_samples_leaf=3, min_samples_split=2; total time=   0.7s\n",
      "[CV] END max_depth=17, min_samples_leaf=3, min_samples_split=3; total time=   0.7s\n",
      "[CV] END max_depth=17, min_samples_leaf=3, min_samples_split=3; total time=   0.7s\n",
      "[CV] END max_depth=17, min_samples_leaf=3, min_samples_split=3; total time=   0.7s\n",
      "[CV] END max_depth=17, min_samples_leaf=3, min_samples_split=3; total time=   0.7s\n",
      "[CV] END max_depth=17, min_samples_leaf=3, min_samples_split=3; total time=   0.7s\n",
      "[CV] END max_depth=17, min_samples_leaf=3, min_samples_split=4; total time=   0.7s\n",
      "[CV] END max_depth=17, min_samples_leaf=3, min_samples_split=4; total time=   0.7s\n",
      "[CV] END max_depth=17, min_samples_leaf=3, min_samples_split=4; total time=   0.7s\n",
      "[CV] END max_depth=17, min_samples_leaf=3, min_samples_split=4; total time=   0.7s\n",
      "[CV] END max_depth=17, min_samples_leaf=3, min_samples_split=4; total time=   0.7s\n",
      "[CV] END max_depth=18, min_samples_leaf=2, min_samples_split=2; total time=   0.7s\n",
      "[CV] END max_depth=18, min_samples_leaf=2, min_samples_split=2; total time=   0.8s\n",
      "[CV] END max_depth=18, min_samples_leaf=2, min_samples_split=2; total time=   0.8s\n",
      "[CV] END max_depth=18, min_samples_leaf=2, min_samples_split=2; total time=   0.8s\n",
      "[CV] END max_depth=18, min_samples_leaf=2, min_samples_split=2; total time=   0.7s\n",
      "[CV] END max_depth=18, min_samples_leaf=2, min_samples_split=3; total time=   0.7s\n",
      "[CV] END max_depth=18, min_samples_leaf=2, min_samples_split=3; total time=   0.8s\n",
      "[CV] END max_depth=18, min_samples_leaf=2, min_samples_split=3; total time=   0.8s\n",
      "[CV] END max_depth=18, min_samples_leaf=2, min_samples_split=3; total time=   0.8s\n",
      "[CV] END max_depth=18, min_samples_leaf=2, min_samples_split=3; total time=   0.8s\n",
      "[CV] END max_depth=18, min_samples_leaf=2, min_samples_split=4; total time=   0.7s\n",
      "[CV] END max_depth=18, min_samples_leaf=2, min_samples_split=4; total time=   0.8s\n",
      "[CV] END max_depth=18, min_samples_leaf=2, min_samples_split=4; total time=   0.8s\n",
      "[CV] END max_depth=18, min_samples_leaf=2, min_samples_split=4; total time=   0.8s\n",
      "[CV] END max_depth=18, min_samples_leaf=2, min_samples_split=4; total time=   0.7s\n",
      "[CV] END max_depth=18, min_samples_leaf=3, min_samples_split=2; total time=   0.7s\n",
      "[CV] END max_depth=18, min_samples_leaf=3, min_samples_split=2; total time=   0.7s\n",
      "[CV] END max_depth=18, min_samples_leaf=3, min_samples_split=2; total time=   0.7s\n",
      "[CV] END max_depth=18, min_samples_leaf=3, min_samples_split=2; total time=   0.7s\n",
      "[CV] END max_depth=18, min_samples_leaf=3, min_samples_split=2; total time=   0.7s\n",
      "[CV] END max_depth=18, min_samples_leaf=3, min_samples_split=3; total time=   0.8s\n",
      "[CV] END max_depth=18, min_samples_leaf=3, min_samples_split=3; total time=   0.8s\n",
      "[CV] END max_depth=18, min_samples_leaf=3, min_samples_split=3; total time=   0.8s\n",
      "[CV] END max_depth=18, min_samples_leaf=3, min_samples_split=3; total time=   0.7s\n",
      "[CV] END max_depth=18, min_samples_leaf=3, min_samples_split=3; total time=   0.7s\n",
      "[CV] END max_depth=18, min_samples_leaf=3, min_samples_split=4; total time=   0.7s\n",
      "[CV] END max_depth=18, min_samples_leaf=3, min_samples_split=4; total time=   0.7s\n",
      "[CV] END max_depth=18, min_samples_leaf=3, min_samples_split=4; total time=   0.7s\n",
      "[CV] END max_depth=18, min_samples_leaf=3, min_samples_split=4; total time=   0.7s\n",
      "[CV] END max_depth=18, min_samples_leaf=3, min_samples_split=4; total time=   0.7s\n",
      "[CV] END max_depth=19, min_samples_leaf=2, min_samples_split=2; total time=   0.8s\n",
      "[CV] END max_depth=19, min_samples_leaf=2, min_samples_split=2; total time=   0.8s\n",
      "[CV] END max_depth=19, min_samples_leaf=2, min_samples_split=2; total time=   0.8s\n",
      "[CV] END max_depth=19, min_samples_leaf=2, min_samples_split=2; total time=   0.8s\n",
      "[CV] END max_depth=19, min_samples_leaf=2, min_samples_split=2; total time=   0.8s\n",
      "[CV] END max_depth=19, min_samples_leaf=2, min_samples_split=3; total time=   0.8s\n",
      "[CV] END max_depth=19, min_samples_leaf=2, min_samples_split=3; total time=   0.8s\n",
      "[CV] END max_depth=19, min_samples_leaf=2, min_samples_split=3; total time=   0.8s\n"
     ]
    },
    {
     "name": "stdout",
     "output_type": "stream",
     "text": [
      "[CV] END max_depth=19, min_samples_leaf=2, min_samples_split=3; total time=   0.8s\n",
      "[CV] END max_depth=19, min_samples_leaf=2, min_samples_split=3; total time=   0.8s\n",
      "[CV] END max_depth=19, min_samples_leaf=2, min_samples_split=4; total time=   0.7s\n",
      "[CV] END max_depth=19, min_samples_leaf=2, min_samples_split=4; total time=   0.8s\n",
      "[CV] END max_depth=19, min_samples_leaf=2, min_samples_split=4; total time=   0.7s\n",
      "[CV] END max_depth=19, min_samples_leaf=2, min_samples_split=4; total time=   0.7s\n",
      "[CV] END max_depth=19, min_samples_leaf=2, min_samples_split=4; total time=   0.8s\n",
      "[CV] END max_depth=19, min_samples_leaf=3, min_samples_split=2; total time=   0.8s\n",
      "[CV] END max_depth=19, min_samples_leaf=3, min_samples_split=2; total time=   0.8s\n",
      "[CV] END max_depth=19, min_samples_leaf=3, min_samples_split=2; total time=   0.7s\n",
      "[CV] END max_depth=19, min_samples_leaf=3, min_samples_split=2; total time=   0.7s\n",
      "[CV] END max_depth=19, min_samples_leaf=3, min_samples_split=2; total time=   0.7s\n",
      "[CV] END max_depth=19, min_samples_leaf=3, min_samples_split=3; total time=   0.7s\n",
      "[CV] END max_depth=19, min_samples_leaf=3, min_samples_split=3; total time=   0.8s\n",
      "[CV] END max_depth=19, min_samples_leaf=3, min_samples_split=3; total time=   0.7s\n",
      "[CV] END max_depth=19, min_samples_leaf=3, min_samples_split=3; total time=   0.8s\n",
      "[CV] END max_depth=19, min_samples_leaf=3, min_samples_split=3; total time=   0.7s\n",
      "[CV] END max_depth=19, min_samples_leaf=3, min_samples_split=4; total time=   0.7s\n",
      "[CV] END max_depth=19, min_samples_leaf=3, min_samples_split=4; total time=   0.9s\n",
      "[CV] END max_depth=19, min_samples_leaf=3, min_samples_split=4; total time=   0.8s\n",
      "[CV] END max_depth=19, min_samples_leaf=3, min_samples_split=4; total time=   0.7s\n",
      "[CV] END max_depth=19, min_samples_leaf=3, min_samples_split=4; total time=   0.7s\n",
      "[CV] END max_depth=20, min_samples_leaf=2, min_samples_split=2; total time=   0.8s\n",
      "[CV] END max_depth=20, min_samples_leaf=2, min_samples_split=2; total time=   0.8s\n",
      "[CV] END max_depth=20, min_samples_leaf=2, min_samples_split=2; total time=   0.8s\n",
      "[CV] END max_depth=20, min_samples_leaf=2, min_samples_split=2; total time=   0.7s\n",
      "[CV] END max_depth=20, min_samples_leaf=2, min_samples_split=2; total time=   0.7s\n",
      "[CV] END max_depth=20, min_samples_leaf=2, min_samples_split=3; total time=   0.8s\n",
      "[CV] END max_depth=20, min_samples_leaf=2, min_samples_split=3; total time=   0.8s\n",
      "[CV] END max_depth=20, min_samples_leaf=2, min_samples_split=3; total time=   0.8s\n",
      "[CV] END max_depth=20, min_samples_leaf=2, min_samples_split=3; total time=   0.8s\n",
      "[CV] END max_depth=20, min_samples_leaf=2, min_samples_split=3; total time=   0.8s\n",
      "[CV] END max_depth=20, min_samples_leaf=2, min_samples_split=4; total time=   0.7s\n",
      "[CV] END max_depth=20, min_samples_leaf=2, min_samples_split=4; total time=   0.8s\n",
      "[CV] END max_depth=20, min_samples_leaf=2, min_samples_split=4; total time=   0.9s\n",
      "[CV] END max_depth=20, min_samples_leaf=2, min_samples_split=4; total time=   0.7s\n",
      "[CV] END max_depth=20, min_samples_leaf=2, min_samples_split=4; total time=   0.7s\n",
      "[CV] END max_depth=20, min_samples_leaf=3, min_samples_split=2; total time=   0.7s\n",
      "[CV] END max_depth=20, min_samples_leaf=3, min_samples_split=2; total time=   0.8s\n",
      "[CV] END max_depth=20, min_samples_leaf=3, min_samples_split=2; total time=   0.8s\n",
      "[CV] END max_depth=20, min_samples_leaf=3, min_samples_split=2; total time=   0.7s\n",
      "[CV] END max_depth=20, min_samples_leaf=3, min_samples_split=2; total time=   0.8s\n",
      "[CV] END max_depth=20, min_samples_leaf=3, min_samples_split=3; total time=   0.8s\n",
      "[CV] END max_depth=20, min_samples_leaf=3, min_samples_split=3; total time=   0.8s\n",
      "[CV] END max_depth=20, min_samples_leaf=3, min_samples_split=3; total time=   0.8s\n",
      "[CV] END max_depth=20, min_samples_leaf=3, min_samples_split=3; total time=   0.7s\n",
      "[CV] END max_depth=20, min_samples_leaf=3, min_samples_split=3; total time=   0.7s\n",
      "[CV] END max_depth=20, min_samples_leaf=3, min_samples_split=4; total time=   0.8s\n",
      "[CV] END max_depth=20, min_samples_leaf=3, min_samples_split=4; total time=   0.8s\n",
      "[CV] END max_depth=20, min_samples_leaf=3, min_samples_split=4; total time=   0.8s\n",
      "[CV] END max_depth=20, min_samples_leaf=3, min_samples_split=4; total time=   0.7s\n",
      "[CV] END max_depth=20, min_samples_leaf=3, min_samples_split=4; total time=   0.7s\n",
      "[CV] END max_depth=21, min_samples_leaf=2, min_samples_split=2; total time=   0.8s\n",
      "[CV] END max_depth=21, min_samples_leaf=2, min_samples_split=2; total time=   0.8s\n",
      "[CV] END max_depth=21, min_samples_leaf=2, min_samples_split=2; total time=   0.8s\n",
      "[CV] END max_depth=21, min_samples_leaf=2, min_samples_split=2; total time=   0.8s\n",
      "[CV] END max_depth=21, min_samples_leaf=2, min_samples_split=2; total time=   0.7s\n",
      "[CV] END max_depth=21, min_samples_leaf=2, min_samples_split=3; total time=   0.8s\n",
      "[CV] END max_depth=21, min_samples_leaf=2, min_samples_split=3; total time=   0.7s\n",
      "[CV] END max_depth=21, min_samples_leaf=2, min_samples_split=3; total time=   0.8s\n",
      "[CV] END max_depth=21, min_samples_leaf=2, min_samples_split=3; total time=   0.7s\n",
      "[CV] END max_depth=21, min_samples_leaf=2, min_samples_split=3; total time=   0.7s\n",
      "[CV] END max_depth=21, min_samples_leaf=2, min_samples_split=4; total time=   0.8s\n",
      "[CV] END max_depth=21, min_samples_leaf=2, min_samples_split=4; total time=   0.8s\n",
      "[CV] END max_depth=21, min_samples_leaf=2, min_samples_split=4; total time=   0.8s\n",
      "[CV] END max_depth=21, min_samples_leaf=2, min_samples_split=4; total time=   0.9s\n",
      "[CV] END max_depth=21, min_samples_leaf=2, min_samples_split=4; total time=   0.8s\n",
      "[CV] END max_depth=21, min_samples_leaf=3, min_samples_split=2; total time=   0.8s\n",
      "[CV] END max_depth=21, min_samples_leaf=3, min_samples_split=2; total time=   0.8s\n",
      "[CV] END max_depth=21, min_samples_leaf=3, min_samples_split=2; total time=   0.7s\n",
      "[CV] END max_depth=21, min_samples_leaf=3, min_samples_split=2; total time=   0.7s\n",
      "[CV] END max_depth=21, min_samples_leaf=3, min_samples_split=2; total time=   0.7s\n",
      "[CV] END max_depth=21, min_samples_leaf=3, min_samples_split=3; total time=   0.7s\n",
      "[CV] END max_depth=21, min_samples_leaf=3, min_samples_split=3; total time=   0.9s\n",
      "[CV] END max_depth=21, min_samples_leaf=3, min_samples_split=3; total time=   0.7s\n",
      "[CV] END max_depth=21, min_samples_leaf=3, min_samples_split=3; total time=   0.7s\n",
      "[CV] END max_depth=21, min_samples_leaf=3, min_samples_split=3; total time=   0.7s\n",
      "[CV] END max_depth=21, min_samples_leaf=3, min_samples_split=4; total time=   0.8s\n",
      "[CV] END max_depth=21, min_samples_leaf=3, min_samples_split=4; total time=   0.8s\n",
      "[CV] END max_depth=21, min_samples_leaf=3, min_samples_split=4; total time=   0.8s\n",
      "[CV] END max_depth=21, min_samples_leaf=3, min_samples_split=4; total time=   0.8s\n",
      "[CV] END max_depth=21, min_samples_leaf=3, min_samples_split=4; total time=   0.7s\n",
      "[CV] END max_depth=22, min_samples_leaf=2, min_samples_split=2; total time=   0.8s\n",
      "[CV] END max_depth=22, min_samples_leaf=2, min_samples_split=2; total time=   0.8s\n",
      "[CV] END max_depth=22, min_samples_leaf=2, min_samples_split=2; total time=   0.8s\n",
      "[CV] END max_depth=22, min_samples_leaf=2, min_samples_split=2; total time=   0.8s\n",
      "[CV] END max_depth=22, min_samples_leaf=2, min_samples_split=2; total time=   0.8s\n",
      "[CV] END max_depth=22, min_samples_leaf=2, min_samples_split=3; total time=   0.8s\n",
      "[CV] END max_depth=22, min_samples_leaf=2, min_samples_split=3; total time=   0.8s\n",
      "[CV] END max_depth=22, min_samples_leaf=2, min_samples_split=3; total time=   0.8s\n",
      "[CV] END max_depth=22, min_samples_leaf=2, min_samples_split=3; total time=   0.7s\n",
      "[CV] END max_depth=22, min_samples_leaf=2, min_samples_split=3; total time=   0.8s\n",
      "[CV] END max_depth=22, min_samples_leaf=2, min_samples_split=4; total time=   0.8s\n",
      "[CV] END max_depth=22, min_samples_leaf=2, min_samples_split=4; total time=   0.8s\n",
      "[CV] END max_depth=22, min_samples_leaf=2, min_samples_split=4; total time=   0.8s\n",
      "[CV] END max_depth=22, min_samples_leaf=2, min_samples_split=4; total time=   0.8s\n",
      "[CV] END max_depth=22, min_samples_leaf=2, min_samples_split=4; total time=   0.7s\n",
      "[CV] END max_depth=22, min_samples_leaf=3, min_samples_split=2; total time=   0.7s\n",
      "[CV] END max_depth=22, min_samples_leaf=3, min_samples_split=2; total time=   0.8s\n"
     ]
    },
    {
     "name": "stdout",
     "output_type": "stream",
     "text": [
      "[CV] END max_depth=22, min_samples_leaf=3, min_samples_split=2; total time=   0.8s\n",
      "[CV] END max_depth=22, min_samples_leaf=3, min_samples_split=2; total time=   0.7s\n",
      "[CV] END max_depth=22, min_samples_leaf=3, min_samples_split=2; total time=   0.7s\n",
      "[CV] END max_depth=22, min_samples_leaf=3, min_samples_split=3; total time=   0.8s\n",
      "[CV] END max_depth=22, min_samples_leaf=3, min_samples_split=3; total time=   0.8s\n",
      "[CV] END max_depth=22, min_samples_leaf=3, min_samples_split=3; total time=   0.8s\n",
      "[CV] END max_depth=22, min_samples_leaf=3, min_samples_split=3; total time=   0.7s\n",
      "[CV] END max_depth=22, min_samples_leaf=3, min_samples_split=3; total time=   0.7s\n",
      "[CV] END max_depth=22, min_samples_leaf=3, min_samples_split=4; total time=   0.8s\n",
      "[CV] END max_depth=22, min_samples_leaf=3, min_samples_split=4; total time=   0.8s\n",
      "[CV] END max_depth=22, min_samples_leaf=3, min_samples_split=4; total time=   0.8s\n",
      "[CV] END max_depth=22, min_samples_leaf=3, min_samples_split=4; total time=   0.8s\n",
      "[CV] END max_depth=22, min_samples_leaf=3, min_samples_split=4; total time=   0.7s\n",
      "[CV] END max_depth=23, min_samples_leaf=2, min_samples_split=2; total time=   0.8s\n",
      "[CV] END max_depth=23, min_samples_leaf=2, min_samples_split=2; total time=   0.8s\n",
      "[CV] END max_depth=23, min_samples_leaf=2, min_samples_split=2; total time=   0.8s\n",
      "[CV] END max_depth=23, min_samples_leaf=2, min_samples_split=2; total time=   0.8s\n",
      "[CV] END max_depth=23, min_samples_leaf=2, min_samples_split=2; total time=   0.8s\n",
      "[CV] END max_depth=23, min_samples_leaf=2, min_samples_split=3; total time=   0.8s\n",
      "[CV] END max_depth=23, min_samples_leaf=2, min_samples_split=3; total time=   0.8s\n",
      "[CV] END max_depth=23, min_samples_leaf=2, min_samples_split=3; total time=   0.8s\n",
      "[CV] END max_depth=23, min_samples_leaf=2, min_samples_split=3; total time=   0.7s\n",
      "[CV] END max_depth=23, min_samples_leaf=2, min_samples_split=3; total time=   0.7s\n",
      "[CV] END max_depth=23, min_samples_leaf=2, min_samples_split=4; total time=   0.8s\n",
      "[CV] END max_depth=23, min_samples_leaf=2, min_samples_split=4; total time=   0.8s\n",
      "[CV] END max_depth=23, min_samples_leaf=2, min_samples_split=4; total time=   0.8s\n",
      "[CV] END max_depth=23, min_samples_leaf=2, min_samples_split=4; total time=   0.8s\n",
      "[CV] END max_depth=23, min_samples_leaf=2, min_samples_split=4; total time=   0.8s\n",
      "[CV] END max_depth=23, min_samples_leaf=3, min_samples_split=2; total time=   0.8s\n",
      "[CV] END max_depth=23, min_samples_leaf=3, min_samples_split=2; total time=   0.8s\n",
      "[CV] END max_depth=23, min_samples_leaf=3, min_samples_split=2; total time=   0.8s\n",
      "[CV] END max_depth=23, min_samples_leaf=3, min_samples_split=2; total time=   0.8s\n",
      "[CV] END max_depth=23, min_samples_leaf=3, min_samples_split=2; total time=   0.8s\n",
      "[CV] END max_depth=23, min_samples_leaf=3, min_samples_split=3; total time=   0.9s\n",
      "[CV] END max_depth=23, min_samples_leaf=3, min_samples_split=3; total time=   1.1s\n",
      "[CV] END max_depth=23, min_samples_leaf=3, min_samples_split=3; total time=   1.0s\n",
      "[CV] END max_depth=23, min_samples_leaf=3, min_samples_split=3; total time=   0.8s\n",
      "[CV] END max_depth=23, min_samples_leaf=3, min_samples_split=3; total time=   0.7s\n",
      "[CV] END max_depth=23, min_samples_leaf=3, min_samples_split=4; total time=   0.8s\n",
      "[CV] END max_depth=23, min_samples_leaf=3, min_samples_split=4; total time=   0.8s\n",
      "[CV] END max_depth=23, min_samples_leaf=3, min_samples_split=4; total time=   0.8s\n",
      "[CV] END max_depth=23, min_samples_leaf=3, min_samples_split=4; total time=   0.7s\n",
      "[CV] END max_depth=23, min_samples_leaf=3, min_samples_split=4; total time=   0.8s\n"
     ]
    },
    {
     "data": {
      "text/plain": [
       "GridSearchCV(cv=5, estimator=DecisionTreeClassifier(),\n",
       "             param_grid={'max_depth': array([16, 17, 18, 19, 20, 21, 22, 23]),\n",
       "                         'min_samples_leaf': array([2, 3]),\n",
       "                         'min_samples_split': array([2, 3, 4])},\n",
       "             scoring=make_scorer(f1_score, average=macro), verbose=2)"
      ]
     },
     "execution_count": 71,
     "metadata": {},
     "output_type": "execute_result"
    }
   ],
   "source": [
    "model_arbre = DecisionTreeClassifier()\n",
    "f1 = make_scorer(f1_score , average='macro')\n",
    "model_arbre = GridSearchCV(model_arbre,\n",
    "                                  parameters,\n",
    "                                  scoring = f1,\n",
    "                                  verbose = 2, \n",
    "                                  cv = 5)\n",
    "model_arbre.fit(X_train_resampled, Y_train_resampled)"
   ]
  },
  {
   "cell_type": "code",
   "execution_count": 72,
   "id": "bbf72915",
   "metadata": {},
   "outputs": [
    {
     "name": "stdout",
     "output_type": "stream",
     "text": [
      "Voici les paramètres du meilleure modèle : DecisionTreeClassifier(max_depth=23, min_samples_leaf=2)\n",
      "Voici le make_scorer(f1_score, average=macro) du meilleure modèle : 0.73741331764506\n"
     ]
    }
   ],
   "source": [
    "print(\"Voici les paramètres du meilleure modèle : \" + \n",
    "      str(model_arbre.best_estimator_))\n",
    "print(\"Voici le \"  + str(model_arbre.scorer_) + \n",
    "      \" du meilleure modèle : \" + str(model_arbre.best_score_))"
   ]
  },
  {
   "cell_type": "code",
   "execution_count": 74,
   "id": "5fd5c666",
   "metadata": {},
   "outputs": [
    {
     "data": {
      "text/html": [
       "<div>\n",
       "<style scoped>\n",
       "    .dataframe tbody tr th:only-of-type {\n",
       "        vertical-align: middle;\n",
       "    }\n",
       "\n",
       "    .dataframe tbody tr th {\n",
       "        vertical-align: top;\n",
       "    }\n",
       "\n",
       "    .dataframe thead th {\n",
       "        text-align: right;\n",
       "    }\n",
       "</style>\n",
       "<table border=\"1\" class=\"dataframe\">\n",
       "  <thead>\n",
       "    <tr style=\"text-align: right;\">\n",
       "      <th></th>\n",
       "      <th>pred_0</th>\n",
       "      <th>pred_1</th>\n",
       "    </tr>\n",
       "  </thead>\n",
       "  <tbody>\n",
       "    <tr>\n",
       "      <th>obs_0</th>\n",
       "      <td>558936</td>\n",
       "      <td>181902</td>\n",
       "    </tr>\n",
       "    <tr>\n",
       "      <th>obs_1</th>\n",
       "      <td>3393</td>\n",
       "      <td>3180</td>\n",
       "    </tr>\n",
       "  </tbody>\n",
       "</table>\n",
       "</div>"
      ],
      "text/plain": [
       "       pred_0  pred_1\n",
       "obs_0  558936  181902\n",
       "obs_1    3393    3180"
      ]
     },
     "execution_count": 74,
     "metadata": {},
     "output_type": "execute_result"
    }
   ],
   "source": [
    "Y_pred = model_arbre.predict(X_test)\n",
    "Y_pred_proba = model_arbre.predict_proba(X_test)\n",
    "from sklearn.metrics import confusion_matrix\n",
    "mc = pd.DataFrame(confusion_matrix(Y_test,Y_pred), \n",
    "                  columns=['pred_0','pred_1'],\n",
    "                  index=['obs_0','obs_1'])\n",
    "\n",
    "mc"
   ]
  },
  {
   "cell_type": "code",
   "execution_count": 75,
   "id": "6c2e625b",
   "metadata": {},
   "outputs": [
    {
     "name": "stdout",
     "output_type": "stream",
     "text": [
      "0.752084194639897\n"
     ]
    }
   ],
   "source": [
    "from sklearn.metrics import accuracy_score\n",
    "print(accuracy_score(Y_test,Y_pred))"
   ]
  },
  {
   "cell_type": "code",
   "execution_count": 76,
   "id": "63dcff7f",
   "metadata": {},
   "outputs": [
    {
     "name": "stdout",
     "output_type": "stream",
     "text": [
      "f1_score : 0.4454982028156442\n"
     ]
    }
   ],
   "source": [
    "from sklearn.metrics import f1_score\n",
    "print('f1_score : ' + \n",
    "      str(f1_score(Y_test,Y_pred, average='macro')))"
   ]
  },
  {
   "cell_type": "markdown",
   "id": "67534675",
   "metadata": {},
   "source": [
    "## Random Forest"
   ]
  },
  {
   "cell_type": "code",
   "execution_count": 24,
   "id": "96c7fa7c",
   "metadata": {},
   "outputs": [],
   "source": [
    "from sklearn.ensemble import RandomForestClassifier\n",
    "from sklearn.model_selection import GridSearchCV\n",
    "from sklearn.metrics import make_scorer, f1_score\n",
    "import numpy as np\n",
    "\n",
    "parameters = {'max_depth' : np.arange(start = 16, stop = 24, step = 1) , \n",
    "              'min_samples_leaf' : np.arange(start = 2, stop = 4, step = 1),\n",
    "              'min_samples_split' : np.arange(start = 2, stop = 5, step = 1)}\n"
   ]
  },
  {
   "cell_type": "code",
   "execution_count": 82,
   "id": "c46f8a7e",
   "metadata": {},
   "outputs": [
    {
     "name": "stdout",
     "output_type": "stream",
     "text": [
      "Fitting 5 folds for each of 48 candidates, totalling 240 fits\n",
      "[CV] END max_depth=16, min_samples_leaf=2, min_samples_split=2; total time=  13.8s\n",
      "[CV] END max_depth=16, min_samples_leaf=2, min_samples_split=2; total time=  14.4s\n",
      "[CV] END max_depth=16, min_samples_leaf=2, min_samples_split=2; total time=  13.1s\n",
      "[CV] END max_depth=16, min_samples_leaf=2, min_samples_split=2; total time=  14.0s\n",
      "[CV] END max_depth=16, min_samples_leaf=2, min_samples_split=2; total time=  12.5s\n",
      "[CV] END max_depth=16, min_samples_leaf=2, min_samples_split=3; total time=  14.6s\n",
      "[CV] END max_depth=16, min_samples_leaf=2, min_samples_split=3; total time=  12.6s\n",
      "[CV] END max_depth=16, min_samples_leaf=2, min_samples_split=3; total time=  14.1s\n",
      "[CV] END max_depth=16, min_samples_leaf=2, min_samples_split=3; total time=  12.1s\n",
      "[CV] END max_depth=16, min_samples_leaf=2, min_samples_split=3; total time=  11.6s\n",
      "[CV] END max_depth=16, min_samples_leaf=2, min_samples_split=4; total time=  12.3s\n",
      "[CV] END max_depth=16, min_samples_leaf=2, min_samples_split=4; total time=  12.4s\n",
      "[CV] END max_depth=16, min_samples_leaf=2, min_samples_split=4; total time=  12.0s\n",
      "[CV] END max_depth=16, min_samples_leaf=2, min_samples_split=4; total time=  11.8s\n",
      "[CV] END max_depth=16, min_samples_leaf=2, min_samples_split=4; total time=  12.5s\n",
      "[CV] END max_depth=16, min_samples_leaf=3, min_samples_split=2; total time=  12.4s\n",
      "[CV] END max_depth=16, min_samples_leaf=3, min_samples_split=2; total time=  12.2s\n",
      "[CV] END max_depth=16, min_samples_leaf=3, min_samples_split=2; total time=  12.3s\n",
      "[CV] END max_depth=16, min_samples_leaf=3, min_samples_split=2; total time=  17.9s\n",
      "[CV] END max_depth=16, min_samples_leaf=3, min_samples_split=2; total time=  20.2s\n",
      "[CV] END max_depth=16, min_samples_leaf=3, min_samples_split=3; total time=  14.0s\n",
      "[CV] END max_depth=16, min_samples_leaf=3, min_samples_split=3; total time=  12.6s\n",
      "[CV] END max_depth=16, min_samples_leaf=3, min_samples_split=3; total time=  13.9s\n",
      "[CV] END max_depth=16, min_samples_leaf=3, min_samples_split=3; total time=  13.7s\n",
      "[CV] END max_depth=16, min_samples_leaf=3, min_samples_split=3; total time=  11.9s\n",
      "[CV] END max_depth=16, min_samples_leaf=3, min_samples_split=4; total time=  11.8s\n",
      "[CV] END max_depth=16, min_samples_leaf=3, min_samples_split=4; total time=  13.0s\n",
      "[CV] END max_depth=16, min_samples_leaf=3, min_samples_split=4; total time=  12.2s\n",
      "[CV] END max_depth=16, min_samples_leaf=3, min_samples_split=4; total time=  12.9s\n",
      "[CV] END max_depth=16, min_samples_leaf=3, min_samples_split=4; total time=  11.6s\n",
      "[CV] END max_depth=17, min_samples_leaf=2, min_samples_split=2; total time=  15.7s\n",
      "[CV] END max_depth=17, min_samples_leaf=2, min_samples_split=2; total time=  12.4s\n",
      "[CV] END max_depth=17, min_samples_leaf=2, min_samples_split=2; total time=  12.4s\n",
      "[CV] END max_depth=17, min_samples_leaf=2, min_samples_split=2; total time=  11.9s\n",
      "[CV] END max_depth=17, min_samples_leaf=2, min_samples_split=2; total time=  12.4s\n",
      "[CV] END max_depth=17, min_samples_leaf=2, min_samples_split=3; total time=  12.4s\n",
      "[CV] END max_depth=17, min_samples_leaf=2, min_samples_split=3; total time=  13.4s\n",
      "[CV] END max_depth=17, min_samples_leaf=2, min_samples_split=3; total time=  16.5s\n",
      "[CV] END max_depth=17, min_samples_leaf=2, min_samples_split=3; total time=  13.2s\n",
      "[CV] END max_depth=17, min_samples_leaf=2, min_samples_split=3; total time=  13.4s\n",
      "[CV] END max_depth=17, min_samples_leaf=2, min_samples_split=4; total time=  13.0s\n",
      "[CV] END max_depth=17, min_samples_leaf=2, min_samples_split=4; total time=  13.6s\n",
      "[CV] END max_depth=17, min_samples_leaf=2, min_samples_split=4; total time=  15.0s\n",
      "[CV] END max_depth=17, min_samples_leaf=2, min_samples_split=4; total time=  14.8s\n",
      "[CV] END max_depth=17, min_samples_leaf=2, min_samples_split=4; total time=  13.7s\n",
      "[CV] END max_depth=17, min_samples_leaf=3, min_samples_split=2; total time=  13.5s\n",
      "[CV] END max_depth=17, min_samples_leaf=3, min_samples_split=2; total time=  12.8s\n",
      "[CV] END max_depth=17, min_samples_leaf=3, min_samples_split=2; total time=  13.5s\n",
      "[CV] END max_depth=17, min_samples_leaf=3, min_samples_split=2; total time=  11.9s\n",
      "[CV] END max_depth=17, min_samples_leaf=3, min_samples_split=2; total time=  12.7s\n",
      "[CV] END max_depth=17, min_samples_leaf=3, min_samples_split=3; total time=  12.7s\n",
      "[CV] END max_depth=17, min_samples_leaf=3, min_samples_split=3; total time=  12.0s\n",
      "[CV] END max_depth=17, min_samples_leaf=3, min_samples_split=3; total time=  12.1s\n",
      "[CV] END max_depth=17, min_samples_leaf=3, min_samples_split=3; total time=  11.7s\n",
      "[CV] END max_depth=17, min_samples_leaf=3, min_samples_split=3; total time=  17.3s\n",
      "[CV] END max_depth=17, min_samples_leaf=3, min_samples_split=4; total time=  14.0s\n",
      "[CV] END max_depth=17, min_samples_leaf=3, min_samples_split=4; total time=  18.1s\n",
      "[CV] END max_depth=17, min_samples_leaf=3, min_samples_split=4; total time=  14.5s\n",
      "[CV] END max_depth=17, min_samples_leaf=3, min_samples_split=4; total time=  11.2s\n",
      "[CV] END max_depth=17, min_samples_leaf=3, min_samples_split=4; total time=  11.5s\n",
      "[CV] END max_depth=18, min_samples_leaf=2, min_samples_split=2; total time=  13.0s\n",
      "[CV] END max_depth=18, min_samples_leaf=2, min_samples_split=2; total time=  12.4s\n",
      "[CV] END max_depth=18, min_samples_leaf=2, min_samples_split=2; total time=  13.1s\n",
      "[CV] END max_depth=18, min_samples_leaf=2, min_samples_split=2; total time=  12.9s\n",
      "[CV] END max_depth=18, min_samples_leaf=2, min_samples_split=2; total time=  13.1s\n",
      "[CV] END max_depth=18, min_samples_leaf=2, min_samples_split=3; total time=  13.3s\n",
      "[CV] END max_depth=18, min_samples_leaf=2, min_samples_split=3; total time=  14.7s\n",
      "[CV] END max_depth=18, min_samples_leaf=2, min_samples_split=3; total time=  17.1s\n",
      "[CV] END max_depth=18, min_samples_leaf=2, min_samples_split=3; total time=  14.3s\n",
      "[CV] END max_depth=18, min_samples_leaf=2, min_samples_split=3; total time=  19.0s\n",
      "[CV] END max_depth=18, min_samples_leaf=2, min_samples_split=4; total time=  19.6s\n",
      "[CV] END max_depth=18, min_samples_leaf=2, min_samples_split=4; total time=  17.2s\n",
      "[CV] END max_depth=18, min_samples_leaf=2, min_samples_split=4; total time=  15.5s\n",
      "[CV] END max_depth=18, min_samples_leaf=2, min_samples_split=4; total time=  13.9s\n",
      "[CV] END max_depth=18, min_samples_leaf=2, min_samples_split=4; total time=  14.0s\n",
      "[CV] END max_depth=18, min_samples_leaf=3, min_samples_split=2; total time=  16.7s\n",
      "[CV] END max_depth=18, min_samples_leaf=3, min_samples_split=2; total time=  13.2s\n",
      "[CV] END max_depth=18, min_samples_leaf=3, min_samples_split=2; total time=  15.4s\n",
      "[CV] END max_depth=18, min_samples_leaf=3, min_samples_split=2; total time=  18.1s\n",
      "[CV] END max_depth=18, min_samples_leaf=3, min_samples_split=2; total time=  16.0s\n",
      "[CV] END max_depth=18, min_samples_leaf=3, min_samples_split=3; total time=  13.1s\n",
      "[CV] END max_depth=18, min_samples_leaf=3, min_samples_split=3; total time=  12.7s\n",
      "[CV] END max_depth=18, min_samples_leaf=3, min_samples_split=3; total time=  12.2s\n",
      "[CV] END max_depth=18, min_samples_leaf=3, min_samples_split=3; total time=  13.9s\n",
      "[CV] END max_depth=18, min_samples_leaf=3, min_samples_split=3; total time=  13.4s\n",
      "[CV] END max_depth=18, min_samples_leaf=3, min_samples_split=4; total time=  19.4s\n",
      "[CV] END max_depth=18, min_samples_leaf=3, min_samples_split=4; total time=  14.8s\n",
      "[CV] END max_depth=18, min_samples_leaf=3, min_samples_split=4; total time=  16.1s\n",
      "[CV] END max_depth=18, min_samples_leaf=3, min_samples_split=4; total time=  14.0s\n",
      "[CV] END max_depth=18, min_samples_leaf=3, min_samples_split=4; total time=  14.4s\n",
      "[CV] END max_depth=19, min_samples_leaf=2, min_samples_split=2; total time=  15.3s\n",
      "[CV] END max_depth=19, min_samples_leaf=2, min_samples_split=2; total time=  13.6s\n",
      "[CV] END max_depth=19, min_samples_leaf=2, min_samples_split=2; total time=  13.4s\n",
      "[CV] END max_depth=19, min_samples_leaf=2, min_samples_split=2; total time=  15.4s\n",
      "[CV] END max_depth=19, min_samples_leaf=2, min_samples_split=2; total time=  14.5s\n",
      "[CV] END max_depth=19, min_samples_leaf=2, min_samples_split=3; total time=  14.5s\n",
      "[CV] END max_depth=19, min_samples_leaf=2, min_samples_split=3; total time=  14.9s\n",
      "[CV] END max_depth=19, min_samples_leaf=2, min_samples_split=3; total time=  14.8s\n"
     ]
    },
    {
     "name": "stdout",
     "output_type": "stream",
     "text": [
      "[CV] END max_depth=19, min_samples_leaf=2, min_samples_split=3; total time=  14.7s\n",
      "[CV] END max_depth=19, min_samples_leaf=2, min_samples_split=3; total time=  15.7s\n",
      "[CV] END max_depth=19, min_samples_leaf=2, min_samples_split=4; total time=  14.2s\n",
      "[CV] END max_depth=19, min_samples_leaf=2, min_samples_split=4; total time=  13.8s\n",
      "[CV] END max_depth=19, min_samples_leaf=2, min_samples_split=4; total time=  10.2s\n",
      "[CV] END max_depth=19, min_samples_leaf=2, min_samples_split=4; total time=   9.6s\n",
      "[CV] END max_depth=19, min_samples_leaf=2, min_samples_split=4; total time=  10.0s\n",
      "[CV] END max_depth=19, min_samples_leaf=3, min_samples_split=2; total time=   9.0s\n",
      "[CV] END max_depth=19, min_samples_leaf=3, min_samples_split=2; total time=   8.8s\n",
      "[CV] END max_depth=19, min_samples_leaf=3, min_samples_split=2; total time=   9.0s\n",
      "[CV] END max_depth=19, min_samples_leaf=3, min_samples_split=2; total time=   9.3s\n",
      "[CV] END max_depth=19, min_samples_leaf=3, min_samples_split=2; total time=   8.9s\n",
      "[CV] END max_depth=19, min_samples_leaf=3, min_samples_split=3; total time=  12.2s\n",
      "[CV] END max_depth=19, min_samples_leaf=3, min_samples_split=3; total time=  16.9s\n",
      "[CV] END max_depth=19, min_samples_leaf=3, min_samples_split=3; total time=  14.7s\n",
      "[CV] END max_depth=19, min_samples_leaf=3, min_samples_split=3; total time=  16.1s\n",
      "[CV] END max_depth=19, min_samples_leaf=3, min_samples_split=3; total time=  16.1s\n",
      "[CV] END max_depth=19, min_samples_leaf=3, min_samples_split=4; total time=  16.1s\n",
      "[CV] END max_depth=19, min_samples_leaf=3, min_samples_split=4; total time=  17.2s\n",
      "[CV] END max_depth=19, min_samples_leaf=3, min_samples_split=4; total time=  17.7s\n",
      "[CV] END max_depth=19, min_samples_leaf=3, min_samples_split=4; total time=  14.2s\n",
      "[CV] END max_depth=19, min_samples_leaf=3, min_samples_split=4; total time=  15.1s\n",
      "[CV] END max_depth=20, min_samples_leaf=2, min_samples_split=2; total time=  15.3s\n",
      "[CV] END max_depth=20, min_samples_leaf=2, min_samples_split=2; total time=  15.6s\n",
      "[CV] END max_depth=20, min_samples_leaf=2, min_samples_split=2; total time=  15.0s\n",
      "[CV] END max_depth=20, min_samples_leaf=2, min_samples_split=2; total time=  15.7s\n",
      "[CV] END max_depth=20, min_samples_leaf=2, min_samples_split=2; total time=  14.7s\n",
      "[CV] END max_depth=20, min_samples_leaf=2, min_samples_split=3; total time=  16.9s\n",
      "[CV] END max_depth=20, min_samples_leaf=2, min_samples_split=3; total time=  17.2s\n",
      "[CV] END max_depth=20, min_samples_leaf=2, min_samples_split=3; total time=  14.1s\n",
      "[CV] END max_depth=20, min_samples_leaf=2, min_samples_split=3; total time=  16.7s\n",
      "[CV] END max_depth=20, min_samples_leaf=2, min_samples_split=3; total time=  15.7s\n",
      "[CV] END max_depth=20, min_samples_leaf=2, min_samples_split=4; total time=  15.2s\n",
      "[CV] END max_depth=20, min_samples_leaf=2, min_samples_split=4; total time=  15.5s\n",
      "[CV] END max_depth=20, min_samples_leaf=2, min_samples_split=4; total time=  14.3s\n",
      "[CV] END max_depth=20, min_samples_leaf=2, min_samples_split=4; total time=  16.1s\n",
      "[CV] END max_depth=20, min_samples_leaf=2, min_samples_split=4; total time=  14.5s\n",
      "[CV] END max_depth=20, min_samples_leaf=3, min_samples_split=2; total time=  18.1s\n",
      "[CV] END max_depth=20, min_samples_leaf=3, min_samples_split=2; total time=  15.1s\n",
      "[CV] END max_depth=20, min_samples_leaf=3, min_samples_split=2; total time=  15.3s\n",
      "[CV] END max_depth=20, min_samples_leaf=3, min_samples_split=2; total time=  15.2s\n",
      "[CV] END max_depth=20, min_samples_leaf=3, min_samples_split=2; total time=  14.3s\n",
      "[CV] END max_depth=20, min_samples_leaf=3, min_samples_split=3; total time=  15.1s\n",
      "[CV] END max_depth=20, min_samples_leaf=3, min_samples_split=3; total time=  15.3s\n",
      "[CV] END max_depth=20, min_samples_leaf=3, min_samples_split=3; total time=  15.1s\n",
      "[CV] END max_depth=20, min_samples_leaf=3, min_samples_split=3; total time=  14.5s\n",
      "[CV] END max_depth=20, min_samples_leaf=3, min_samples_split=3; total time=  14.2s\n",
      "[CV] END max_depth=20, min_samples_leaf=3, min_samples_split=4; total time=  14.6s\n",
      "[CV] END max_depth=20, min_samples_leaf=3, min_samples_split=4; total time=  13.7s\n",
      "[CV] END max_depth=20, min_samples_leaf=3, min_samples_split=4; total time=  12.9s\n",
      "[CV] END max_depth=20, min_samples_leaf=3, min_samples_split=4; total time=  13.0s\n",
      "[CV] END max_depth=20, min_samples_leaf=3, min_samples_split=4; total time=  13.8s\n",
      "[CV] END max_depth=21, min_samples_leaf=2, min_samples_split=2; total time=  18.7s\n",
      "[CV] END max_depth=21, min_samples_leaf=2, min_samples_split=2; total time=  16.1s\n",
      "[CV] END max_depth=21, min_samples_leaf=2, min_samples_split=2; total time=  17.7s\n",
      "[CV] END max_depth=21, min_samples_leaf=2, min_samples_split=2; total time=  18.0s\n",
      "[CV] END max_depth=21, min_samples_leaf=2, min_samples_split=2; total time=  19.8s\n",
      "[CV] END max_depth=21, min_samples_leaf=2, min_samples_split=3; total time=  18.8s\n",
      "[CV] END max_depth=21, min_samples_leaf=2, min_samples_split=3; total time=  17.2s\n",
      "[CV] END max_depth=21, min_samples_leaf=2, min_samples_split=3; total time=  15.7s\n",
      "[CV] END max_depth=21, min_samples_leaf=2, min_samples_split=3; total time=  16.7s\n",
      "[CV] END max_depth=21, min_samples_leaf=2, min_samples_split=3; total time=  15.7s\n",
      "[CV] END max_depth=21, min_samples_leaf=2, min_samples_split=4; total time=  16.1s\n",
      "[CV] END max_depth=21, min_samples_leaf=2, min_samples_split=4; total time=  20.1s\n",
      "[CV] END max_depth=21, min_samples_leaf=2, min_samples_split=4; total time=  19.4s\n",
      "[CV] END max_depth=21, min_samples_leaf=2, min_samples_split=4; total time=  20.9s\n",
      "[CV] END max_depth=21, min_samples_leaf=2, min_samples_split=4; total time=  22.1s\n",
      "[CV] END max_depth=21, min_samples_leaf=3, min_samples_split=2; total time=  17.3s\n",
      "[CV] END max_depth=21, min_samples_leaf=3, min_samples_split=2; total time=  16.8s\n",
      "[CV] END max_depth=21, min_samples_leaf=3, min_samples_split=2; total time=  15.2s\n",
      "[CV] END max_depth=21, min_samples_leaf=3, min_samples_split=2; total time=  16.4s\n",
      "[CV] END max_depth=21, min_samples_leaf=3, min_samples_split=2; total time=  19.0s\n",
      "[CV] END max_depth=21, min_samples_leaf=3, min_samples_split=3; total time=  19.9s\n",
      "[CV] END max_depth=21, min_samples_leaf=3, min_samples_split=3; total time=  17.2s\n",
      "[CV] END max_depth=21, min_samples_leaf=3, min_samples_split=3; total time=  15.7s\n",
      "[CV] END max_depth=21, min_samples_leaf=3, min_samples_split=3; total time=  16.8s\n",
      "[CV] END max_depth=21, min_samples_leaf=3, min_samples_split=3; total time=  14.8s\n",
      "[CV] END max_depth=21, min_samples_leaf=3, min_samples_split=4; total time=  15.9s\n",
      "[CV] END max_depth=21, min_samples_leaf=3, min_samples_split=4; total time=  14.4s\n",
      "[CV] END max_depth=21, min_samples_leaf=3, min_samples_split=4; total time=  15.7s\n",
      "[CV] END max_depth=21, min_samples_leaf=3, min_samples_split=4; total time=  15.6s\n",
      "[CV] END max_depth=21, min_samples_leaf=3, min_samples_split=4; total time=  15.3s\n",
      "[CV] END max_depth=22, min_samples_leaf=2, min_samples_split=2; total time=  16.7s\n",
      "[CV] END max_depth=22, min_samples_leaf=2, min_samples_split=2; total time=  16.8s\n",
      "[CV] END max_depth=22, min_samples_leaf=2, min_samples_split=2; total time=  16.5s\n",
      "[CV] END max_depth=22, min_samples_leaf=2, min_samples_split=2; total time=  25.2s\n",
      "[CV] END max_depth=22, min_samples_leaf=2, min_samples_split=2; total time=  16.3s\n",
      "[CV] END max_depth=22, min_samples_leaf=2, min_samples_split=3; total time=  11.8s\n",
      "[CV] END max_depth=22, min_samples_leaf=2, min_samples_split=3; total time=   9.8s\n",
      "[CV] END max_depth=22, min_samples_leaf=2, min_samples_split=3; total time=  13.3s\n",
      "[CV] END max_depth=22, min_samples_leaf=2, min_samples_split=3; total time=  11.5s\n",
      "[CV] END max_depth=22, min_samples_leaf=2, min_samples_split=3; total time=  11.9s\n",
      "[CV] END max_depth=22, min_samples_leaf=2, min_samples_split=4; total time=  11.6s\n",
      "[CV] END max_depth=22, min_samples_leaf=2, min_samples_split=4; total time=  12.0s\n",
      "[CV] END max_depth=22, min_samples_leaf=2, min_samples_split=4; total time=  11.9s\n",
      "[CV] END max_depth=22, min_samples_leaf=2, min_samples_split=4; total time=  12.4s\n",
      "[CV] END max_depth=22, min_samples_leaf=2, min_samples_split=4; total time=  11.8s\n",
      "[CV] END max_depth=22, min_samples_leaf=3, min_samples_split=2; total time=  12.5s\n",
      "[CV] END max_depth=22, min_samples_leaf=3, min_samples_split=2; total time=  11.2s\n"
     ]
    },
    {
     "name": "stdout",
     "output_type": "stream",
     "text": [
      "[CV] END max_depth=22, min_samples_leaf=3, min_samples_split=2; total time=  12.0s\n",
      "[CV] END max_depth=22, min_samples_leaf=3, min_samples_split=2; total time=  12.8s\n",
      "[CV] END max_depth=22, min_samples_leaf=3, min_samples_split=2; total time=  12.0s\n",
      "[CV] END max_depth=22, min_samples_leaf=3, min_samples_split=3; total time=  11.8s\n",
      "[CV] END max_depth=22, min_samples_leaf=3, min_samples_split=3; total time=  11.9s\n",
      "[CV] END max_depth=22, min_samples_leaf=3, min_samples_split=3; total time=  11.5s\n",
      "[CV] END max_depth=22, min_samples_leaf=3, min_samples_split=3; total time=  11.8s\n",
      "[CV] END max_depth=22, min_samples_leaf=3, min_samples_split=3; total time=  10.4s\n",
      "[CV] END max_depth=22, min_samples_leaf=3, min_samples_split=4; total time=  10.4s\n",
      "[CV] END max_depth=22, min_samples_leaf=3, min_samples_split=4; total time=  10.5s\n",
      "[CV] END max_depth=22, min_samples_leaf=3, min_samples_split=4; total time=  11.1s\n",
      "[CV] END max_depth=22, min_samples_leaf=3, min_samples_split=4; total time=  10.7s\n",
      "[CV] END max_depth=22, min_samples_leaf=3, min_samples_split=4; total time=  10.6s\n",
      "[CV] END max_depth=23, min_samples_leaf=2, min_samples_split=2; total time=  10.8s\n",
      "[CV] END max_depth=23, min_samples_leaf=2, min_samples_split=2; total time=  11.2s\n",
      "[CV] END max_depth=23, min_samples_leaf=2, min_samples_split=2; total time=  11.3s\n",
      "[CV] END max_depth=23, min_samples_leaf=2, min_samples_split=2; total time=  11.9s\n",
      "[CV] END max_depth=23, min_samples_leaf=2, min_samples_split=2; total time=  11.7s\n",
      "[CV] END max_depth=23, min_samples_leaf=2, min_samples_split=3; total time=  14.0s\n",
      "[CV] END max_depth=23, min_samples_leaf=2, min_samples_split=3; total time=  13.2s\n",
      "[CV] END max_depth=23, min_samples_leaf=2, min_samples_split=3; total time=  12.2s\n",
      "[CV] END max_depth=23, min_samples_leaf=2, min_samples_split=3; total time=  10.7s\n",
      "[CV] END max_depth=23, min_samples_leaf=2, min_samples_split=3; total time=  10.8s\n",
      "[CV] END max_depth=23, min_samples_leaf=2, min_samples_split=4; total time=  11.0s\n",
      "[CV] END max_depth=23, min_samples_leaf=2, min_samples_split=4; total time=  11.0s\n",
      "[CV] END max_depth=23, min_samples_leaf=2, min_samples_split=4; total time=  11.5s\n",
      "[CV] END max_depth=23, min_samples_leaf=2, min_samples_split=4; total time=  11.4s\n",
      "[CV] END max_depth=23, min_samples_leaf=2, min_samples_split=4; total time=  12.2s\n",
      "[CV] END max_depth=23, min_samples_leaf=3, min_samples_split=2; total time=  13.0s\n",
      "[CV] END max_depth=23, min_samples_leaf=3, min_samples_split=2; total time=  11.7s\n",
      "[CV] END max_depth=23, min_samples_leaf=3, min_samples_split=2; total time=  11.7s\n",
      "[CV] END max_depth=23, min_samples_leaf=3, min_samples_split=2; total time=  11.0s\n",
      "[CV] END max_depth=23, min_samples_leaf=3, min_samples_split=2; total time=  11.8s\n",
      "[CV] END max_depth=23, min_samples_leaf=3, min_samples_split=3; total time=  15.2s\n",
      "[CV] END max_depth=23, min_samples_leaf=3, min_samples_split=3; total time=  13.1s\n",
      "[CV] END max_depth=23, min_samples_leaf=3, min_samples_split=3; total time=  33.1s\n",
      "[CV] END max_depth=23, min_samples_leaf=3, min_samples_split=3; total time=  42.6s\n",
      "[CV] END max_depth=23, min_samples_leaf=3, min_samples_split=3; total time=  19.7s\n",
      "[CV] END max_depth=23, min_samples_leaf=3, min_samples_split=4; total time=  11.3s\n",
      "[CV] END max_depth=23, min_samples_leaf=3, min_samples_split=4; total time=  11.5s\n",
      "[CV] END max_depth=23, min_samples_leaf=3, min_samples_split=4; total time=  11.7s\n",
      "[CV] END max_depth=23, min_samples_leaf=3, min_samples_split=4; total time=  20.5s\n",
      "[CV] END max_depth=23, min_samples_leaf=3, min_samples_split=4; total time=  20.3s\n"
     ]
    },
    {
     "data": {
      "text/plain": [
       "GridSearchCV(cv=5, estimator=RandomForestClassifier(),\n",
       "             param_grid={'max_depth': array([16, 17, 18, 19, 20, 21, 22, 23]),\n",
       "                         'min_samples_leaf': array([2, 3]),\n",
       "                         'min_samples_split': array([2, 3, 4])},\n",
       "             scoring=make_scorer(f1_score, average=macro), verbose=2)"
      ]
     },
     "execution_count": 82,
     "metadata": {},
     "output_type": "execute_result"
    }
   ],
   "source": [
    "modele_foret = RandomForestClassifier()\n",
    "f1 = make_scorer(f1_score , average='macro')\n",
    "modele_foret = GridSearchCV(modele_foret,\n",
    "                                  parameters,\n",
    "                                  scoring = f1,\n",
    "                                  verbose = 2, \n",
    "                                  cv = 5)\n",
    "modele_foret.fit(X_train_resampled, Y_train_resampled)"
   ]
  },
  {
   "cell_type": "code",
   "execution_count": 83,
   "id": "7c7637e9",
   "metadata": {},
   "outputs": [
    {
     "name": "stdout",
     "output_type": "stream",
     "text": [
      "Voici les paramètres du meilleure modèle : RandomForestClassifier(max_depth=23, min_samples_leaf=2, min_samples_split=3)\n",
      "Voici le make_scorer(f1_score, average=macro) du meilleure modèle : 0.7991936020291229\n"
     ]
    }
   ],
   "source": [
    "print(\"Voici les paramètres du meilleure modèle : \" + \n",
    "      str(modele_foret.best_estimator_))\n",
    "print(\"Voici le \"  + str(modele_foret.scorer_) + \n",
    "      \" du meilleure modèle : \" + str(modele_foret.best_score_))"
   ]
  },
  {
   "cell_type": "code",
   "execution_count": 84,
   "id": "9c06e32f",
   "metadata": {},
   "outputs": [
    {
     "data": {
      "text/html": [
       "<div>\n",
       "<style scoped>\n",
       "    .dataframe tbody tr th:only-of-type {\n",
       "        vertical-align: middle;\n",
       "    }\n",
       "\n",
       "    .dataframe tbody tr th {\n",
       "        vertical-align: top;\n",
       "    }\n",
       "\n",
       "    .dataframe thead th {\n",
       "        text-align: right;\n",
       "    }\n",
       "</style>\n",
       "<table border=\"1\" class=\"dataframe\">\n",
       "  <thead>\n",
       "    <tr style=\"text-align: right;\">\n",
       "      <th></th>\n",
       "      <th>pred_0</th>\n",
       "      <th>pred_1</th>\n",
       "    </tr>\n",
       "  </thead>\n",
       "  <tbody>\n",
       "    <tr>\n",
       "      <th>obs_0</th>\n",
       "      <td>592793</td>\n",
       "      <td>148045</td>\n",
       "    </tr>\n",
       "    <tr>\n",
       "      <th>obs_1</th>\n",
       "      <td>3012</td>\n",
       "      <td>3561</td>\n",
       "    </tr>\n",
       "  </tbody>\n",
       "</table>\n",
       "</div>"
      ],
      "text/plain": [
       "       pred_0  pred_1\n",
       "obs_0  592793  148045\n",
       "obs_1    3012    3561"
      ]
     },
     "execution_count": 84,
     "metadata": {},
     "output_type": "execute_result"
    }
   ],
   "source": [
    "Y_pred = modele_foret.predict(X_test)\n",
    "Y_pred_proba = modele_foret.predict_proba(X_test)\n",
    "from sklearn.metrics import confusion_matrix\n",
    "mc = pd.DataFrame(confusion_matrix(Y_test,Y_pred), \n",
    "                  columns=['pred_0','pred_1'],\n",
    "                  index=['obs_0','obs_1'])\n",
    "\n",
    "mc"
   ]
  },
  {
   "cell_type": "code",
   "execution_count": 85,
   "id": "a4a650b6",
   "metadata": {},
   "outputs": [
    {
     "name": "stdout",
     "output_type": "stream",
     "text": [
      "0.7978929932794674\n"
     ]
    }
   ],
   "source": [
    "from sklearn.metrics import accuracy_score\n",
    "print(accuracy_score(Y_test,Y_pred))"
   ]
  },
  {
   "cell_type": "code",
   "execution_count": 86,
   "id": "54e87efd",
   "metadata": {},
   "outputs": [
    {
     "name": "stdout",
     "output_type": "stream",
     "text": [
      "f1_score : 0.46600635734800766\n"
     ]
    }
   ],
   "source": [
    "from sklearn.metrics import f1_score\n",
    "print('f1_score : ' + \n",
    "      str(f1_score(Y_test,Y_pred, average='macro')))"
   ]
  },
  {
   "cell_type": "markdown",
   "id": "8c61bc51",
   "metadata": {},
   "source": [
    "## Adaboost"
   ]
  },
  {
   "cell_type": "code",
   "execution_count": 87,
   "id": "8d2985da",
   "metadata": {},
   "outputs": [
    {
     "data": {
      "text/plain": [
       "AdaBoostClassifier()"
      ]
     },
     "execution_count": 87,
     "metadata": {},
     "output_type": "execute_result"
    }
   ],
   "source": [
    "from sklearn.ensemble import AdaBoostClassifier\n",
    "\n",
    "model_adaboost = AdaBoostClassifier()\n",
    "model_adaboost.fit(X_train_resampled, Y_train_resampled)"
   ]
  },
  {
   "cell_type": "code",
   "execution_count": 88,
   "id": "562e126a",
   "metadata": {},
   "outputs": [
    {
     "data": {
      "text/html": [
       "<div>\n",
       "<style scoped>\n",
       "    .dataframe tbody tr th:only-of-type {\n",
       "        vertical-align: middle;\n",
       "    }\n",
       "\n",
       "    .dataframe tbody tr th {\n",
       "        vertical-align: top;\n",
       "    }\n",
       "\n",
       "    .dataframe thead th {\n",
       "        text-align: right;\n",
       "    }\n",
       "</style>\n",
       "<table border=\"1\" class=\"dataframe\">\n",
       "  <thead>\n",
       "    <tr style=\"text-align: right;\">\n",
       "      <th></th>\n",
       "      <th>pred_0</th>\n",
       "      <th>pred_1</th>\n",
       "    </tr>\n",
       "  </thead>\n",
       "  <tbody>\n",
       "    <tr>\n",
       "      <th>obs_0</th>\n",
       "      <td>642046</td>\n",
       "      <td>98792</td>\n",
       "    </tr>\n",
       "    <tr>\n",
       "      <th>obs_1</th>\n",
       "      <td>3565</td>\n",
       "      <td>3008</td>\n",
       "    </tr>\n",
       "  </tbody>\n",
       "</table>\n",
       "</div>"
      ],
      "text/plain": [
       "       pred_0  pred_1\n",
       "obs_0  642046   98792\n",
       "obs_1    3565    3008"
      ]
     },
     "execution_count": 88,
     "metadata": {},
     "output_type": "execute_result"
    }
   ],
   "source": [
    "Y_pred = model_adaboost.predict(X_test)\n",
    "Y_pred_proba = model_adaboost.predict_proba(X_test)\n",
    "from sklearn.metrics import confusion_matrix\n",
    "mc = pd.DataFrame(confusion_matrix(Y_test,Y_pred), \n",
    "                  columns=['pred_0','pred_1'],\n",
    "                  index=['obs_0','obs_1'])\n",
    "\n",
    "mc"
   ]
  },
  {
   "cell_type": "code",
   "execution_count": 89,
   "id": "ec64bf96",
   "metadata": {},
   "outputs": [
    {
     "name": "stdout",
     "output_type": "stream",
     "text": [
      "0.8630512529250974\n"
     ]
    }
   ],
   "source": [
    "from sklearn.metrics import accuracy_score\n",
    "print(accuracy_score(Y_test,Y_pred))"
   ]
  },
  {
   "cell_type": "code",
   "execution_count": 90,
   "id": "4b8fd814",
   "metadata": {},
   "outputs": [
    {
     "name": "stdout",
     "output_type": "stream",
     "text": [
      "f1_score : 0.4908426244342296\n"
     ]
    }
   ],
   "source": [
    "from sklearn.metrics import f1_score\n",
    "print('f1_score : ' + \n",
    "      str(f1_score(Y_test,Y_pred, average='macro')))"
   ]
  },
  {
   "cell_type": "markdown",
   "id": "d8a55852",
   "metadata": {},
   "source": [
    "## SVM"
   ]
  },
  {
   "cell_type": "code",
   "execution_count": 91,
   "id": "e235c334",
   "metadata": {},
   "outputs": [
    {
     "name": "stderr",
     "output_type": "stream",
     "text": [
      "Intel(R) Extension for Scikit-learn* enabled (https://github.com/intel/scikit-learn-intelex)\n"
     ]
    }
   ],
   "source": [
    "from sklearnex import patch_sklearn\n",
    "patch_sklearn(\"SVC\")"
   ]
  },
  {
   "cell_type": "code",
   "execution_count": 92,
   "id": "3287248b",
   "metadata": {},
   "outputs": [
    {
     "data": {
      "text/plain": [
       "SVC()"
      ]
     },
     "execution_count": 92,
     "metadata": {},
     "output_type": "execute_result"
    }
   ],
   "source": [
    "from sklearn.svm import SVC\n",
    "model_svm = SVC()\n",
    "model_svm.fit(X_train_resampled, Y_train_resampled)"
   ]
  },
  {
   "cell_type": "code",
   "execution_count": 93,
   "id": "bd8ebca5",
   "metadata": {},
   "outputs": [
    {
     "name": "stdout",
     "output_type": "stream",
     "text": [
      "[23429 23416]\n"
     ]
    }
   ],
   "source": [
    "print(model_svm.n_support_)"
   ]
  },
  {
   "cell_type": "code",
   "execution_count": 94,
   "id": "72ce4471",
   "metadata": {},
   "outputs": [
    {
     "data": {
      "text/html": [
       "<div>\n",
       "<style scoped>\n",
       "    .dataframe tbody tr th:only-of-type {\n",
       "        vertical-align: middle;\n",
       "    }\n",
       "\n",
       "    .dataframe tbody tr th {\n",
       "        vertical-align: top;\n",
       "    }\n",
       "\n",
       "    .dataframe thead th {\n",
       "        text-align: right;\n",
       "    }\n",
       "</style>\n",
       "<table border=\"1\" class=\"dataframe\">\n",
       "  <thead>\n",
       "    <tr style=\"text-align: right;\">\n",
       "      <th></th>\n",
       "      <th>pred_0</th>\n",
       "      <th>pred_1</th>\n",
       "    </tr>\n",
       "  </thead>\n",
       "  <tbody>\n",
       "    <tr>\n",
       "      <th>obs_0</th>\n",
       "      <td>740408</td>\n",
       "      <td>430</td>\n",
       "    </tr>\n",
       "    <tr>\n",
       "      <th>obs_1</th>\n",
       "      <td>6564</td>\n",
       "      <td>9</td>\n",
       "    </tr>\n",
       "  </tbody>\n",
       "</table>\n",
       "</div>"
      ],
      "text/plain": [
       "       pred_0  pred_1\n",
       "obs_0  740408     430\n",
       "obs_1    6564       9"
      ]
     },
     "execution_count": 94,
     "metadata": {},
     "output_type": "execute_result"
    }
   ],
   "source": [
    "Y_pred = model_svm.predict(X_test)\n",
    "from sklearn.metrics import confusion_matrix\n",
    "mc = pd.DataFrame(confusion_matrix(Y_test,Y_pred), \n",
    "                  columns=['pred_0','pred_1'],\n",
    "                  index=['obs_0','obs_1'])\n",
    "\n",
    "mc"
   ]
  },
  {
   "cell_type": "code",
   "execution_count": 95,
   "id": "f20cd15c",
   "metadata": {},
   "outputs": [
    {
     "name": "stdout",
     "output_type": "stream",
     "text": [
      "0.990642364107566\n"
     ]
    }
   ],
   "source": [
    "from sklearn.metrics import accuracy_score\n",
    "print(accuracy_score(Y_test,Y_pred))"
   ]
  },
  {
   "cell_type": "code",
   "execution_count": 96,
   "id": "02c9bdc1",
   "metadata": {},
   "outputs": [
    {
     "name": "stdout",
     "output_type": "stream",
     "text": [
      "f1_score : 0.4989330794447502\n"
     ]
    }
   ],
   "source": [
    "from sklearn.metrics import f1_score\n",
    "print('f1_score : ' + \n",
    "      str(f1_score(Y_test,Y_pred, average='macro')))"
   ]
  },
  {
   "cell_type": "markdown",
   "id": "0cdeafad",
   "metadata": {},
   "source": [
    "## Bagging"
   ]
  },
  {
   "cell_type": "code",
   "execution_count": 101,
   "id": "d157daae",
   "metadata": {},
   "outputs": [
    {
     "data": {
      "text/plain": [
       "BaggingClassifier(base_estimator=SVC())"
      ]
     },
     "execution_count": 101,
     "metadata": {},
     "output_type": "execute_result"
    }
   ],
   "source": [
    "from sklearn.ensemble import BaggingClassifier\n",
    "model_bagging = BaggingClassifier(SVC())\n",
    "\n",
    "model_bagging.fit(X_train_resampled, Y_train_resampled)"
   ]
  },
  {
   "cell_type": "code",
   "execution_count": 102,
   "id": "a9d2a753",
   "metadata": {},
   "outputs": [
    {
     "data": {
      "text/html": [
       "<div>\n",
       "<style scoped>\n",
       "    .dataframe tbody tr th:only-of-type {\n",
       "        vertical-align: middle;\n",
       "    }\n",
       "\n",
       "    .dataframe tbody tr th {\n",
       "        vertical-align: top;\n",
       "    }\n",
       "\n",
       "    .dataframe thead th {\n",
       "        text-align: right;\n",
       "    }\n",
       "</style>\n",
       "<table border=\"1\" class=\"dataframe\">\n",
       "  <thead>\n",
       "    <tr style=\"text-align: right;\">\n",
       "      <th></th>\n",
       "      <th>pred_0</th>\n",
       "      <th>pred_1</th>\n",
       "    </tr>\n",
       "  </thead>\n",
       "  <tbody>\n",
       "    <tr>\n",
       "      <th>obs_0</th>\n",
       "      <td>740518</td>\n",
       "      <td>320</td>\n",
       "    </tr>\n",
       "    <tr>\n",
       "      <th>obs_1</th>\n",
       "      <td>6565</td>\n",
       "      <td>8</td>\n",
       "    </tr>\n",
       "  </tbody>\n",
       "</table>\n",
       "</div>"
      ],
      "text/plain": [
       "       pred_0  pred_1\n",
       "obs_0  740518     320\n",
       "obs_1    6565       8"
      ]
     },
     "execution_count": 102,
     "metadata": {},
     "output_type": "execute_result"
    }
   ],
   "source": [
    "Y_pred = model_bagging.predict(X_test)\n",
    "from sklearn.metrics import confusion_matrix\n",
    "mc = pd.DataFrame(confusion_matrix(Y_test,Y_pred), \n",
    "                  columns=['pred_0','pred_1'],\n",
    "                  index=['obs_0','obs_1'])\n",
    "\n",
    "mc"
   ]
  },
  {
   "cell_type": "code",
   "execution_count": 103,
   "id": "509308c7",
   "metadata": {},
   "outputs": [
    {
     "name": "stdout",
     "output_type": "stream",
     "text": [
      "0.9907882008694012\n"
     ]
    }
   ],
   "source": [
    "from sklearn.metrics import accuracy_score\n",
    "print(accuracy_score(Y_test,Y_pred))"
   ]
  },
  {
   "cell_type": "code",
   "execution_count": 104,
   "id": "cb61545b",
   "metadata": {},
   "outputs": [
    {
     "name": "stdout",
     "output_type": "stream",
     "text": [
      "f1_score : 0.49884562138386324\n"
     ]
    }
   ],
   "source": [
    "from sklearn.metrics import f1_score\n",
    "print('f1_score : ' + \n",
    "      str(f1_score(Y_test,Y_pred, average='macro')))"
   ]
  },
  {
   "cell_type": "code",
   "execution_count": null,
   "id": "137626eb",
   "metadata": {},
   "outputs": [],
   "source": []
  }
 ],
 "metadata": {
  "kernelspec": {
   "display_name": "Python 3 (ipykernel)",
   "language": "python",
   "name": "python3"
  },
  "language_info": {
   "codemirror_mode": {
    "name": "ipython",
    "version": 3
   },
   "file_extension": ".py",
   "mimetype": "text/x-python",
   "name": "python",
   "nbconvert_exporter": "python",
   "pygments_lexer": "ipython3",
   "version": "3.9.13"
  }
 },
 "nbformat": 4,
 "nbformat_minor": 5
}
